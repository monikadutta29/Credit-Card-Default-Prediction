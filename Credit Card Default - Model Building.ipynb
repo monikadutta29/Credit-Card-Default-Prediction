{
 "cells": [
  {
   "cell_type": "code",
   "execution_count": 1,
   "metadata": {},
   "outputs": [],
   "source": [
    "# importing libraries\n",
    "import pandas as pd\n",
    "import numpy as np\n",
    "import matplotlib.pyplot as plt\n",
    "import seaborn as sns"
   ]
  },
  {
   "cell_type": "code",
   "execution_count": 2,
   "metadata": {},
   "outputs": [],
   "source": [
    "import warnings\n",
    "from sklearn.exceptions import DataConversionWarning\n",
    "warnings.filterwarnings(action='ignore', category=DataConversionWarning)\n",
    "warnings.simplefilter(action='ignore', category=FutureWarning)"
   ]
  },
  {
   "cell_type": "code",
   "execution_count": 3,
   "metadata": {},
   "outputs": [],
   "source": [
    "import statsmodels.api as sm\n",
    "from scipy.stats import randint as sp_randint\n",
    "from sklearn.model_selection import GridSearchCV,RandomizedSearchCV\n",
    "from sklearn.model_selection import train_test_split\n",
    "from sklearn.model_selection import KFold,cross_val_score\n",
    "from sklearn.metrics import classification_report,confusion_matrix\n",
    "from sklearn.metrics import roc_auc_score, roc_curve, accuracy_score"
   ]
  },
  {
   "cell_type": "code",
   "execution_count": 4,
   "metadata": {},
   "outputs": [],
   "source": [
    "from sklearn.preprocessing import StandardScaler\n",
    "from sklearn.linear_model import LogisticRegression\n",
    "from sklearn.neighbors import KNeighborsClassifier\n",
    "from sklearn.tree import DecisionTreeClassifier\n",
    "from sklearn.naive_bayes import GaussianNB\n",
    "from sklearn.ensemble import RandomForestClassifier, AdaBoostClassifier\n",
    "from sklearn.ensemble import GradientBoostingClassifier, BaggingClassifier,VotingClassifier\n",
    "from lightgbm import LGBMClassifier"
   ]
  },
  {
   "cell_type": "code",
   "execution_count": 5,
   "metadata": {},
   "outputs": [],
   "source": [
    "# reading data\n",
    "\n",
    "df = pd.read_csv('credit_card.csv')"
   ]
  },
  {
   "cell_type": "code",
   "execution_count": 6,
   "metadata": {},
   "outputs": [
    {
     "data": {
      "text/html": [
       "<div>\n",
       "<style scoped>\n",
       "    .dataframe tbody tr th:only-of-type {\n",
       "        vertical-align: middle;\n",
       "    }\n",
       "\n",
       "    .dataframe tbody tr th {\n",
       "        vertical-align: top;\n",
       "    }\n",
       "\n",
       "    .dataframe thead th {\n",
       "        text-align: right;\n",
       "    }\n",
       "</style>\n",
       "<table border=\"1\" class=\"dataframe\">\n",
       "  <thead>\n",
       "    <tr style=\"text-align: right;\">\n",
       "      <th></th>\n",
       "      <th>ID</th>\n",
       "      <th>LIMIT_BAL</th>\n",
       "      <th>SEX</th>\n",
       "      <th>EDUCATION</th>\n",
       "      <th>MARRIAGE</th>\n",
       "      <th>AGE</th>\n",
       "      <th>PAY_1</th>\n",
       "      <th>PAY_2</th>\n",
       "      <th>PAY_3</th>\n",
       "      <th>PAY_4</th>\n",
       "      <th>...</th>\n",
       "      <th>BILL_AMT4</th>\n",
       "      <th>BILL_AMT5</th>\n",
       "      <th>BILL_AMT6</th>\n",
       "      <th>PAY_AMT1</th>\n",
       "      <th>PAY_AMT2</th>\n",
       "      <th>PAY_AMT3</th>\n",
       "      <th>PAY_AMT4</th>\n",
       "      <th>PAY_AMT5</th>\n",
       "      <th>PAY_AMT6</th>\n",
       "      <th>DEFAULT</th>\n",
       "    </tr>\n",
       "  </thead>\n",
       "  <tbody>\n",
       "    <tr>\n",
       "      <td>0</td>\n",
       "      <td>1</td>\n",
       "      <td>20000</td>\n",
       "      <td>2</td>\n",
       "      <td>2</td>\n",
       "      <td>1</td>\n",
       "      <td>24</td>\n",
       "      <td>2</td>\n",
       "      <td>2</td>\n",
       "      <td>-1</td>\n",
       "      <td>-1</td>\n",
       "      <td>...</td>\n",
       "      <td>0</td>\n",
       "      <td>0</td>\n",
       "      <td>0</td>\n",
       "      <td>0</td>\n",
       "      <td>689</td>\n",
       "      <td>0</td>\n",
       "      <td>0</td>\n",
       "      <td>0</td>\n",
       "      <td>0</td>\n",
       "      <td>1</td>\n",
       "    </tr>\n",
       "    <tr>\n",
       "      <td>1</td>\n",
       "      <td>2</td>\n",
       "      <td>120000</td>\n",
       "      <td>2</td>\n",
       "      <td>2</td>\n",
       "      <td>2</td>\n",
       "      <td>26</td>\n",
       "      <td>-1</td>\n",
       "      <td>2</td>\n",
       "      <td>0</td>\n",
       "      <td>0</td>\n",
       "      <td>...</td>\n",
       "      <td>3272</td>\n",
       "      <td>3455</td>\n",
       "      <td>3261</td>\n",
       "      <td>0</td>\n",
       "      <td>1000</td>\n",
       "      <td>1000</td>\n",
       "      <td>1000</td>\n",
       "      <td>0</td>\n",
       "      <td>2000</td>\n",
       "      <td>1</td>\n",
       "    </tr>\n",
       "    <tr>\n",
       "      <td>2</td>\n",
       "      <td>3</td>\n",
       "      <td>90000</td>\n",
       "      <td>2</td>\n",
       "      <td>2</td>\n",
       "      <td>2</td>\n",
       "      <td>34</td>\n",
       "      <td>0</td>\n",
       "      <td>0</td>\n",
       "      <td>0</td>\n",
       "      <td>0</td>\n",
       "      <td>...</td>\n",
       "      <td>14331</td>\n",
       "      <td>14948</td>\n",
       "      <td>15549</td>\n",
       "      <td>1518</td>\n",
       "      <td>1500</td>\n",
       "      <td>1000</td>\n",
       "      <td>1000</td>\n",
       "      <td>1000</td>\n",
       "      <td>5000</td>\n",
       "      <td>0</td>\n",
       "    </tr>\n",
       "    <tr>\n",
       "      <td>3</td>\n",
       "      <td>4</td>\n",
       "      <td>50000</td>\n",
       "      <td>2</td>\n",
       "      <td>2</td>\n",
       "      <td>1</td>\n",
       "      <td>37</td>\n",
       "      <td>0</td>\n",
       "      <td>0</td>\n",
       "      <td>0</td>\n",
       "      <td>0</td>\n",
       "      <td>...</td>\n",
       "      <td>28314</td>\n",
       "      <td>28959</td>\n",
       "      <td>29547</td>\n",
       "      <td>2000</td>\n",
       "      <td>2019</td>\n",
       "      <td>1200</td>\n",
       "      <td>1100</td>\n",
       "      <td>1069</td>\n",
       "      <td>1000</td>\n",
       "      <td>0</td>\n",
       "    </tr>\n",
       "    <tr>\n",
       "      <td>4</td>\n",
       "      <td>5</td>\n",
       "      <td>50000</td>\n",
       "      <td>1</td>\n",
       "      <td>2</td>\n",
       "      <td>1</td>\n",
       "      <td>57</td>\n",
       "      <td>-1</td>\n",
       "      <td>0</td>\n",
       "      <td>-1</td>\n",
       "      <td>0</td>\n",
       "      <td>...</td>\n",
       "      <td>20940</td>\n",
       "      <td>19146</td>\n",
       "      <td>19131</td>\n",
       "      <td>2000</td>\n",
       "      <td>36681</td>\n",
       "      <td>10000</td>\n",
       "      <td>9000</td>\n",
       "      <td>689</td>\n",
       "      <td>679</td>\n",
       "      <td>0</td>\n",
       "    </tr>\n",
       "  </tbody>\n",
       "</table>\n",
       "<p>5 rows × 25 columns</p>\n",
       "</div>"
      ],
      "text/plain": [
       "   ID  LIMIT_BAL  SEX  EDUCATION  MARRIAGE  AGE  PAY_1  PAY_2  PAY_3  PAY_4  \\\n",
       "0   1      20000    2          2         1   24      2      2     -1     -1   \n",
       "1   2     120000    2          2         2   26     -1      2      0      0   \n",
       "2   3      90000    2          2         2   34      0      0      0      0   \n",
       "3   4      50000    2          2         1   37      0      0      0      0   \n",
       "4   5      50000    1          2         1   57     -1      0     -1      0   \n",
       "\n",
       "   ...  BILL_AMT4  BILL_AMT5  BILL_AMT6  PAY_AMT1  PAY_AMT2  PAY_AMT3  \\\n",
       "0  ...          0          0          0         0       689         0   \n",
       "1  ...       3272       3455       3261         0      1000      1000   \n",
       "2  ...      14331      14948      15549      1518      1500      1000   \n",
       "3  ...      28314      28959      29547      2000      2019      1200   \n",
       "4  ...      20940      19146      19131      2000     36681     10000   \n",
       "\n",
       "   PAY_AMT4  PAY_AMT5  PAY_AMT6  DEFAULT  \n",
       "0         0         0         0        1  \n",
       "1      1000         0      2000        1  \n",
       "2      1000      1000      5000        0  \n",
       "3      1100      1069      1000        0  \n",
       "4      9000       689       679        0  \n",
       "\n",
       "[5 rows x 25 columns]"
      ]
     },
     "execution_count": 6,
     "metadata": {},
     "output_type": "execute_result"
    }
   ],
   "source": [
    "df.head()"
   ]
  },
  {
   "cell_type": "code",
   "execution_count": 7,
   "metadata": {},
   "outputs": [
    {
     "data": {
      "text/plain": [
       "Index(['id', 'limit_bal', 'sex', 'education', 'marriage', 'age', 'pay_1',\n",
       "       'pay_2', 'pay_3', 'pay_4', 'pay_5', 'pay_6', 'bill_amt1', 'bill_amt2',\n",
       "       'bill_amt3', 'bill_amt4', 'bill_amt5', 'bill_amt6', 'pay_amt1',\n",
       "       'pay_amt2', 'pay_amt3', 'pay_amt4', 'pay_amt5', 'pay_amt6', 'default'],\n",
       "      dtype='object')"
      ]
     },
     "execution_count": 7,
     "metadata": {},
     "output_type": "execute_result"
    }
   ],
   "source": [
    "# converting column names in lower case\n",
    "\n",
    "df.columns = map(str.lower, df.columns)\n",
    "df.columns"
   ]
  },
  {
   "cell_type": "code",
   "execution_count": 8,
   "metadata": {},
   "outputs": [],
   "source": [
    "df2 = df.copy()"
   ]
  },
  {
   "cell_type": "code",
   "execution_count": 9,
   "metadata": {},
   "outputs": [
    {
     "data": {
      "text/html": [
       "<div>\n",
       "<style scoped>\n",
       "    .dataframe tbody tr th:only-of-type {\n",
       "        vertical-align: middle;\n",
       "    }\n",
       "\n",
       "    .dataframe tbody tr th {\n",
       "        vertical-align: top;\n",
       "    }\n",
       "\n",
       "    .dataframe thead th {\n",
       "        text-align: right;\n",
       "    }\n",
       "</style>\n",
       "<table border=\"1\" class=\"dataframe\">\n",
       "  <thead>\n",
       "    <tr style=\"text-align: right;\">\n",
       "      <th></th>\n",
       "      <th>id</th>\n",
       "      <th>limit_bal</th>\n",
       "      <th>sex</th>\n",
       "      <th>education</th>\n",
       "      <th>marriage</th>\n",
       "      <th>age</th>\n",
       "      <th>pay_1</th>\n",
       "      <th>pay_2</th>\n",
       "      <th>pay_3</th>\n",
       "      <th>pay_4</th>\n",
       "      <th>...</th>\n",
       "      <th>bill_amt4</th>\n",
       "      <th>bill_amt5</th>\n",
       "      <th>bill_amt6</th>\n",
       "      <th>pay_amt1</th>\n",
       "      <th>pay_amt2</th>\n",
       "      <th>pay_amt3</th>\n",
       "      <th>pay_amt4</th>\n",
       "      <th>pay_amt5</th>\n",
       "      <th>pay_amt6</th>\n",
       "      <th>default</th>\n",
       "    </tr>\n",
       "  </thead>\n",
       "  <tbody>\n",
       "    <tr>\n",
       "      <td>0</td>\n",
       "      <td>1</td>\n",
       "      <td>20000</td>\n",
       "      <td>2</td>\n",
       "      <td>2</td>\n",
       "      <td>1</td>\n",
       "      <td>24</td>\n",
       "      <td>2</td>\n",
       "      <td>2</td>\n",
       "      <td>-1</td>\n",
       "      <td>-1</td>\n",
       "      <td>...</td>\n",
       "      <td>0</td>\n",
       "      <td>0</td>\n",
       "      <td>0</td>\n",
       "      <td>0</td>\n",
       "      <td>689</td>\n",
       "      <td>0</td>\n",
       "      <td>0</td>\n",
       "      <td>0</td>\n",
       "      <td>0</td>\n",
       "      <td>1</td>\n",
       "    </tr>\n",
       "    <tr>\n",
       "      <td>1</td>\n",
       "      <td>2</td>\n",
       "      <td>120000</td>\n",
       "      <td>2</td>\n",
       "      <td>2</td>\n",
       "      <td>2</td>\n",
       "      <td>26</td>\n",
       "      <td>-1</td>\n",
       "      <td>2</td>\n",
       "      <td>0</td>\n",
       "      <td>0</td>\n",
       "      <td>...</td>\n",
       "      <td>3272</td>\n",
       "      <td>3455</td>\n",
       "      <td>3261</td>\n",
       "      <td>0</td>\n",
       "      <td>1000</td>\n",
       "      <td>1000</td>\n",
       "      <td>1000</td>\n",
       "      <td>0</td>\n",
       "      <td>2000</td>\n",
       "      <td>1</td>\n",
       "    </tr>\n",
       "  </tbody>\n",
       "</table>\n",
       "<p>2 rows × 25 columns</p>\n",
       "</div>"
      ],
      "text/plain": [
       "   id  limit_bal  sex  education  marriage  age  pay_1  pay_2  pay_3  pay_4  \\\n",
       "0   1      20000    2          2         1   24      2      2     -1     -1   \n",
       "1   2     120000    2          2         2   26     -1      2      0      0   \n",
       "\n",
       "   ...  bill_amt4  bill_amt5  bill_amt6  pay_amt1  pay_amt2  pay_amt3  \\\n",
       "0  ...          0          0          0         0       689         0   \n",
       "1  ...       3272       3455       3261         0      1000      1000   \n",
       "\n",
       "   pay_amt4  pay_amt5  pay_amt6  default  \n",
       "0         0         0         0        1  \n",
       "1      1000         0      2000        1  \n",
       "\n",
       "[2 rows x 25 columns]"
      ]
     },
     "execution_count": 9,
     "metadata": {},
     "output_type": "execute_result"
    }
   ],
   "source": [
    "df2.head(2)"
   ]
  },
  {
   "cell_type": "code",
   "execution_count": 10,
   "metadata": {},
   "outputs": [],
   "source": [
    "# droping id col(irrelevant)\n",
    "\n",
    "df2.drop('id',axis=1,inplace=True)"
   ]
  },
  {
   "cell_type": "code",
   "execution_count": 54,
   "metadata": {},
   "outputs": [
    {
     "name": "stdout",
     "output_type": "stream",
     "text": [
      "limit_bal has no null values.\n",
      "sex has no null values.\n",
      "education has no null values.\n",
      "marriage has no null values.\n",
      "age has no null values.\n",
      "pay_1 has no null values.\n",
      "pay_2 has no null values.\n",
      "pay_3 has no null values.\n",
      "pay_4 has no null values.\n",
      "pay_5 has no null values.\n",
      "pay_6 has no null values.\n",
      "bill_amt1 has no null values.\n",
      "bill_amt2 has no null values.\n",
      "bill_amt3 has no null values.\n",
      "bill_amt4 has no null values.\n",
      "bill_amt5 has no null values.\n",
      "bill_amt6 has no null values.\n",
      "pay_amt1 has no null values.\n",
      "pay_amt2 has no null values.\n",
      "pay_amt3 has no null values.\n",
      "pay_amt4 has no null values.\n",
      "pay_amt5 has no null values.\n",
      "pay_amt6 has no null values.\n",
      "default has no null values.\n"
     ]
    }
   ],
   "source": [
    "## Checking Null Values\n",
    "\n",
    "for i in df2.columns:\n",
    "    if df[i].isnull().sum()>0:\n",
    "        print(i,' has null values.' )\n",
    "    else:\n",
    "        print(i,'has no null values.')"
   ]
  },
  {
   "cell_type": "code",
   "execution_count": 59,
   "metadata": {},
   "outputs": [
    {
     "name": "stdout",
     "output_type": "stream",
     "text": [
      "0    77.88\n",
      "1    22.12\n",
      "Name: default, dtype: float64\n"
     ]
    },
    {
     "data": {
      "image/png": "[encoded data removed]",
      "text/plain": [
       "<Figure size 432x288 with 1 Axes>"
      ]
     },
     "metadata": {
      "needs_background": "light"
     },
     "output_type": "display_data"
    }
   ],
   "source": [
    "# Checking Imbalance in the Target Column\n",
    "\n",
    "print(df['default'].value_counts(normalize=True)*100)\n",
    "\n",
    "sns.countplot(x='default',data=df2)\n",
    "plt.show()"
   ]
  },
  {
   "cell_type": "markdown",
   "metadata": {},
   "source": [
    "**Non-defaulters are 77.88% and Defaulters are 22.12% of the whole data.**\n",
    "**Partial Imbalance**"
   ]
  },
  {
   "cell_type": "code",
   "execution_count": 11,
   "metadata": {},
   "outputs": [
    {
     "name": "stdout",
     "output_type": "stream",
     "text": [
      "2    15964\n",
      "1    13659\n",
      "3      323\n",
      "0       54\n",
      "Name: marriage, dtype: int64\n",
      "2    18112\n",
      "1    11888\n",
      "Name: sex, dtype: int64\n",
      "2    14030\n",
      "1    10585\n",
      "3     4917\n",
      "5      280\n",
      "4      123\n",
      "6       51\n",
      "0       14\n",
      "Name: education, dtype: int64\n"
     ]
    }
   ],
   "source": [
    "# as we can see there are values in these columns whose decription is not provided\n",
    "\n",
    "print(df2.marriage.value_counts())\n",
    "print(df2.sex.value_counts())\n",
    "print(df2.education.value_counts())"
   ]
  },
  {
   "cell_type": "code",
   "execution_count": 12,
   "metadata": {},
   "outputs": [],
   "source": [
    "# replacing not specified values in others category\n",
    "\n",
    "df2['education']  = df2['education'].apply(lambda x:x if (x>0 and x<4) else 4)\n",
    "df2['marriage'] = df2['marriage'].apply(lambda x:x if (x>0 and x<3) else 3)"
   ]
  },
  {
   "cell_type": "code",
   "execution_count": 13,
   "metadata": {
    "scrolled": true
   },
   "outputs": [
    {
     "name": "stdout",
     "output_type": "stream",
     "text": [
      "2    15964\n",
      "1    13659\n",
      "3      377\n",
      "Name: marriage, dtype: int64\n",
      "2    18112\n",
      "1    11888\n",
      "Name: sex, dtype: int64\n",
      "2    14030\n",
      "1    10585\n",
      "3     4917\n",
      "4      468\n",
      "Name: education, dtype: int64\n"
     ]
    }
   ],
   "source": [
    "print(df2.marriage.value_counts())\n",
    "print(df2.sex.value_counts())\n",
    "print(df2.education.value_counts())"
   ]
  },
  {
   "cell_type": "raw",
   "metadata": {},
   "source": [
    "1 = graduate school; 2 = university; 3 = high school; 4 = others\n",
    "1 = married; 2 = single; 3 = others\n",
    "2 = female; 1 = male"
   ]
  },
  {
   "cell_type": "code",
   "execution_count": 18,
   "metadata": {},
   "outputs": [],
   "source": [
    "# before applying get dummies replacing encoded value by string value\n",
    "\n",
    "df2['sex'].replace({2:'female',1:'male'},inplace=True)\n",
    "df2['education'].replace({1:'grad_school',2:'university',3:'high_sch',4:'others'},inplace=True)\n",
    "df2['marriage'].replace({1:'married',2:'single',3:'others'},inplace=True)"
   ]
  },
  {
   "cell_type": "code",
   "execution_count": 19,
   "metadata": {},
   "outputs": [
    {
     "name": "stdout",
     "output_type": "stream",
     "text": [
      "single     15964\n",
      "married    13659\n",
      "others       377\n",
      "Name: marriage, dtype: int64\n",
      "female    18112\n",
      "male      11888\n",
      "Name: sex, dtype: int64\n",
      "university     14030\n",
      "grad school    10585\n",
      "high_sch        4917\n",
      "others           468\n",
      "Name: education, dtype: int64\n"
     ]
    }
   ],
   "source": [
    "print(df2.marriage.value_counts())\n",
    "print(df2.sex.value_counts())\n",
    "print(df2.education.value_counts())"
   ]
  },
  {
   "cell_type": "markdown",
   "metadata": {},
   "source": [
    "# EDA"
   ]
  },
  {
   "cell_type": "markdown",
   "metadata": {},
   "source": [
    "**1. SEX Column**"
   ]
  },
  {
   "cell_type": "code",
   "execution_count": 57,
   "metadata": {},
   "outputs": [
    {
     "name": "stdout",
     "output_type": "stream",
     "text": [
      "female    60.373333\n",
      "male      39.626667\n",
      "Name: sex, dtype: float64\n"
     ]
    },
    {
     "data": {
      "image/png": "[encoded data removed]",
      "text/plain": [
       "<Figure size 432x288 with 1 Axes>"
      ]
     },
     "metadata": {
      "needs_background": "light"
     },
     "output_type": "display_data"
    }
   ],
   "source": [
    "print(df2['sex'].value_counts(normalize=True)*100)\n",
    "sns.countplot(x='sex',data=df2)\n",
    "\n",
    "plt.show()\n"
   ]
  },
  {
   "cell_type": "code",
   "execution_count": 56,
   "metadata": {},
   "outputs": [
    {
     "name": "stdout",
     "output_type": "stream",
     "text": [
      "female    56.705847\n",
      "male      43.294153\n",
      "Name: sex, dtype: float64\n"
     ]
    },
    {
     "data": {
      "image/png": "[encoded data removed]",
      "text/plain": [
       "<Figure size 432x288 with 1 Axes>"
      ]
     },
     "metadata": {
      "needs_background": "light"
     },
     "output_type": "display_data"
    }
   ],
   "source": [
    "print(df2[df2['default']==1]['sex'].value_counts(normalize=True)*100) \n",
    "\n",
    "sns.countplot(x='sex', hue = 'default',data=df2)\n",
    "\n",
    "plt.show()"
   ]
  },
  {
   "cell_type": "markdown",
   "metadata": {},
   "source": [
    "**2. EDUCATION Column**"
   ]
  },
  {
   "cell_type": "code",
   "execution_count": 33,
   "metadata": {},
   "outputs": [
    {
     "name": "stdout",
     "output_type": "stream",
     "text": [
      "university     46.766667\n",
      "grad school    35.283333\n",
      "high_sch       16.390000\n",
      "others          1.560000\n",
      "Name: education, dtype: float64\n"
     ]
    },
    {
     "data": {
      "image/png": "[encoded data removed]",
      "text/plain": [
       "<Figure size 432x288 with 1 Axes>"
      ]
     },
     "metadata": {
      "needs_background": "light"
     },
     "output_type": "display_data"
    }
   ],
   "source": [
    "print(df2['education'].value_counts(normalize=True)*100)\n",
    "\n",
    "sns.countplot(x='education',data=df2)\n",
    "\n",
    "plt.show()"
   ]
  },
  {
   "cell_type": "code",
   "execution_count": 35,
   "metadata": {},
   "outputs": [
    {
     "name": "stdout",
     "output_type": "stream",
     "text": [
      "university     50.180832\n",
      "grad school    30.681133\n",
      "high_sch       18.640747\n",
      "others          0.497288\n",
      "Name: education, dtype: float64\n"
     ]
    },
    {
     "data": {
      "image/png": "[encoded data removed]",
      "text/plain": [
       "<Figure size 432x288 with 1 Axes>"
      ]
     },
     "metadata": {
      "needs_background": "light"
     },
     "output_type": "display_data"
    }
   ],
   "source": [
    "print(df2[df2['default']==1]['education'].value_counts(normalize=True)*100)\n",
    "\n",
    "sns.countplot(x='education', hue = 'default',data=df2)\n",
    "\n",
    "plt.show()"
   ]
  },
  {
   "cell_type": "markdown",
   "metadata": {},
   "source": [
    "**4. MARRIAGE Column**\n"
   ]
  },
  {
   "cell_type": "code",
   "execution_count": 38,
   "metadata": {},
   "outputs": [
    {
     "name": "stdout",
     "output_type": "stream",
     "text": [
      "single     53.213333\n",
      "married    45.530000\n",
      "others      1.256667\n",
      "Name: marriage, dtype: float64\n"
     ]
    },
    {
     "data": {
      "image/png": "[encoded data removed]",
      "text/plain": [
       "<Figure size 432x288 with 1 Axes>"
      ]
     },
     "metadata": {
      "needs_background": "light"
     },
     "output_type": "display_data"
    }
   ],
   "source": [
    "print(df2['marriage'].value_counts(normalize=True)*100)\n",
    "\n",
    "sns.countplot(x='marriage',data=df2)\n",
    "\n",
    "plt.show()"
   ]
  },
  {
   "cell_type": "code",
   "execution_count": 39,
   "metadata": {},
   "outputs": [
    {
     "name": "stdout",
     "output_type": "stream",
     "text": [
      "single     50.346594\n",
      "married    48.312236\n",
      "others      1.341169\n",
      "Name: marriage, dtype: float64\n"
     ]
    },
    {
     "data": {
      "image/png": "[encoded data removed]",
      "text/plain": [
       "<Figure size 432x288 with 1 Axes>"
      ]
     },
     "metadata": {
      "needs_background": "light"
     },
     "output_type": "display_data"
    }
   ],
   "source": [
    "print(df2[df2['default']==1]['marriage'].value_counts(normalize=True)*100)\n",
    "\n",
    "sns.countplot(x='marriage', hue = 'default',data=df2)\n",
    "\n",
    "plt.show()"
   ]
  },
  {
   "cell_type": "markdown",
   "metadata": {},
   "source": [
    "**3. AGE Column**"
   ]
  },
  {
   "cell_type": "code",
   "execution_count": 52,
   "metadata": {},
   "outputs": [
    {
     "name": "stdout",
     "output_type": "stream",
     "text": [
      "Mean age of the sample:  35.4855\n",
      "Median age of the sample:  34.0\n",
      "Mode of the sample:  29\n"
     ]
    },
    {
     "data": {
      "image/png": "[encoded data removed]",
      "text/plain": [
       "<Figure size 432x288 with 1 Axes>"
      ]
     },
     "metadata": {
      "needs_background": "light"
     },
     "output_type": "display_data"
    }
   ],
   "source": [
    "print('Mean age of the sample: ',df2['age'].mean())\n",
    "print('Median age of the sample: ',df2['age'].median())\n",
    "print('Mode of the sample: ',df2['age'].mode()[0])\n",
    "\n",
    "\n",
    "sns.distplot(df2['age'],bins=5)\n",
    "plt.show()"
   ]
  },
  {
   "cell_type": "markdown",
   "metadata": {},
   "source": [
    "**4. REPAYMENT STATUS Columns**\n"
   ]
  },
  {
   "cell_type": "code",
   "execution_count": 53,
   "metadata": {},
   "outputs": [
    {
     "data": {
      "image/png": "[encoded data removed]",
      "text/plain": [
       "<Figure size 1368x1008 with 6 Axes>"
      ]
     },
     "metadata": {},
     "output_type": "display_data"
    }
   ],
   "source": [
    "f, axes = plt.subplots(2, 3, figsize=(19,14), facecolor='white')\n",
    "f.suptitle(\"FREQUENCY OF REPAYMENT STATUS (BY TARGET)\",size=15)\n",
    "ax1 = sns.countplot(x='pay_1', hue = 'default', data=df2, palette='Reds', ax=axes[0,0])\n",
    "ax2 = sns.countplot(x='pay_2', hue = 'default', data=df2, palette='Reds', ax=axes[0,1])\n",
    "ax3 = sns.countplot(x='pay_3', hue = 'default', data=df2, palette='Reds', ax=axes[0,2])\n",
    "ax4 = sns.countplot(x='pay_4', hue = 'default', data=df2, palette='Reds', ax=axes[1,0])\n",
    "ax5 = sns.countplot(x='pay_5', hue = 'default', data=df2, palette='Reds', ax=axes[1,1])\n",
    "ax6 = sns.countplot(x='pay_6', hue = 'default', data=df2, palette='Reds', ax=axes[1,2])"
   ]
  },
  {
   "cell_type": "markdown",
   "metadata": {},
   "source": [
    "**Checking correlation between Bill_Amt**\n"
   ]
  },
  {
   "cell_type": "code",
   "execution_count": 42,
   "metadata": {},
   "outputs": [
    {
     "name": "stdout",
     "output_type": "stream",
     "text": [
      "           bill_amt1  bill_amt2  bill_amt3  bill_amt4  bill_amt5  bill_amt6\n",
      "bill_amt1   1.000000   0.951484   0.892279   0.860272   0.829779   0.802650\n",
      "bill_amt2   0.951484   1.000000   0.928326   0.892482   0.859778   0.831594\n",
      "bill_amt3   0.892279   0.928326   1.000000   0.923969   0.883910   0.853320\n",
      "bill_amt4   0.860272   0.892482   0.923969   1.000000   0.940134   0.900941\n",
      "bill_amt5   0.829779   0.859778   0.883910   0.940134   1.000000   0.946197\n",
      "bill_amt6   0.802650   0.831594   0.853320   0.900941   0.946197   1.000000\n"
     ]
    },
    {
     "data": {
      "image/png": "[encoded data removed]",
      "text/plain": [
       "<Figure size 720x576 with 2 Axes>"
      ]
     },
     "metadata": {
      "needs_background": "light"
     },
     "output_type": "display_data"
    }
   ],
   "source": [
    "corr_bill_amt = df2[['bill_amt1', 'bill_amt2','bill_amt3', 'bill_amt4', 'bill_amt5', 'bill_amt6']].corr()\n",
    "print(corr_bill_amt)\n",
    "plt.figure(figsize=(10,8))\n",
    "sns.heatmap(corr_bill_amt,annot=True)\n",
    "plt.title('CRRELATION BETWEEN BILL AMOUNT')\n",
    "plt.show()"
   ]
  },
  {
   "cell_type": "markdown",
   "metadata": {},
   "source": [
    "**Checking correlation between Pay_Amt**"
   ]
  },
  {
   "cell_type": "code",
   "execution_count": 41,
   "metadata": {},
   "outputs": [
    {
     "name": "stdout",
     "output_type": "stream",
     "text": [
      "          pay_amt1  pay_amt2  pay_amt3  pay_amt4  pay_amt5  pay_amt6\n",
      "pay_amt1  1.000000  0.285576  0.252191  0.199558  0.148459  0.185735\n",
      "pay_amt2  0.285576  1.000000  0.244770  0.180107  0.180908  0.157634\n",
      "pay_amt3  0.252191  0.244770  1.000000  0.216325  0.159214  0.162740\n",
      "pay_amt4  0.199558  0.180107  0.216325  1.000000  0.151830  0.157834\n",
      "pay_amt5  0.148459  0.180908  0.159214  0.151830  1.000000  0.154896\n",
      "pay_amt6  0.185735  0.157634  0.162740  0.157834  0.154896  1.000000\n"
     ]
    },
    {
     "data": {
      "image/png": "[encoded data removed]",
      "text/plain": [
       "<Figure size 720x576 with 2 Axes>"
      ]
     },
     "metadata": {
      "needs_background": "light"
     },
     "output_type": "display_data"
    }
   ],
   "source": [
    "corr_pay_amt = df2[['pay_amt1','pay_amt2', 'pay_amt3', 'pay_amt4', 'pay_amt5', 'pay_amt6']].corr()\n",
    "print(corr_pay_amt)\n",
    "\n",
    "plt.figure(figsize=(10,8))\n",
    "sns.heatmap(corr_pay_amt,annot=True)\n",
    "plt.title('CRRELATION BETWEEN PAY AMOUNT')\n",
    "\n",
    "plt.show()"
   ]
  },
  {
   "cell_type": "markdown",
   "metadata": {},
   "source": [
    "**Checking correlation between Pay (Repayment Status)**\n"
   ]
  },
  {
   "cell_type": "code",
   "execution_count": 44,
   "metadata": {},
   "outputs": [
    {
     "name": "stdout",
     "output_type": "stream",
     "text": [
      "          pay_1     pay_2     pay_3     pay_4     pay_5     pay_6\n",
      "pay_1  1.000000  0.672164  0.574245  0.538841  0.509426  0.474553\n",
      "pay_2  0.672164  1.000000  0.766552  0.662067  0.622780  0.575501\n",
      "pay_3  0.574245  0.766552  1.000000  0.777359  0.686775  0.632684\n",
      "pay_4  0.538841  0.662067  0.777359  1.000000  0.819835  0.716449\n",
      "pay_5  0.509426  0.622780  0.686775  0.819835  1.000000  0.816900\n",
      "pay_6  0.474553  0.575501  0.632684  0.716449  0.816900  1.000000\n"
     ]
    },
    {
     "data": {
      "image/png": "[encoded data removed]",
      "text/plain": [
       "<Figure size 720x576 with 2 Axes>"
      ]
     },
     "metadata": {
      "needs_background": "light"
     },
     "output_type": "display_data"
    }
   ],
   "source": [
    "corr_bill_amt = df[['pay_1','pay_2', 'pay_3', 'pay_4', 'pay_5', 'pay_6']].corr()\n",
    "print(corr_bill_amt)\n",
    "\n",
    "plt.figure(figsize=(10,8))\n",
    "sns.heatmap(corr_bill_amt,annot=True)\n",
    "plt.title('CRRELATION BETWEEN REPAYMENT STATUS')\n",
    "plt.show()"
   ]
  },
  {
   "cell_type": "code",
   "execution_count": 16,
   "metadata": {},
   "outputs": [],
   "source": [
    "# apply get dummies on sex, marriage and education columns\n",
    "\n",
    "df2=pd.get_dummies(df2,columns=['sex',\"marriage\",\"education\"],drop_first=True)"
   ]
  },
  {
   "cell_type": "code",
   "execution_count": 17,
   "metadata": {},
   "outputs": [
    {
     "data": {
      "text/plain": [
       "Index(['limit_bal', 'age', 'pay_1', 'pay_2', 'pay_3', 'pay_4', 'pay_5',\n",
       "       'pay_6', 'bill_amt1', 'bill_amt2', 'bill_amt3', 'bill_amt4',\n",
       "       'bill_amt5', 'bill_amt6', 'pay_amt1', 'pay_amt2', 'pay_amt3',\n",
       "       'pay_amt4', 'pay_amt5', 'pay_amt6', 'default', 'sex_m',\n",
       "       'marriage_others', 'marriage_single', 'education_high_sch',\n",
       "       'education_others', 'education_uni'],\n",
       "      dtype='object')"
      ]
     },
     "execution_count": 17,
     "metadata": {},
     "output_type": "execute_result"
    }
   ],
   "source": [
    "df2.columns"
   ]
  },
  {
   "cell_type": "markdown",
   "metadata": {},
   "source": [
    "# User Define Functions"
   ]
  },
  {
   "cell_type": "code",
   "execution_count": 18,
   "metadata": {},
   "outputs": [],
   "source": [
    "# user define function for eval metrics \n",
    "\n",
    "def eval_metrics(algo,xtest,ytest): \n",
    "    y_test_pred = algo.predict(xtest)\n",
    "    y_test_prob = algo.predict_proba(xtest)[:,1]\n",
    "    print('Test Data')\n",
    "    print('Confusion Matrix:\\n', confusion_matrix(ytest,y_test_pred))\n",
    "    print('Accuracy of Test:', accuracy_score(ytest,y_test_pred))\n",
    "    print('AUC of Test:', roc_auc_score(ytest,y_test_prob))\n",
    "    print('Classification Report of Test:\\n',classification_report(ytest,y_test_pred))"
   ]
  },
  {
   "cell_type": "code",
   "execution_count": 19,
   "metadata": {},
   "outputs": [],
   "source": [
    "# user define function for min bias and min variance error from cv_results_ dataframe of gridsearchcv of every algorithm\n",
    "# and there repective parameters\n",
    "\n",
    "\n",
    "def bias_var_error(grid_df):\n",
    "    print('Minimum Bias')\n",
    "    print('Using this',grid_df[grid_df['mean_test_score']==grid_df['mean_test_score'].max()]['params'].values)\n",
    "    print('Accuracy is:',grid_df[grid_df['mean_test_score']==grid_df['mean_test_score'].max()]['mean_test_score'].values)\n",
    "    print('Bias Error is:',(1-grid_df[grid_df['mean_test_score']==grid_df['mean_test_score'].max()]['mean_test_score'].values))\n",
    "    print('Variance Error is:',grid_df[grid_df['mean_test_score']==grid_df['mean_test_score'].max()]['std_test_score'].values**2)\n",
    "    print('\\n')\n",
    "    \n",
    "    print('Minimum Variance')\n",
    "    print('Using this',grid_df[grid_df['std_test_score']==grid_df['std_test_score'].min()]['params'].values)\n",
    "    print('Accuracy is:',grid_df[grid_df['std_test_score']==grid_df['std_test_score'].min()]['mean_test_score'].values)\n",
    "    print('Bias Error is:',(1-grid_df[grid_df['std_test_score']==grid_df['std_test_score'].min()]['mean_test_score'].values))\n",
    "    print('Variance Error is:',grid_df[grid_df['std_test_score']==grid_df['std_test_score'].min()]['std_test_score'].values**2)\n"
   ]
  },
  {
   "cell_type": "markdown",
   "metadata": {},
   "source": [
    "# Comparing accuracy of different models using cross validation"
   ]
  },
  {
   "cell_type": "code",
   "execution_count": 20,
   "metadata": {},
   "outputs": [],
   "source": [
    "X = df2.drop('default',axis=1)\n",
    "y = df2.default"
   ]
  },
  {
   "cell_type": "code",
   "execution_count": 21,
   "metadata": {},
   "outputs": [],
   "source": [
    "X_train,X_test,y_train,y_test=train_test_split(X,y,test_size=0.3,random_state=1,stratify=y)"
   ]
  },
  {
   "cell_type": "code",
   "execution_count": 22,
   "metadata": {},
   "outputs": [],
   "source": [
    "sc = StandardScaler()\n",
    "X_train_scaled = sc.fit_transform(X_train)\n",
    "X_test_scaled = sc.transform(X_test)"
   ]
  },
  {
   "cell_type": "markdown",
   "metadata": {},
   "source": [
    "**Keeping all models in one list**"
   ]
  },
  {
   "cell_type": "code",
   "execution_count": 98,
   "metadata": {},
   "outputs": [],
   "source": [
    "models=[]\n",
    "models.append(('Logistic Regression',LogisticRegression()))\n",
    "models.append(('KNN',KNeighborsClassifier()))\n",
    "models.append(('Gaussian Naive Bayes',GaussianNB()))\n",
    "models.append(('Decision Tree',DecisionTreeClassifier()))\n",
    "models.append(('Random Forest',RandomForestClassifier()))\n",
    "models.append(('Gradient Boost',GradientBoostingClassifier()))\n",
    "models.append(('Light GBM',LGBMClassifier()))\n",
    "models.append(('Ada Boost',AdaBoostClassifier()))\n",
    "models.append(('Bagging Classifier',BaggingClassifier()))"
   ]
  },
  {
   "cell_type": "code",
   "execution_count": 99,
   "metadata": {},
   "outputs": [],
   "source": [
    "# Evaluating Each model\n",
    "\n",
    "from sklearn.model_selection import KFold\n",
    "from sklearn.model_selection import cross_val_score\n",
    "names=[]\n",
    "predictions=[]\n",
    "accuracy = []\n",
    "bias_error = []\n",
    "var_error = []\n",
    "for name,model in models:\n",
    "    fold=KFold(shuffle=True,n_splits=10,random_state=1)\n",
    "    if name == 'Logistic Regression'or name == 'KNN' or name == 'Naive Bayes':\n",
    "        result=cross_val_score(model,X_train_scaled,y_train,cv=fold,scoring='roc_auc')\n",
    "    else:\n",
    "        result=cross_val_score(model,X_train,y_train,cv=fold,scoring='roc_auc')\n",
    "    predictions.append(result)\n",
    "    names.append(name)\n",
    "    accuracy.append(result.mean())\n",
    "    bias_error.append(1-result.mean())\n",
    "    var_error.append(np.std(result,ddof=1)**2)"
   ]
  },
  {
   "cell_type": "code",
   "execution_count": 100,
   "metadata": {},
   "outputs": [
    {
     "data": {
      "text/html": [
       "<div>\n",
       "<style scoped>\n",
       "    .dataframe tbody tr th:only-of-type {\n",
       "        vertical-align: middle;\n",
       "    }\n",
       "\n",
       "    .dataframe tbody tr th {\n",
       "        vertical-align: top;\n",
       "    }\n",
       "\n",
       "    .dataframe thead th {\n",
       "        text-align: right;\n",
       "    }\n",
       "</style>\n",
       "<table border=\"1\" class=\"dataframe\">\n",
       "  <thead>\n",
       "    <tr style=\"text-align: right;\">\n",
       "      <th></th>\n",
       "      <th>Accuracy</th>\n",
       "      <th>Bias Error</th>\n",
       "      <th>Variance Error</th>\n",
       "    </tr>\n",
       "  </thead>\n",
       "  <tbody>\n",
       "    <tr>\n",
       "      <td>Logistic Regression</td>\n",
       "      <td>0.724453</td>\n",
       "      <td>0.275547</td>\n",
       "      <td>0.000189</td>\n",
       "    </tr>\n",
       "    <tr>\n",
       "      <td>KNN</td>\n",
       "      <td>0.693980</td>\n",
       "      <td>0.306020</td>\n",
       "      <td>0.000127</td>\n",
       "    </tr>\n",
       "    <tr>\n",
       "      <td>Gaussian Naive Bayes</td>\n",
       "      <td>0.730891</td>\n",
       "      <td>0.269109</td>\n",
       "      <td>0.000145</td>\n",
       "    </tr>\n",
       "    <tr>\n",
       "      <td>Decision Tree</td>\n",
       "      <td>0.609012</td>\n",
       "      <td>0.390988</td>\n",
       "      <td>0.000098</td>\n",
       "    </tr>\n",
       "    <tr>\n",
       "      <td>Random Forest</td>\n",
       "      <td>0.760098</td>\n",
       "      <td>0.239902</td>\n",
       "      <td>0.000097</td>\n",
       "    </tr>\n",
       "    <tr>\n",
       "      <td>Gradient Boost</td>\n",
       "      <td>0.780552</td>\n",
       "      <td>0.219448</td>\n",
       "      <td>0.000142</td>\n",
       "    </tr>\n",
       "    <tr>\n",
       "      <td>Light GBM</td>\n",
       "      <td>0.776536</td>\n",
       "      <td>0.223464</td>\n",
       "      <td>0.000127</td>\n",
       "    </tr>\n",
       "    <tr>\n",
       "      <td>Ada Boost</td>\n",
       "      <td>0.773026</td>\n",
       "      <td>0.226974</td>\n",
       "      <td>0.000135</td>\n",
       "    </tr>\n",
       "    <tr>\n",
       "      <td>Bagging Classifier</td>\n",
       "      <td>0.727116</td>\n",
       "      <td>0.272884</td>\n",
       "      <td>0.000035</td>\n",
       "    </tr>\n",
       "  </tbody>\n",
       "</table>\n",
       "</div>"
      ],
      "text/plain": [
       "                      Accuracy  Bias Error  Variance Error\n",
       "Logistic Regression   0.724453    0.275547        0.000189\n",
       "KNN                   0.693980    0.306020        0.000127\n",
       "Gaussian Naive Bayes  0.730891    0.269109        0.000145\n",
       "Decision Tree         0.609012    0.390988        0.000098\n",
       "Random Forest         0.760098    0.239902        0.000097\n",
       "Gradient Boost        0.780552    0.219448        0.000142\n",
       "Light GBM             0.776536    0.223464        0.000127\n",
       "Ada Boost             0.773026    0.226974        0.000135\n",
       "Bagging Classifier    0.727116    0.272884        0.000035"
      ]
     },
     "execution_count": 100,
     "metadata": {},
     "output_type": "execute_result"
    }
   ],
   "source": [
    "acc_df = pd.DataFrame({'Accuracy':accuracy,'Bias Error':bias_error,'Variance Error':var_error},index=names)\n",
    "\n",
    "acc_df"
   ]
  },
  {
   "cell_type": "code",
   "execution_count": 101,
   "metadata": {},
   "outputs": [
    {
     "data": {
      "image/png": "[encoded data removed]",
      "text/plain": [
       "<Figure size 720x576 with 1 Axes>"
      ]
     },
     "metadata": {
      "needs_background": "light"
     },
     "output_type": "display_data"
    }
   ],
   "source": [
    "fig = plt.figure(figsize=(10,8))\n",
    "fig.suptitle('Algorithm Comparison')\n",
    "ax = fig.add_subplot(111)\n",
    "plt.boxplot(predictions)\n",
    "ax.set_xticklabels(names)\n",
    "plt.xticks(rotation=90)\n",
    "plt.show()"
   ]
  },
  {
   "cell_type": "markdown",
   "metadata": {},
   "source": [
    "# Hyperparameter Tuning of each model"
   ]
  },
  {
   "cell_type": "code",
   "execution_count": 20,
   "metadata": {},
   "outputs": [],
   "source": [
    "X = df2.drop('default',axis=1)\n",
    "y = df2.default"
   ]
  },
  {
   "cell_type": "code",
   "execution_count": 21,
   "metadata": {},
   "outputs": [],
   "source": [
    "X_train,X_test,y_train,y_test=train_test_split(X,y,test_size=0.3,random_state=1,stratify=y)"
   ]
  },
  {
   "cell_type": "code",
   "execution_count": 22,
   "metadata": {},
   "outputs": [],
   "source": [
    "sc = StandardScaler()\n",
    "X_train_scaled = sc.fit_transform(X_train)\n",
    "X_test_scaled = sc.transform(X_test)"
   ]
  },
  {
   "cell_type": "markdown",
   "metadata": {},
   "source": [
    "# Logistic Regression"
   ]
  },
  {
   "cell_type": "markdown",
   "metadata": {},
   "source": [
    "**Grid Search CV**"
   ]
  },
  {
   "cell_type": "code",
   "execution_count": 24,
   "metadata": {},
   "outputs": [],
   "source": [
    "lr = LogisticRegression(random_state=1,solver='liblinear',class_weight='balanced')\n",
    "\n",
    "lr_params = {'penalty':['l1','l2'],'C':[1.0,0.1,0.01,0.001,0.0001]}"
   ]
  },
  {
   "cell_type": "code",
   "execution_count": 25,
   "metadata": {},
   "outputs": [],
   "source": [
    "fold=KFold(shuffle=True,n_splits=5,random_state=1)\n",
    "\n",
    "gs_lr = GridSearchCV(lr,lr_params,cv=fold,scoring='roc_auc')"
   ]
  },
  {
   "cell_type": "code",
   "execution_count": 26,
   "metadata": {},
   "outputs": [
    {
     "data": {
      "text/plain": [
       "GridSearchCV(cv=KFold(n_splits=5, random_state=1, shuffle=True),\n",
       "             error_score=nan,\n",
       "             estimator=LogisticRegression(C=1.0, class_weight='balanced',\n",
       "                                          dual=False, fit_intercept=True,\n",
       "                                          intercept_scaling=1, l1_ratio=None,\n",
       "                                          max_iter=100, multi_class='auto',\n",
       "                                          n_jobs=None, penalty='l2',\n",
       "                                          random_state=1, solver='liblinear',\n",
       "                                          tol=0.0001, verbose=0,\n",
       "                                          warm_start=False),\n",
       "             iid='deprecated', n_jobs=None,\n",
       "             param_grid={'C': [1.0, 0.1, 0.01, 0.001, 0.0001],\n",
       "                         'penalty': ['l1', 'l2']},\n",
       "             pre_dispatch='2*n_jobs', refit=True, return_train_score=False,\n",
       "             scoring='roc_auc', verbose=0)"
      ]
     },
     "execution_count": 26,
     "metadata": {},
     "output_type": "execute_result"
    }
   ],
   "source": [
    "gs_lr.fit(X_train_scaled,y_train)"
   ]
  },
  {
   "cell_type": "code",
   "execution_count": 27,
   "metadata": {},
   "outputs": [
    {
     "name": "stdout",
     "output_type": "stream",
     "text": [
      "Minimum Bias\n",
      "Using this [{'C': 1.0, 'penalty': 'l1'}]\n",
      "Accuracy is: [0.72476381]\n",
      "Bias Error is: [0.27523619]\n",
      "Variance Error is: [0.00010421]\n",
      "\n",
      "\n",
      "Minimum Variance\n",
      "Using this [{'C': 0.0001, 'penalty': 'l1'}]\n",
      "Accuracy is: [0.5]\n",
      "Bias Error is: [0.5]\n",
      "Variance Error is: [0.]\n"
     ]
    }
   ],
   "source": [
    "lr_cv = pd.DataFrame(gs_lr.cv_results_)\n",
    "\n",
    "bias_var_error(lr_cv)"
   ]
  },
  {
   "cell_type": "markdown",
   "metadata": {},
   "source": [
    "# KNN Classifier"
   ]
  },
  {
   "cell_type": "code",
   "execution_count": 31,
   "metadata": {},
   "outputs": [],
   "source": [
    "knn=KNeighborsClassifier()\n",
    "\n",
    "knn_params={'n_neighbors':np.arange(3,100),'weights':['uniform','distance'],'metric':['minkowski','manhattan','euclidean']}"
   ]
  },
  {
   "cell_type": "markdown",
   "metadata": {},
   "source": [
    "**RandomizedSearchCV**"
   ]
  },
  {
   "cell_type": "code",
   "execution_count": 65,
   "metadata": {},
   "outputs": [
    {
     "data": {
      "text/plain": [
       "RandomizedSearchCV(cv=KFold(n_splits=5, random_state=1, shuffle=True),\n",
       "                   error_score=nan,\n",
       "                   estimator=KNeighborsClassifier(algorithm='auto',\n",
       "                                                  leaf_size=30,\n",
       "                                                  metric='minkowski',\n",
       "                                                  metric_params=None,\n",
       "                                                  n_jobs=None, n_neighbors=5,\n",
       "                                                  p=2, weights='uniform'),\n",
       "                   iid='deprecated', n_iter=10, n_jobs=None,\n",
       "                   param_distributions={'metric': ['minkowski', 'manhattan',\n",
       "                                                   'euclidean'],\n",
       "                                        'n_neighbor...\n",
       "       20, 21, 22, 23, 24, 25, 26, 27, 28, 29, 30, 31, 32, 33, 34, 35, 36,\n",
       "       37, 38, 39, 40, 41, 42, 43, 44, 45, 46, 47, 48, 49, 50, 51, 52, 53,\n",
       "       54, 55, 56, 57, 58, 59, 60, 61, 62, 63, 64, 65, 66, 67, 68, 69, 70,\n",
       "       71, 72, 73, 74, 75, 76, 77, 78, 79, 80, 81, 82, 83, 84, 85, 86, 87,\n",
       "       88, 89, 90, 91, 92, 93, 94, 95, 96, 97, 98, 99]),\n",
       "                                        'weights': ['uniform', 'distance']},\n",
       "                   pre_dispatch='2*n_jobs', random_state=1, refit=True,\n",
       "                   return_train_score=False, scoring='roc_auc', verbose=0)"
      ]
     },
     "execution_count": 65,
     "metadata": {},
     "output_type": "execute_result"
    }
   ],
   "source": [
    "rs_knn = RandomizedSearchCV(knn,knn_params,cv=fold,scoring='roc_auc',random_state=1)\n",
    "\n",
    "rs_knn.fit(X_train_scaled,y_train)"
   ]
  },
  {
   "cell_type": "code",
   "execution_count": 66,
   "metadata": {},
   "outputs": [
    {
     "name": "stdout",
     "output_type": "stream",
     "text": [
      "Minimum Bias\n",
      "Using this [{'weights': 'uniform', 'n_neighbors': 93, 'metric': 'euclidean'}]\n",
      "Accuracy is: [0.74742744]\n",
      "Bias Error is: [0.25257256]\n",
      "Variance Error is: [9.36123541e-05]\n",
      "\n",
      "\n",
      "Minimum Variance\n",
      "Using this [{'weights': 'distance', 'n_neighbors': 39, 'metric': 'manhattan'}]\n",
      "Accuracy is: [0.74391748]\n",
      "Bias Error is: [0.25608252]\n",
      "Variance Error is: [5.04158327e-05]\n"
     ]
    }
   ],
   "source": [
    "knn_cv = pd.DataFrame(rs_knn.cv_results_)\n",
    "\n",
    "bias_var_error(knn_cv)"
   ]
  },
  {
   "cell_type": "markdown",
   "metadata": {},
   "source": [
    "**GridSearchCV**"
   ]
  },
  {
   "cell_type": "code",
   "execution_count": 49,
   "metadata": {},
   "outputs": [],
   "source": [
    "knn=KNeighborsClassifier()\n",
    "\n",
    "knn_params={'n_neighbors':np.arange(80,110),'weights':['uniform','distance'],'metric':['minkowski','manhattan','euclidean']}"
   ]
  },
  {
   "cell_type": "code",
   "execution_count": 50,
   "metadata": {},
   "outputs": [
    {
     "data": {
      "text/plain": [
       "GridSearchCV(cv=KFold(n_splits=5, random_state=1, shuffle=True),\n",
       "             error_score=nan,\n",
       "             estimator=KNeighborsClassifier(algorithm='auto', leaf_size=30,\n",
       "                                            metric='minkowski',\n",
       "                                            metric_params=None, n_jobs=None,\n",
       "                                            n_neighbors=5, p=2,\n",
       "                                            weights='uniform'),\n",
       "             iid='deprecated', n_jobs=None,\n",
       "             param_grid={'metric': ['minkowski', 'manhattan', 'euclidean'],\n",
       "                         'n_neighbors': array([ 80,  81,  82,  83,  84,  85,  86,  87,  88,  89,  90,  91,  92,\n",
       "        93,  94,  95,  96,  97,  98,  99, 100, 101, 102, 103, 104, 105,\n",
       "       106, 107, 108, 109]),\n",
       "                         'weights': ['uniform', 'distance']},\n",
       "             pre_dispatch='2*n_jobs', refit=True, return_train_score=False,\n",
       "             scoring='roc_auc', verbose=0)"
      ]
     },
     "execution_count": 50,
     "metadata": {},
     "output_type": "execute_result"
    }
   ],
   "source": [
    "gs_knn = GridSearchCV(knn,knn_params,cv=fold,scoring='roc_auc')\n",
    "\n",
    "gs_knn.fit(X_train_scaled,y_train)"
   ]
  },
  {
   "cell_type": "code",
   "execution_count": 51,
   "metadata": {},
   "outputs": [
    {
     "name": "stdout",
     "output_type": "stream",
     "text": [
      "Minimum Bias\n",
      "Using this [{'metric': 'manhattan', 'n_neighbors': 104, 'weights': 'uniform'}]\n",
      "Accuracy is: [0.7538045]\n",
      "Bias Error is: [0.2461955]\n",
      "Variance Error is: [6.93368351e-05]\n",
      "\n",
      "\n",
      "Minimum Variance\n",
      "Using this [{'metric': 'manhattan', 'n_neighbors': 80, 'weights': 'distance'}]\n",
      "Accuracy is: [0.7496355]\n",
      "Bias Error is: [0.2503645]\n",
      "Variance Error is: [4.82152234e-05]\n"
     ]
    }
   ],
   "source": [
    "knn_cv = pd.DataFrame(gs_knn.cv_results_)\n",
    "\n",
    "bias_var_error(knn_cv)"
   ]
  },
  {
   "cell_type": "markdown",
   "metadata": {},
   "source": [
    "# Decision Tree"
   ]
  },
  {
   "cell_type": "code",
   "execution_count": 74,
   "metadata": {},
   "outputs": [],
   "source": [
    "dt = DecisionTreeClassifier(random_state=1,class_weight='balanced')\n",
    "\n",
    "dt_params = {'max_depth':np.arange(5,50),\n",
    "         'min_samples_split':np.arange(2,50),\n",
    "         'min_samples_leaf':np.arange(2,100),\n",
    "         'criterion':['gini','entropy']}"
   ]
  },
  {
   "cell_type": "markdown",
   "metadata": {},
   "source": [
    "**GridSearchCV**"
   ]
  },
  {
   "cell_type": "code",
   "execution_count": 46,
   "metadata": {},
   "outputs": [],
   "source": [
    "dtree = DecisionTreeClassifier(random_state=1,class_weight='balanced')\n",
    "\n",
    "dt_params = {'max_depth':np.arange(3,15),\n",
    "         'min_samples_split':np.arange(25,45),\n",
    "         'min_samples_leaf':np.arange(65,100),\n",
    "         'criterion':['gini','entropy']}"
   ]
  },
  {
   "cell_type": "code",
   "execution_count": 47,
   "metadata": {},
   "outputs": [
    {
     "data": {
      "text/plain": [
       "GridSearchCV(cv=KFold(n_splits=5, random_state=1, shuffle=True),\n",
       "             error_score=nan,\n",
       "             estimator=DecisionTreeClassifier(ccp_alpha=0.0,\n",
       "                                              class_weight='balanced',\n",
       "                                              criterion='gini', max_depth=None,\n",
       "                                              max_features=None,\n",
       "                                              max_leaf_nodes=None,\n",
       "                                              min_impurity_decrease=0.0,\n",
       "                                              min_impurity_split=None,\n",
       "                                              min_samples_leaf=1,\n",
       "                                              min_samples_split=2,\n",
       "                                              min_weight_fraction_leaf=0.0,\n",
       "                                              presort='depr...\n",
       "                         'max_depth': array([ 3,  4,  5,  6,  7,  8,  9, 10, 11, 12, 13, 14]),\n",
       "                         'min_samples_leaf': array([65, 66, 67, 68, 69, 70, 71, 72, 73, 74, 75, 76, 77, 78, 79, 80, 81,\n",
       "       82, 83, 84, 85, 86, 87, 88, 89, 90, 91, 92, 93, 94, 95, 96, 97, 98,\n",
       "       99]),\n",
       "                         'min_samples_split': array([25, 26, 27, 28, 29, 30, 31, 32, 33, 34, 35, 36, 37, 38, 39, 40, 41,\n",
       "       42, 43, 44])},\n",
       "             pre_dispatch='2*n_jobs', refit=True, return_train_score=False,\n",
       "             scoring='roc_auc', verbose=0)"
      ]
     },
     "execution_count": 47,
     "metadata": {},
     "output_type": "execute_result"
    }
   ],
   "source": [
    "fold=KFold(shuffle=True,n_splits=5,random_state=1)\n",
    "\n",
    "gs_dt = GridSearchCV(dtree,dt_params,cv=fold,scoring='roc_auc')\n",
    "\n",
    "gs_dt.fit(X_train,y_train)"
   ]
  },
  {
   "cell_type": "code",
   "execution_count": 59,
   "metadata": {},
   "outputs": [
    {
     "name": "stdout",
     "output_type": "stream",
     "text": [
      "Minimum Bias\n",
      "Using this [{'criterion': 'gini', 'max_depth': 6, 'min_samples_leaf': 99, 'min_samples_split': 25}\n",
      " {'criterion': 'gini', 'max_depth': 6, 'min_samples_leaf': 99, 'min_samples_split': 26}\n",
      " {'criterion': 'gini', 'max_depth': 6, 'min_samples_leaf': 99, 'min_samples_split': 27}\n",
      " {'criterion': 'gini', 'max_depth': 6, 'min_samples_leaf': 99, 'min_samples_split': 28}\n",
      " {'criterion': 'gini', 'max_depth': 6, 'min_samples_leaf': 99, 'min_samples_split': 29}\n",
      " {'criterion': 'gini', 'max_depth': 6, 'min_samples_leaf': 99, 'min_samples_split': 30}\n",
      " {'criterion': 'gini', 'max_depth': 6, 'min_samples_leaf': 99, 'min_samples_split': 31}\n",
      " {'criterion': 'gini', 'max_depth': 6, 'min_samples_leaf': 99, 'min_samples_split': 32}\n",
      " {'criterion': 'gini', 'max_depth': 6, 'min_samples_leaf': 99, 'min_samples_split': 33}\n",
      " {'criterion': 'gini', 'max_depth': 6, 'min_samples_leaf': 99, 'min_samples_split': 34}\n",
      " {'criterion': 'gini', 'max_depth': 6, 'min_samples_leaf': 99, 'min_samples_split': 35}\n",
      " {'criterion': 'gini', 'max_depth': 6, 'min_samples_leaf': 99, 'min_samples_split': 36}\n",
      " {'criterion': 'gini', 'max_depth': 6, 'min_samples_leaf': 99, 'min_samples_split': 37}\n",
      " {'criterion': 'gini', 'max_depth': 6, 'min_samples_leaf': 99, 'min_samples_split': 38}\n",
      " {'criterion': 'gini', 'max_depth': 6, 'min_samples_leaf': 99, 'min_samples_split': 39}\n",
      " {'criterion': 'gini', 'max_depth': 6, 'min_samples_leaf': 99, 'min_samples_split': 40}\n",
      " {'criterion': 'gini', 'max_depth': 6, 'min_samples_leaf': 99, 'min_samples_split': 41}\n",
      " {'criterion': 'gini', 'max_depth': 6, 'min_samples_leaf': 99, 'min_samples_split': 42}\n",
      " {'criterion': 'gini', 'max_depth': 6, 'min_samples_leaf': 99, 'min_samples_split': 43}\n",
      " {'criterion': 'gini', 'max_depth': 6, 'min_samples_leaf': 99, 'min_samples_split': 44}]\n",
      "Accuracy is: [0.76056064 0.76056064 0.76056064 0.76056064 0.76056064 0.76056064\n",
      " 0.76056064 0.76056064 0.76056064 0.76056064 0.76056064 0.76056064\n",
      " 0.76056064 0.76056064 0.76056064 0.76056064 0.76056064 0.76056064\n",
      " 0.76056064 0.76056064]\n",
      "Bias Error is: [0.23943936 0.23943936 0.23943936 0.23943936 0.23943936 0.23943936\n",
      " 0.23943936 0.23943936 0.23943936 0.23943936 0.23943936 0.23943936\n",
      " 0.23943936 0.23943936 0.23943936 0.23943936 0.23943936 0.23943936\n",
      " 0.23943936 0.23943936]\n",
      "Variance Error is: [0.00012591 0.00012591 0.00012591 0.00012591 0.00012591 0.00012591\n",
      " 0.00012591 0.00012591 0.00012591 0.00012591 0.00012591 0.00012591\n",
      " 0.00012591 0.00012591 0.00012591 0.00012591 0.00012591 0.00012591\n",
      " 0.00012591 0.00012591]\n",
      "\n",
      "\n",
      "Minimum Variance\n",
      "Using this [{'criterion': 'gini', 'max_depth': 3, 'min_samples_leaf': 65, 'min_samples_split': 25}\n",
      " {'criterion': 'gini', 'max_depth': 3, 'min_samples_leaf': 65, 'min_samples_split': 26}\n",
      " {'criterion': 'gini', 'max_depth': 3, 'min_samples_leaf': 65, 'min_samples_split': 27}\n",
      " {'criterion': 'gini', 'max_depth': 3, 'min_samples_leaf': 65, 'min_samples_split': 28}\n",
      " {'criterion': 'gini', 'max_depth': 3, 'min_samples_leaf': 65, 'min_samples_split': 29}\n",
      " {'criterion': 'gini', 'max_depth': 3, 'min_samples_leaf': 65, 'min_samples_split': 30}\n",
      " {'criterion': 'gini', 'max_depth': 3, 'min_samples_leaf': 65, 'min_samples_split': 31}\n",
      " {'criterion': 'gini', 'max_depth': 3, 'min_samples_leaf': 65, 'min_samples_split': 32}\n",
      " {'criterion': 'gini', 'max_depth': 3, 'min_samples_leaf': 65, 'min_samples_split': 33}\n",
      " {'criterion': 'gini', 'max_depth': 3, 'min_samples_leaf': 65, 'min_samples_split': 34}\n",
      " {'criterion': 'gini', 'max_depth': 3, 'min_samples_leaf': 65, 'min_samples_split': 35}\n",
      " {'criterion': 'gini', 'max_depth': 3, 'min_samples_leaf': 65, 'min_samples_split': 36}\n",
      " {'criterion': 'gini', 'max_depth': 3, 'min_samples_leaf': 65, 'min_samples_split': 37}\n",
      " {'criterion': 'gini', 'max_depth': 3, 'min_samples_leaf': 65, 'min_samples_split': 38}\n",
      " {'criterion': 'gini', 'max_depth': 3, 'min_samples_leaf': 65, 'min_samples_split': 39}\n",
      " {'criterion': 'gini', 'max_depth': 3, 'min_samples_leaf': 65, 'min_samples_split': 40}\n",
      " {'criterion': 'gini', 'max_depth': 3, 'min_samples_leaf': 65, 'min_samples_split': 41}\n",
      " {'criterion': 'gini', 'max_depth': 3, 'min_samples_leaf': 65, 'min_samples_split': 42}\n",
      " {'criterion': 'gini', 'max_depth': 3, 'min_samples_leaf': 65, 'min_samples_split': 43}\n",
      " {'criterion': 'gini', 'max_depth': 3, 'min_samples_leaf': 65, 'min_samples_split': 44}\n",
      " {'criterion': 'gini', 'max_depth': 3, 'min_samples_leaf': 66, 'min_samples_split': 25}\n",
      " {'criterion': 'gini', 'max_depth': 3, 'min_samples_leaf': 66, 'min_samples_split': 26}\n",
      " {'criterion': 'gini', 'max_depth': 3, 'min_samples_leaf': 66, 'min_samples_split': 27}\n",
      " {'criterion': 'gini', 'max_depth': 3, 'min_samples_leaf': 66, 'min_samples_split': 28}\n",
      " {'criterion': 'gini', 'max_depth': 3, 'min_samples_leaf': 66, 'min_samples_split': 29}\n",
      " {'criterion': 'gini', 'max_depth': 3, 'min_samples_leaf': 66, 'min_samples_split': 30}\n",
      " {'criterion': 'gini', 'max_depth': 3, 'min_samples_leaf': 66, 'min_samples_split': 31}\n",
      " {'criterion': 'gini', 'max_depth': 3, 'min_samples_leaf': 66, 'min_samples_split': 32}\n",
      " {'criterion': 'gini', 'max_depth': 3, 'min_samples_leaf': 66, 'min_samples_split': 33}\n",
      " {'criterion': 'gini', 'max_depth': 3, 'min_samples_leaf': 66, 'min_samples_split': 34}\n",
      " {'criterion': 'gini', 'max_depth': 3, 'min_samples_leaf': 66, 'min_samples_split': 35}\n",
      " {'criterion': 'gini', 'max_depth': 3, 'min_samples_leaf': 66, 'min_samples_split': 36}\n",
      " {'criterion': 'gini', 'max_depth': 3, 'min_samples_leaf': 66, 'min_samples_split': 37}\n",
      " {'criterion': 'gini', 'max_depth': 3, 'min_samples_leaf': 66, 'min_samples_split': 38}\n",
      " {'criterion': 'gini', 'max_depth': 3, 'min_samples_leaf': 66, 'min_samples_split': 39}\n",
      " {'criterion': 'gini', 'max_depth': 3, 'min_samples_leaf': 66, 'min_samples_split': 40}\n",
      " {'criterion': 'gini', 'max_depth': 3, 'min_samples_leaf': 66, 'min_samples_split': 41}\n",
      " {'criterion': 'gini', 'max_depth': 3, 'min_samples_leaf': 66, 'min_samples_split': 42}\n",
      " {'criterion': 'gini', 'max_depth': 3, 'min_samples_leaf': 66, 'min_samples_split': 43}\n",
      " {'criterion': 'gini', 'max_depth': 3, 'min_samples_leaf': 66, 'min_samples_split': 44}\n",
      " {'criterion': 'gini', 'max_depth': 3, 'min_samples_leaf': 67, 'min_samples_split': 25}\n",
      " {'criterion': 'gini', 'max_depth': 3, 'min_samples_leaf': 67, 'min_samples_split': 26}\n",
      " {'criterion': 'gini', 'max_depth': 3, 'min_samples_leaf': 67, 'min_samples_split': 27}\n",
      " {'criterion': 'gini', 'max_depth': 3, 'min_samples_leaf': 67, 'min_samples_split': 28}\n",
      " {'criterion': 'gini', 'max_depth': 3, 'min_samples_leaf': 67, 'min_samples_split': 29}\n",
      " {'criterion': 'gini', 'max_depth': 3, 'min_samples_leaf': 67, 'min_samples_split': 30}\n",
      " {'criterion': 'gini', 'max_depth': 3, 'min_samples_leaf': 67, 'min_samples_split': 31}\n",
      " {'criterion': 'gini', 'max_depth': 3, 'min_samples_leaf': 67, 'min_samples_split': 32}\n",
      " {'criterion': 'gini', 'max_depth': 3, 'min_samples_leaf': 67, 'min_samples_split': 33}\n",
      " {'criterion': 'gini', 'max_depth': 3, 'min_samples_leaf': 67, 'min_samples_split': 34}\n",
      " {'criterion': 'gini', 'max_depth': 3, 'min_samples_leaf': 67, 'min_samples_split': 35}\n",
      " {'criterion': 'gini', 'max_depth': 3, 'min_samples_leaf': 67, 'min_samples_split': 36}\n",
      " {'criterion': 'gini', 'max_depth': 3, 'min_samples_leaf': 67, 'min_samples_split': 37}\n",
      " {'criterion': 'gini', 'max_depth': 3, 'min_samples_leaf': 67, 'min_samples_split': 38}\n",
      " {'criterion': 'gini', 'max_depth': 3, 'min_samples_leaf': 67, 'min_samples_split': 39}\n",
      " {'criterion': 'gini', 'max_depth': 3, 'min_samples_leaf': 67, 'min_samples_split': 40}\n",
      " {'criterion': 'gini', 'max_depth': 3, 'min_samples_leaf': 67, 'min_samples_split': 41}\n",
      " {'criterion': 'gini', 'max_depth': 3, 'min_samples_leaf': 67, 'min_samples_split': 42}\n",
      " {'criterion': 'gini', 'max_depth': 3, 'min_samples_leaf': 67, 'min_samples_split': 43}\n",
      " {'criterion': 'gini', 'max_depth': 3, 'min_samples_leaf': 67, 'min_samples_split': 44}\n",
      " {'criterion': 'gini', 'max_depth': 3, 'min_samples_leaf': 68, 'min_samples_split': 25}\n",
      " {'criterion': 'gini', 'max_depth': 3, 'min_samples_leaf': 68, 'min_samples_split': 26}\n",
      " {'criterion': 'gini', 'max_depth': 3, 'min_samples_leaf': 68, 'min_samples_split': 27}\n",
      " {'criterion': 'gini', 'max_depth': 3, 'min_samples_leaf': 68, 'min_samples_split': 28}\n",
      " {'criterion': 'gini', 'max_depth': 3, 'min_samples_leaf': 68, 'min_samples_split': 29}\n",
      " {'criterion': 'gini', 'max_depth': 3, 'min_samples_leaf': 68, 'min_samples_split': 30}\n",
      " {'criterion': 'gini', 'max_depth': 3, 'min_samples_leaf': 68, 'min_samples_split': 31}\n",
      " {'criterion': 'gini', 'max_depth': 3, 'min_samples_leaf': 68, 'min_samples_split': 32}\n",
      " {'criterion': 'gini', 'max_depth': 3, 'min_samples_leaf': 68, 'min_samples_split': 33}\n",
      " {'criterion': 'gini', 'max_depth': 3, 'min_samples_leaf': 68, 'min_samples_split': 34}\n",
      " {'criterion': 'gini', 'max_depth': 3, 'min_samples_leaf': 68, 'min_samples_split': 35}\n",
      " {'criterion': 'gini', 'max_depth': 3, 'min_samples_leaf': 68, 'min_samples_split': 36}\n",
      " {'criterion': 'gini', 'max_depth': 3, 'min_samples_leaf': 68, 'min_samples_split': 37}\n",
      " {'criterion': 'gini', 'max_depth': 3, 'min_samples_leaf': 68, 'min_samples_split': 38}\n",
      " {'criterion': 'gini', 'max_depth': 3, 'min_samples_leaf': 68, 'min_samples_split': 39}\n",
      " {'criterion': 'gini', 'max_depth': 3, 'min_samples_leaf': 68, 'min_samples_split': 40}\n",
      " {'criterion': 'gini', 'max_depth': 3, 'min_samples_leaf': 68, 'min_samples_split': 41}\n",
      " {'criterion': 'gini', 'max_depth': 3, 'min_samples_leaf': 68, 'min_samples_split': 42}\n",
      " {'criterion': 'gini', 'max_depth': 3, 'min_samples_leaf': 68, 'min_samples_split': 43}\n",
      " {'criterion': 'gini', 'max_depth': 3, 'min_samples_leaf': 68, 'min_samples_split': 44}\n",
      " {'criterion': 'gini', 'max_depth': 3, 'min_samples_leaf': 69, 'min_samples_split': 25}\n",
      " {'criterion': 'gini', 'max_depth': 3, 'min_samples_leaf': 69, 'min_samples_split': 26}\n",
      " {'criterion': 'gini', 'max_depth': 3, 'min_samples_leaf': 69, 'min_samples_split': 27}\n",
      " {'criterion': 'gini', 'max_depth': 3, 'min_samples_leaf': 69, 'min_samples_split': 28}\n",
      " {'criterion': 'gini', 'max_depth': 3, 'min_samples_leaf': 69, 'min_samples_split': 29}\n",
      " {'criterion': 'gini', 'max_depth': 3, 'min_samples_leaf': 69, 'min_samples_split': 30}\n",
      " {'criterion': 'gini', 'max_depth': 3, 'min_samples_leaf': 69, 'min_samples_split': 31}\n",
      " {'criterion': 'gini', 'max_depth': 3, 'min_samples_leaf': 69, 'min_samples_split': 32}\n",
      " {'criterion': 'gini', 'max_depth': 3, 'min_samples_leaf': 69, 'min_samples_split': 33}\n",
      " {'criterion': 'gini', 'max_depth': 3, 'min_samples_leaf': 69, 'min_samples_split': 34}\n",
      " {'criterion': 'gini', 'max_depth': 3, 'min_samples_leaf': 69, 'min_samples_split': 35}\n",
      " {'criterion': 'gini', 'max_depth': 3, 'min_samples_leaf': 69, 'min_samples_split': 36}\n",
      " {'criterion': 'gini', 'max_depth': 3, 'min_samples_leaf': 69, 'min_samples_split': 37}\n",
      " {'criterion': 'gini', 'max_depth': 3, 'min_samples_leaf': 69, 'min_samples_split': 38}\n",
      " {'criterion': 'gini', 'max_depth': 3, 'min_samples_leaf': 69, 'min_samples_split': 39}\n",
      " {'criterion': 'gini', 'max_depth': 3, 'min_samples_leaf': 69, 'min_samples_split': 40}\n",
      " {'criterion': 'gini', 'max_depth': 3, 'min_samples_leaf': 69, 'min_samples_split': 41}\n",
      " {'criterion': 'gini', 'max_depth': 3, 'min_samples_leaf': 69, 'min_samples_split': 42}\n",
      " {'criterion': 'gini', 'max_depth': 3, 'min_samples_leaf': 69, 'min_samples_split': 43}\n",
      " {'criterion': 'gini', 'max_depth': 3, 'min_samples_leaf': 69, 'min_samples_split': 44}\n",
      " {'criterion': 'gini', 'max_depth': 3, 'min_samples_leaf': 70, 'min_samples_split': 25}\n",
      " {'criterion': 'gini', 'max_depth': 3, 'min_samples_leaf': 70, 'min_samples_split': 26}\n",
      " {'criterion': 'gini', 'max_depth': 3, 'min_samples_leaf': 70, 'min_samples_split': 27}\n",
      " {'criterion': 'gini', 'max_depth': 3, 'min_samples_leaf': 70, 'min_samples_split': 28}\n",
      " {'criterion': 'gini', 'max_depth': 3, 'min_samples_leaf': 70, 'min_samples_split': 29}\n",
      " {'criterion': 'gini', 'max_depth': 3, 'min_samples_leaf': 70, 'min_samples_split': 30}\n",
      " {'criterion': 'gini', 'max_depth': 3, 'min_samples_leaf': 70, 'min_samples_split': 31}\n",
      " {'criterion': 'gini', 'max_depth': 3, 'min_samples_leaf': 70, 'min_samples_split': 32}\n",
      " {'criterion': 'gini', 'max_depth': 3, 'min_samples_leaf': 70, 'min_samples_split': 33}\n",
      " {'criterion': 'gini', 'max_depth': 3, 'min_samples_leaf': 70, 'min_samples_split': 34}\n",
      " {'criterion': 'gini', 'max_depth': 3, 'min_samples_leaf': 70, 'min_samples_split': 35}\n",
      " {'criterion': 'gini', 'max_depth': 3, 'min_samples_leaf': 70, 'min_samples_split': 36}\n",
      " {'criterion': 'gini', 'max_depth': 3, 'min_samples_leaf': 70, 'min_samples_split': 37}\n",
      " {'criterion': 'gini', 'max_depth': 3, 'min_samples_leaf': 70, 'min_samples_split': 38}\n",
      " {'criterion': 'gini', 'max_depth': 3, 'min_samples_leaf': 70, 'min_samples_split': 39}\n",
      " {'criterion': 'gini', 'max_depth': 3, 'min_samples_leaf': 70, 'min_samples_split': 40}\n",
      " {'criterion': 'gini', 'max_depth': 3, 'min_samples_leaf': 70, 'min_samples_split': 41}\n",
      " {'criterion': 'gini', 'max_depth': 3, 'min_samples_leaf': 70, 'min_samples_split': 42}\n",
      " {'criterion': 'gini', 'max_depth': 3, 'min_samples_leaf': 70, 'min_samples_split': 43}\n",
      " {'criterion': 'gini', 'max_depth': 3, 'min_samples_leaf': 70, 'min_samples_split': 44}\n",
      " {'criterion': 'gini', 'max_depth': 3, 'min_samples_leaf': 71, 'min_samples_split': 25}\n",
      " {'criterion': 'gini', 'max_depth': 3, 'min_samples_leaf': 71, 'min_samples_split': 26}\n",
      " {'criterion': 'gini', 'max_depth': 3, 'min_samples_leaf': 71, 'min_samples_split': 27}\n",
      " {'criterion': 'gini', 'max_depth': 3, 'min_samples_leaf': 71, 'min_samples_split': 28}\n",
      " {'criterion': 'gini', 'max_depth': 3, 'min_samples_leaf': 71, 'min_samples_split': 29}\n",
      " {'criterion': 'gini', 'max_depth': 3, 'min_samples_leaf': 71, 'min_samples_split': 30}\n",
      " {'criterion': 'gini', 'max_depth': 3, 'min_samples_leaf': 71, 'min_samples_split': 31}\n",
      " {'criterion': 'gini', 'max_depth': 3, 'min_samples_leaf': 71, 'min_samples_split': 32}\n",
      " {'criterion': 'gini', 'max_depth': 3, 'min_samples_leaf': 71, 'min_samples_split': 33}\n",
      " {'criterion': 'gini', 'max_depth': 3, 'min_samples_leaf': 71, 'min_samples_split': 34}\n",
      " {'criterion': 'gini', 'max_depth': 3, 'min_samples_leaf': 71, 'min_samples_split': 35}\n",
      " {'criterion': 'gini', 'max_depth': 3, 'min_samples_leaf': 71, 'min_samples_split': 36}\n",
      " {'criterion': 'gini', 'max_depth': 3, 'min_samples_leaf': 71, 'min_samples_split': 37}\n",
      " {'criterion': 'gini', 'max_depth': 3, 'min_samples_leaf': 71, 'min_samples_split': 38}\n",
      " {'criterion': 'gini', 'max_depth': 3, 'min_samples_leaf': 71, 'min_samples_split': 39}\n",
      " {'criterion': 'gini', 'max_depth': 3, 'min_samples_leaf': 71, 'min_samples_split': 40}\n",
      " {'criterion': 'gini', 'max_depth': 3, 'min_samples_leaf': 71, 'min_samples_split': 41}\n",
      " {'criterion': 'gini', 'max_depth': 3, 'min_samples_leaf': 71, 'min_samples_split': 42}\n",
      " {'criterion': 'gini', 'max_depth': 3, 'min_samples_leaf': 71, 'min_samples_split': 43}\n",
      " {'criterion': 'gini', 'max_depth': 3, 'min_samples_leaf': 71, 'min_samples_split': 44}\n",
      " {'criterion': 'gini', 'max_depth': 3, 'min_samples_leaf': 72, 'min_samples_split': 25}\n",
      " {'criterion': 'gini', 'max_depth': 3, 'min_samples_leaf': 72, 'min_samples_split': 26}\n",
      " {'criterion': 'gini', 'max_depth': 3, 'min_samples_leaf': 72, 'min_samples_split': 27}\n",
      " {'criterion': 'gini', 'max_depth': 3, 'min_samples_leaf': 72, 'min_samples_split': 28}\n",
      " {'criterion': 'gini', 'max_depth': 3, 'min_samples_leaf': 72, 'min_samples_split': 29}\n",
      " {'criterion': 'gini', 'max_depth': 3, 'min_samples_leaf': 72, 'min_samples_split': 30}\n",
      " {'criterion': 'gini', 'max_depth': 3, 'min_samples_leaf': 72, 'min_samples_split': 31}\n",
      " {'criterion': 'gini', 'max_depth': 3, 'min_samples_leaf': 72, 'min_samples_split': 32}\n",
      " {'criterion': 'gini', 'max_depth': 3, 'min_samples_leaf': 72, 'min_samples_split': 33}\n",
      " {'criterion': 'gini', 'max_depth': 3, 'min_samples_leaf': 72, 'min_samples_split': 34}\n",
      " {'criterion': 'gini', 'max_depth': 3, 'min_samples_leaf': 72, 'min_samples_split': 35}\n",
      " {'criterion': 'gini', 'max_depth': 3, 'min_samples_leaf': 72, 'min_samples_split': 36}\n",
      " {'criterion': 'gini', 'max_depth': 3, 'min_samples_leaf': 72, 'min_samples_split': 37}\n",
      " {'criterion': 'gini', 'max_depth': 3, 'min_samples_leaf': 72, 'min_samples_split': 38}\n",
      " {'criterion': 'gini', 'max_depth': 3, 'min_samples_leaf': 72, 'min_samples_split': 39}\n",
      " {'criterion': 'gini', 'max_depth': 3, 'min_samples_leaf': 72, 'min_samples_split': 40}\n",
      " {'criterion': 'gini', 'max_depth': 3, 'min_samples_leaf': 72, 'min_samples_split': 41}\n",
      " {'criterion': 'gini', 'max_depth': 3, 'min_samples_leaf': 72, 'min_samples_split': 42}\n",
      " {'criterion': 'gini', 'max_depth': 3, 'min_samples_leaf': 72, 'min_samples_split': 43}\n",
      " {'criterion': 'gini', 'max_depth': 3, 'min_samples_leaf': 72, 'min_samples_split': 44}\n",
      " {'criterion': 'gini', 'max_depth': 3, 'min_samples_leaf': 73, 'min_samples_split': 25}\n",
      " {'criterion': 'gini', 'max_depth': 3, 'min_samples_leaf': 73, 'min_samples_split': 26}\n",
      " {'criterion': 'gini', 'max_depth': 3, 'min_samples_leaf': 73, 'min_samples_split': 27}\n",
      " {'criterion': 'gini', 'max_depth': 3, 'min_samples_leaf': 73, 'min_samples_split': 28}\n",
      " {'criterion': 'gini', 'max_depth': 3, 'min_samples_leaf': 73, 'min_samples_split': 29}\n",
      " {'criterion': 'gini', 'max_depth': 3, 'min_samples_leaf': 73, 'min_samples_split': 30}\n",
      " {'criterion': 'gini', 'max_depth': 3, 'min_samples_leaf': 73, 'min_samples_split': 31}\n",
      " {'criterion': 'gini', 'max_depth': 3, 'min_samples_leaf': 73, 'min_samples_split': 32}\n",
      " {'criterion': 'gini', 'max_depth': 3, 'min_samples_leaf': 73, 'min_samples_split': 33}\n",
      " {'criterion': 'gini', 'max_depth': 3, 'min_samples_leaf': 73, 'min_samples_split': 34}\n",
      " {'criterion': 'gini', 'max_depth': 3, 'min_samples_leaf': 73, 'min_samples_split': 35}\n",
      " {'criterion': 'gini', 'max_depth': 3, 'min_samples_leaf': 73, 'min_samples_split': 36}\n",
      " {'criterion': 'gini', 'max_depth': 3, 'min_samples_leaf': 73, 'min_samples_split': 37}\n",
      " {'criterion': 'gini', 'max_depth': 3, 'min_samples_leaf': 73, 'min_samples_split': 38}\n",
      " {'criterion': 'gini', 'max_depth': 3, 'min_samples_leaf': 73, 'min_samples_split': 39}\n",
      " {'criterion': 'gini', 'max_depth': 3, 'min_samples_leaf': 73, 'min_samples_split': 40}\n",
      " {'criterion': 'gini', 'max_depth': 3, 'min_samples_leaf': 73, 'min_samples_split': 41}\n",
      " {'criterion': 'gini', 'max_depth': 3, 'min_samples_leaf': 73, 'min_samples_split': 42}\n",
      " {'criterion': 'gini', 'max_depth': 3, 'min_samples_leaf': 73, 'min_samples_split': 43}\n",
      " {'criterion': 'gini', 'max_depth': 3, 'min_samples_leaf': 73, 'min_samples_split': 44}\n",
      " {'criterion': 'gini', 'max_depth': 3, 'min_samples_leaf': 74, 'min_samples_split': 25}\n",
      " {'criterion': 'gini', 'max_depth': 3, 'min_samples_leaf': 74, 'min_samples_split': 26}\n",
      " {'criterion': 'gini', 'max_depth': 3, 'min_samples_leaf': 74, 'min_samples_split': 27}\n",
      " {'criterion': 'gini', 'max_depth': 3, 'min_samples_leaf': 74, 'min_samples_split': 28}\n",
      " {'criterion': 'gini', 'max_depth': 3, 'min_samples_leaf': 74, 'min_samples_split': 29}\n",
      " {'criterion': 'gini', 'max_depth': 3, 'min_samples_leaf': 74, 'min_samples_split': 30}\n",
      " {'criterion': 'gini', 'max_depth': 3, 'min_samples_leaf': 74, 'min_samples_split': 31}\n",
      " {'criterion': 'gini', 'max_depth': 3, 'min_samples_leaf': 74, 'min_samples_split': 32}\n",
      " {'criterion': 'gini', 'max_depth': 3, 'min_samples_leaf': 74, 'min_samples_split': 33}\n",
      " {'criterion': 'gini', 'max_depth': 3, 'min_samples_leaf': 74, 'min_samples_split': 34}\n",
      " {'criterion': 'gini', 'max_depth': 3, 'min_samples_leaf': 74, 'min_samples_split': 35}\n",
      " {'criterion': 'gini', 'max_depth': 3, 'min_samples_leaf': 74, 'min_samples_split': 36}\n",
      " {'criterion': 'gini', 'max_depth': 3, 'min_samples_leaf': 74, 'min_samples_split': 37}\n",
      " {'criterion': 'gini', 'max_depth': 3, 'min_samples_leaf': 74, 'min_samples_split': 38}\n",
      " {'criterion': 'gini', 'max_depth': 3, 'min_samples_leaf': 74, 'min_samples_split': 39}\n",
      " {'criterion': 'gini', 'max_depth': 3, 'min_samples_leaf': 74, 'min_samples_split': 40}\n",
      " {'criterion': 'gini', 'max_depth': 3, 'min_samples_leaf': 74, 'min_samples_split': 41}\n",
      " {'criterion': 'gini', 'max_depth': 3, 'min_samples_leaf': 74, 'min_samples_split': 42}\n",
      " {'criterion': 'gini', 'max_depth': 3, 'min_samples_leaf': 74, 'min_samples_split': 43}\n",
      " {'criterion': 'gini', 'max_depth': 3, 'min_samples_leaf': 74, 'min_samples_split': 44}\n",
      " {'criterion': 'gini', 'max_depth': 3, 'min_samples_leaf': 75, 'min_samples_split': 25}\n",
      " {'criterion': 'gini', 'max_depth': 3, 'min_samples_leaf': 75, 'min_samples_split': 26}\n",
      " {'criterion': 'gini', 'max_depth': 3, 'min_samples_leaf': 75, 'min_samples_split': 27}\n",
      " {'criterion': 'gini', 'max_depth': 3, 'min_samples_leaf': 75, 'min_samples_split': 28}\n",
      " {'criterion': 'gini', 'max_depth': 3, 'min_samples_leaf': 75, 'min_samples_split': 29}\n",
      " {'criterion': 'gini', 'max_depth': 3, 'min_samples_leaf': 75, 'min_samples_split': 30}\n",
      " {'criterion': 'gini', 'max_depth': 3, 'min_samples_leaf': 75, 'min_samples_split': 31}\n",
      " {'criterion': 'gini', 'max_depth': 3, 'min_samples_leaf': 75, 'min_samples_split': 32}\n",
      " {'criterion': 'gini', 'max_depth': 3, 'min_samples_leaf': 75, 'min_samples_split': 33}\n",
      " {'criterion': 'gini', 'max_depth': 3, 'min_samples_leaf': 75, 'min_samples_split': 34}\n",
      " {'criterion': 'gini', 'max_depth': 3, 'min_samples_leaf': 75, 'min_samples_split': 35}\n",
      " {'criterion': 'gini', 'max_depth': 3, 'min_samples_leaf': 75, 'min_samples_split': 36}\n",
      " {'criterion': 'gini', 'max_depth': 3, 'min_samples_leaf': 75, 'min_samples_split': 37}\n",
      " {'criterion': 'gini', 'max_depth': 3, 'min_samples_leaf': 75, 'min_samples_split': 38}\n",
      " {'criterion': 'gini', 'max_depth': 3, 'min_samples_leaf': 75, 'min_samples_split': 39}\n",
      " {'criterion': 'gini', 'max_depth': 3, 'min_samples_leaf': 75, 'min_samples_split': 40}\n",
      " {'criterion': 'gini', 'max_depth': 3, 'min_samples_leaf': 75, 'min_samples_split': 41}\n",
      " {'criterion': 'gini', 'max_depth': 3, 'min_samples_leaf': 75, 'min_samples_split': 42}\n",
      " {'criterion': 'gini', 'max_depth': 3, 'min_samples_leaf': 75, 'min_samples_split': 43}\n",
      " {'criterion': 'gini', 'max_depth': 3, 'min_samples_leaf': 75, 'min_samples_split': 44}\n",
      " {'criterion': 'gini', 'max_depth': 3, 'min_samples_leaf': 76, 'min_samples_split': 25}\n",
      " {'criterion': 'gini', 'max_depth': 3, 'min_samples_leaf': 76, 'min_samples_split': 26}\n",
      " {'criterion': 'gini', 'max_depth': 3, 'min_samples_leaf': 76, 'min_samples_split': 27}\n",
      " {'criterion': 'gini', 'max_depth': 3, 'min_samples_leaf': 76, 'min_samples_split': 28}\n",
      " {'criterion': 'gini', 'max_depth': 3, 'min_samples_leaf': 76, 'min_samples_split': 29}\n",
      " {'criterion': 'gini', 'max_depth': 3, 'min_samples_leaf': 76, 'min_samples_split': 30}\n",
      " {'criterion': 'gini', 'max_depth': 3, 'min_samples_leaf': 76, 'min_samples_split': 31}\n",
      " {'criterion': 'gini', 'max_depth': 3, 'min_samples_leaf': 76, 'min_samples_split': 32}\n",
      " {'criterion': 'gini', 'max_depth': 3, 'min_samples_leaf': 76, 'min_samples_split': 33}\n",
      " {'criterion': 'gini', 'max_depth': 3, 'min_samples_leaf': 76, 'min_samples_split': 34}\n",
      " {'criterion': 'gini', 'max_depth': 3, 'min_samples_leaf': 76, 'min_samples_split': 35}\n",
      " {'criterion': 'gini', 'max_depth': 3, 'min_samples_leaf': 76, 'min_samples_split': 36}\n",
      " {'criterion': 'gini', 'max_depth': 3, 'min_samples_leaf': 76, 'min_samples_split': 37}\n",
      " {'criterion': 'gini', 'max_depth': 3, 'min_samples_leaf': 76, 'min_samples_split': 38}\n",
      " {'criterion': 'gini', 'max_depth': 3, 'min_samples_leaf': 76, 'min_samples_split': 39}\n",
      " {'criterion': 'gini', 'max_depth': 3, 'min_samples_leaf': 76, 'min_samples_split': 40}\n",
      " {'criterion': 'gini', 'max_depth': 3, 'min_samples_leaf': 76, 'min_samples_split': 41}\n",
      " {'criterion': 'gini', 'max_depth': 3, 'min_samples_leaf': 76, 'min_samples_split': 42}\n",
      " {'criterion': 'gini', 'max_depth': 3, 'min_samples_leaf': 76, 'min_samples_split': 43}\n",
      " {'criterion': 'gini', 'max_depth': 3, 'min_samples_leaf': 76, 'min_samples_split': 44}\n",
      " {'criterion': 'gini', 'max_depth': 3, 'min_samples_leaf': 77, 'min_samples_split': 25}\n",
      " {'criterion': 'gini', 'max_depth': 3, 'min_samples_leaf': 77, 'min_samples_split': 26}\n",
      " {'criterion': 'gini', 'max_depth': 3, 'min_samples_leaf': 77, 'min_samples_split': 27}\n",
      " {'criterion': 'gini', 'max_depth': 3, 'min_samples_leaf': 77, 'min_samples_split': 28}\n",
      " {'criterion': 'gini', 'max_depth': 3, 'min_samples_leaf': 77, 'min_samples_split': 29}\n",
      " {'criterion': 'gini', 'max_depth': 3, 'min_samples_leaf': 77, 'min_samples_split': 30}\n",
      " {'criterion': 'gini', 'max_depth': 3, 'min_samples_leaf': 77, 'min_samples_split': 31}\n",
      " {'criterion': 'gini', 'max_depth': 3, 'min_samples_leaf': 77, 'min_samples_split': 32}\n",
      " {'criterion': 'gini', 'max_depth': 3, 'min_samples_leaf': 77, 'min_samples_split': 33}\n",
      " {'criterion': 'gini', 'max_depth': 3, 'min_samples_leaf': 77, 'min_samples_split': 34}\n",
      " {'criterion': 'gini', 'max_depth': 3, 'min_samples_leaf': 77, 'min_samples_split': 35}\n",
      " {'criterion': 'gini', 'max_depth': 3, 'min_samples_leaf': 77, 'min_samples_split': 36}\n",
      " {'criterion': 'gini', 'max_depth': 3, 'min_samples_leaf': 77, 'min_samples_split': 37}\n",
      " {'criterion': 'gini', 'max_depth': 3, 'min_samples_leaf': 77, 'min_samples_split': 38}\n",
      " {'criterion': 'gini', 'max_depth': 3, 'min_samples_leaf': 77, 'min_samples_split': 39}\n",
      " {'criterion': 'gini', 'max_depth': 3, 'min_samples_leaf': 77, 'min_samples_split': 40}\n",
      " {'criterion': 'gini', 'max_depth': 3, 'min_samples_leaf': 77, 'min_samples_split': 41}\n",
      " {'criterion': 'gini', 'max_depth': 3, 'min_samples_leaf': 77, 'min_samples_split': 42}\n",
      " {'criterion': 'gini', 'max_depth': 3, 'min_samples_leaf': 77, 'min_samples_split': 43}\n",
      " {'criterion': 'gini', 'max_depth': 3, 'min_samples_leaf': 77, 'min_samples_split': 44}\n",
      " {'criterion': 'gini', 'max_depth': 3, 'min_samples_leaf': 78, 'min_samples_split': 25}\n",
      " {'criterion': 'gini', 'max_depth': 3, 'min_samples_leaf': 78, 'min_samples_split': 26}\n",
      " {'criterion': 'gini', 'max_depth': 3, 'min_samples_leaf': 78, 'min_samples_split': 27}\n",
      " {'criterion': 'gini', 'max_depth': 3, 'min_samples_leaf': 78, 'min_samples_split': 28}\n",
      " {'criterion': 'gini', 'max_depth': 3, 'min_samples_leaf': 78, 'min_samples_split': 29}\n",
      " {'criterion': 'gini', 'max_depth': 3, 'min_samples_leaf': 78, 'min_samples_split': 30}\n",
      " {'criterion': 'gini', 'max_depth': 3, 'min_samples_leaf': 78, 'min_samples_split': 31}\n",
      " {'criterion': 'gini', 'max_depth': 3, 'min_samples_leaf': 78, 'min_samples_split': 32}\n",
      " {'criterion': 'gini', 'max_depth': 3, 'min_samples_leaf': 78, 'min_samples_split': 33}\n",
      " {'criterion': 'gini', 'max_depth': 3, 'min_samples_leaf': 78, 'min_samples_split': 34}\n",
      " {'criterion': 'gini', 'max_depth': 3, 'min_samples_leaf': 78, 'min_samples_split': 35}\n",
      " {'criterion': 'gini', 'max_depth': 3, 'min_samples_leaf': 78, 'min_samples_split': 36}\n",
      " {'criterion': 'gini', 'max_depth': 3, 'min_samples_leaf': 78, 'min_samples_split': 37}\n",
      " {'criterion': 'gini', 'max_depth': 3, 'min_samples_leaf': 78, 'min_samples_split': 38}\n",
      " {'criterion': 'gini', 'max_depth': 3, 'min_samples_leaf': 78, 'min_samples_split': 39}\n",
      " {'criterion': 'gini', 'max_depth': 3, 'min_samples_leaf': 78, 'min_samples_split': 40}\n",
      " {'criterion': 'gini', 'max_depth': 3, 'min_samples_leaf': 78, 'min_samples_split': 41}\n",
      " {'criterion': 'gini', 'max_depth': 3, 'min_samples_leaf': 78, 'min_samples_split': 42}\n",
      " {'criterion': 'gini', 'max_depth': 3, 'min_samples_leaf': 78, 'min_samples_split': 43}\n",
      " {'criterion': 'gini', 'max_depth': 3, 'min_samples_leaf': 78, 'min_samples_split': 44}\n",
      " {'criterion': 'entropy', 'max_depth': 3, 'min_samples_leaf': 65, 'min_samples_split': 25}\n",
      " {'criterion': 'entropy', 'max_depth': 3, 'min_samples_leaf': 65, 'min_samples_split': 26}\n",
      " {'criterion': 'entropy', 'max_depth': 3, 'min_samples_leaf': 65, 'min_samples_split': 27}\n",
      " {'criterion': 'entropy', 'max_depth': 3, 'min_samples_leaf': 65, 'min_samples_split': 28}\n",
      " {'criterion': 'entropy', 'max_depth': 3, 'min_samples_leaf': 65, 'min_samples_split': 29}\n",
      " {'criterion': 'entropy', 'max_depth': 3, 'min_samples_leaf': 65, 'min_samples_split': 30}\n",
      " {'criterion': 'entropy', 'max_depth': 3, 'min_samples_leaf': 65, 'min_samples_split': 31}\n",
      " {'criterion': 'entropy', 'max_depth': 3, 'min_samples_leaf': 65, 'min_samples_split': 32}\n",
      " {'criterion': 'entropy', 'max_depth': 3, 'min_samples_leaf': 65, 'min_samples_split': 33}\n",
      " {'criterion': 'entropy', 'max_depth': 3, 'min_samples_leaf': 65, 'min_samples_split': 34}\n",
      " {'criterion': 'entropy', 'max_depth': 3, 'min_samples_leaf': 65, 'min_samples_split': 35}\n",
      " {'criterion': 'entropy', 'max_depth': 3, 'min_samples_leaf': 65, 'min_samples_split': 36}\n",
      " {'criterion': 'entropy', 'max_depth': 3, 'min_samples_leaf': 65, 'min_samples_split': 37}\n",
      " {'criterion': 'entropy', 'max_depth': 3, 'min_samples_leaf': 65, 'min_samples_split': 38}\n",
      " {'criterion': 'entropy', 'max_depth': 3, 'min_samples_leaf': 65, 'min_samples_split': 39}\n",
      " {'criterion': 'entropy', 'max_depth': 3, 'min_samples_leaf': 65, 'min_samples_split': 40}\n",
      " {'criterion': 'entropy', 'max_depth': 3, 'min_samples_leaf': 65, 'min_samples_split': 41}\n",
      " {'criterion': 'entropy', 'max_depth': 3, 'min_samples_leaf': 65, 'min_samples_split': 42}\n",
      " {'criterion': 'entropy', 'max_depth': 3, 'min_samples_leaf': 65, 'min_samples_split': 43}\n",
      " {'criterion': 'entropy', 'max_depth': 3, 'min_samples_leaf': 65, 'min_samples_split': 44}\n",
      " {'criterion': 'entropy', 'max_depth': 3, 'min_samples_leaf': 66, 'min_samples_split': 25}\n",
      " {'criterion': 'entropy', 'max_depth': 3, 'min_samples_leaf': 66, 'min_samples_split': 26}\n",
      " {'criterion': 'entropy', 'max_depth': 3, 'min_samples_leaf': 66, 'min_samples_split': 27}\n",
      " {'criterion': 'entropy', 'max_depth': 3, 'min_samples_leaf': 66, 'min_samples_split': 28}\n",
      " {'criterion': 'entropy', 'max_depth': 3, 'min_samples_leaf': 66, 'min_samples_split': 29}\n",
      " {'criterion': 'entropy', 'max_depth': 3, 'min_samples_leaf': 66, 'min_samples_split': 30}\n",
      " {'criterion': 'entropy', 'max_depth': 3, 'min_samples_leaf': 66, 'min_samples_split': 31}\n",
      " {'criterion': 'entropy', 'max_depth': 3, 'min_samples_leaf': 66, 'min_samples_split': 32}\n",
      " {'criterion': 'entropy', 'max_depth': 3, 'min_samples_leaf': 66, 'min_samples_split': 33}\n",
      " {'criterion': 'entropy', 'max_depth': 3, 'min_samples_leaf': 66, 'min_samples_split': 34}\n",
      " {'criterion': 'entropy', 'max_depth': 3, 'min_samples_leaf': 66, 'min_samples_split': 35}\n",
      " {'criterion': 'entropy', 'max_depth': 3, 'min_samples_leaf': 66, 'min_samples_split': 36}\n",
      " {'criterion': 'entropy', 'max_depth': 3, 'min_samples_leaf': 66, 'min_samples_split': 37}\n",
      " {'criterion': 'entropy', 'max_depth': 3, 'min_samples_leaf': 66, 'min_samples_split': 38}\n",
      " {'criterion': 'entropy', 'max_depth': 3, 'min_samples_leaf': 66, 'min_samples_split': 39}\n",
      " {'criterion': 'entropy', 'max_depth': 3, 'min_samples_leaf': 66, 'min_samples_split': 40}\n",
      " {'criterion': 'entropy', 'max_depth': 3, 'min_samples_leaf': 66, 'min_samples_split': 41}\n",
      " {'criterion': 'entropy', 'max_depth': 3, 'min_samples_leaf': 66, 'min_samples_split': 42}\n",
      " {'criterion': 'entropy', 'max_depth': 3, 'min_samples_leaf': 66, 'min_samples_split': 43}\n",
      " {'criterion': 'entropy', 'max_depth': 3, 'min_samples_leaf': 66, 'min_samples_split': 44}\n",
      " {'criterion': 'entropy', 'max_depth': 3, 'min_samples_leaf': 67, 'min_samples_split': 25}\n",
      " {'criterion': 'entropy', 'max_depth': 3, 'min_samples_leaf': 67, 'min_samples_split': 26}\n",
      " {'criterion': 'entropy', 'max_depth': 3, 'min_samples_leaf': 67, 'min_samples_split': 27}\n",
      " {'criterion': 'entropy', 'max_depth': 3, 'min_samples_leaf': 67, 'min_samples_split': 28}\n",
      " {'criterion': 'entropy', 'max_depth': 3, 'min_samples_leaf': 67, 'min_samples_split': 29}\n",
      " {'criterion': 'entropy', 'max_depth': 3, 'min_samples_leaf': 67, 'min_samples_split': 30}\n",
      " {'criterion': 'entropy', 'max_depth': 3, 'min_samples_leaf': 67, 'min_samples_split': 31}\n",
      " {'criterion': 'entropy', 'max_depth': 3, 'min_samples_leaf': 67, 'min_samples_split': 32}\n",
      " {'criterion': 'entropy', 'max_depth': 3, 'min_samples_leaf': 67, 'min_samples_split': 33}\n",
      " {'criterion': 'entropy', 'max_depth': 3, 'min_samples_leaf': 67, 'min_samples_split': 34}\n",
      " {'criterion': 'entropy', 'max_depth': 3, 'min_samples_leaf': 67, 'min_samples_split': 35}\n",
      " {'criterion': 'entropy', 'max_depth': 3, 'min_samples_leaf': 67, 'min_samples_split': 36}\n",
      " {'criterion': 'entropy', 'max_depth': 3, 'min_samples_leaf': 67, 'min_samples_split': 37}\n",
      " {'criterion': 'entropy', 'max_depth': 3, 'min_samples_leaf': 67, 'min_samples_split': 38}\n",
      " {'criterion': 'entropy', 'max_depth': 3, 'min_samples_leaf': 67, 'min_samples_split': 39}\n",
      " {'criterion': 'entropy', 'max_depth': 3, 'min_samples_leaf': 67, 'min_samples_split': 40}\n",
      " {'criterion': 'entropy', 'max_depth': 3, 'min_samples_leaf': 67, 'min_samples_split': 41}\n",
      " {'criterion': 'entropy', 'max_depth': 3, 'min_samples_leaf': 67, 'min_samples_split': 42}\n",
      " {'criterion': 'entropy', 'max_depth': 3, 'min_samples_leaf': 67, 'min_samples_split': 43}\n",
      " {'criterion': 'entropy', 'max_depth': 3, 'min_samples_leaf': 67, 'min_samples_split': 44}\n",
      " {'criterion': 'entropy', 'max_depth': 3, 'min_samples_leaf': 68, 'min_samples_split': 25}\n",
      " {'criterion': 'entropy', 'max_depth': 3, 'min_samples_leaf': 68, 'min_samples_split': 26}\n",
      " {'criterion': 'entropy', 'max_depth': 3, 'min_samples_leaf': 68, 'min_samples_split': 27}\n",
      " {'criterion': 'entropy', 'max_depth': 3, 'min_samples_leaf': 68, 'min_samples_split': 28}\n",
      " {'criterion': 'entropy', 'max_depth': 3, 'min_samples_leaf': 68, 'min_samples_split': 29}\n",
      " {'criterion': 'entropy', 'max_depth': 3, 'min_samples_leaf': 68, 'min_samples_split': 30}\n",
      " {'criterion': 'entropy', 'max_depth': 3, 'min_samples_leaf': 68, 'min_samples_split': 31}\n",
      " {'criterion': 'entropy', 'max_depth': 3, 'min_samples_leaf': 68, 'min_samples_split': 32}\n",
      " {'criterion': 'entropy', 'max_depth': 3, 'min_samples_leaf': 68, 'min_samples_split': 33}\n",
      " {'criterion': 'entropy', 'max_depth': 3, 'min_samples_leaf': 68, 'min_samples_split': 34}\n",
      " {'criterion': 'entropy', 'max_depth': 3, 'min_samples_leaf': 68, 'min_samples_split': 35}\n",
      " {'criterion': 'entropy', 'max_depth': 3, 'min_samples_leaf': 68, 'min_samples_split': 36}\n",
      " {'criterion': 'entropy', 'max_depth': 3, 'min_samples_leaf': 68, 'min_samples_split': 37}\n",
      " {'criterion': 'entropy', 'max_depth': 3, 'min_samples_leaf': 68, 'min_samples_split': 38}\n",
      " {'criterion': 'entropy', 'max_depth': 3, 'min_samples_leaf': 68, 'min_samples_split': 39}\n",
      " {'criterion': 'entropy', 'max_depth': 3, 'min_samples_leaf': 68, 'min_samples_split': 40}\n",
      " {'criterion': 'entropy', 'max_depth': 3, 'min_samples_leaf': 68, 'min_samples_split': 41}\n",
      " {'criterion': 'entropy', 'max_depth': 3, 'min_samples_leaf': 68, 'min_samples_split': 42}\n",
      " {'criterion': 'entropy', 'max_depth': 3, 'min_samples_leaf': 68, 'min_samples_split': 43}\n",
      " {'criterion': 'entropy', 'max_depth': 3, 'min_samples_leaf': 68, 'min_samples_split': 44}\n",
      " {'criterion': 'entropy', 'max_depth': 3, 'min_samples_leaf': 69, 'min_samples_split': 25}\n",
      " {'criterion': 'entropy', 'max_depth': 3, 'min_samples_leaf': 69, 'min_samples_split': 26}\n",
      " {'criterion': 'entropy', 'max_depth': 3, 'min_samples_leaf': 69, 'min_samples_split': 27}\n",
      " {'criterion': 'entropy', 'max_depth': 3, 'min_samples_leaf': 69, 'min_samples_split': 28}\n",
      " {'criterion': 'entropy', 'max_depth': 3, 'min_samples_leaf': 69, 'min_samples_split': 29}\n",
      " {'criterion': 'entropy', 'max_depth': 3, 'min_samples_leaf': 69, 'min_samples_split': 30}\n",
      " {'criterion': 'entropy', 'max_depth': 3, 'min_samples_leaf': 69, 'min_samples_split': 31}\n",
      " {'criterion': 'entropy', 'max_depth': 3, 'min_samples_leaf': 69, 'min_samples_split': 32}\n",
      " {'criterion': 'entropy', 'max_depth': 3, 'min_samples_leaf': 69, 'min_samples_split': 33}\n",
      " {'criterion': 'entropy', 'max_depth': 3, 'min_samples_leaf': 69, 'min_samples_split': 34}\n",
      " {'criterion': 'entropy', 'max_depth': 3, 'min_samples_leaf': 69, 'min_samples_split': 35}\n",
      " {'criterion': 'entropy', 'max_depth': 3, 'min_samples_leaf': 69, 'min_samples_split': 36}\n",
      " {'criterion': 'entropy', 'max_depth': 3, 'min_samples_leaf': 69, 'min_samples_split': 37}\n",
      " {'criterion': 'entropy', 'max_depth': 3, 'min_samples_leaf': 69, 'min_samples_split': 38}\n",
      " {'criterion': 'entropy', 'max_depth': 3, 'min_samples_leaf': 69, 'min_samples_split': 39}\n",
      " {'criterion': 'entropy', 'max_depth': 3, 'min_samples_leaf': 69, 'min_samples_split': 40}\n",
      " {'criterion': 'entropy', 'max_depth': 3, 'min_samples_leaf': 69, 'min_samples_split': 41}\n",
      " {'criterion': 'entropy', 'max_depth': 3, 'min_samples_leaf': 69, 'min_samples_split': 42}\n",
      " {'criterion': 'entropy', 'max_depth': 3, 'min_samples_leaf': 69, 'min_samples_split': 43}\n",
      " {'criterion': 'entropy', 'max_depth': 3, 'min_samples_leaf': 69, 'min_samples_split': 44}\n",
      " {'criterion': 'entropy', 'max_depth': 3, 'min_samples_leaf': 70, 'min_samples_split': 25}\n",
      " {'criterion': 'entropy', 'max_depth': 3, 'min_samples_leaf': 70, 'min_samples_split': 26}\n",
      " {'criterion': 'entropy', 'max_depth': 3, 'min_samples_leaf': 70, 'min_samples_split': 27}\n",
      " {'criterion': 'entropy', 'max_depth': 3, 'min_samples_leaf': 70, 'min_samples_split': 28}\n",
      " {'criterion': 'entropy', 'max_depth': 3, 'min_samples_leaf': 70, 'min_samples_split': 29}\n",
      " {'criterion': 'entropy', 'max_depth': 3, 'min_samples_leaf': 70, 'min_samples_split': 30}\n",
      " {'criterion': 'entropy', 'max_depth': 3, 'min_samples_leaf': 70, 'min_samples_split': 31}\n",
      " {'criterion': 'entropy', 'max_depth': 3, 'min_samples_leaf': 70, 'min_samples_split': 32}\n",
      " {'criterion': 'entropy', 'max_depth': 3, 'min_samples_leaf': 70, 'min_samples_split': 33}\n",
      " {'criterion': 'entropy', 'max_depth': 3, 'min_samples_leaf': 70, 'min_samples_split': 34}\n",
      " {'criterion': 'entropy', 'max_depth': 3, 'min_samples_leaf': 70, 'min_samples_split': 35}\n",
      " {'criterion': 'entropy', 'max_depth': 3, 'min_samples_leaf': 70, 'min_samples_split': 36}\n",
      " {'criterion': 'entropy', 'max_depth': 3, 'min_samples_leaf': 70, 'min_samples_split': 37}\n",
      " {'criterion': 'entropy', 'max_depth': 3, 'min_samples_leaf': 70, 'min_samples_split': 38}\n",
      " {'criterion': 'entropy', 'max_depth': 3, 'min_samples_leaf': 70, 'min_samples_split': 39}\n",
      " {'criterion': 'entropy', 'max_depth': 3, 'min_samples_leaf': 70, 'min_samples_split': 40}\n",
      " {'criterion': 'entropy', 'max_depth': 3, 'min_samples_leaf': 70, 'min_samples_split': 41}\n",
      " {'criterion': 'entropy', 'max_depth': 3, 'min_samples_leaf': 70, 'min_samples_split': 42}\n",
      " {'criterion': 'entropy', 'max_depth': 3, 'min_samples_leaf': 70, 'min_samples_split': 43}\n",
      " {'criterion': 'entropy', 'max_depth': 3, 'min_samples_leaf': 70, 'min_samples_split': 44}\n",
      " {'criterion': 'entropy', 'max_depth': 3, 'min_samples_leaf': 71, 'min_samples_split': 25}\n",
      " {'criterion': 'entropy', 'max_depth': 3, 'min_samples_leaf': 71, 'min_samples_split': 26}\n",
      " {'criterion': 'entropy', 'max_depth': 3, 'min_samples_leaf': 71, 'min_samples_split': 27}\n",
      " {'criterion': 'entropy', 'max_depth': 3, 'min_samples_leaf': 71, 'min_samples_split': 28}\n",
      " {'criterion': 'entropy', 'max_depth': 3, 'min_samples_leaf': 71, 'min_samples_split': 29}\n",
      " {'criterion': 'entropy', 'max_depth': 3, 'min_samples_leaf': 71, 'min_samples_split': 30}\n",
      " {'criterion': 'entropy', 'max_depth': 3, 'min_samples_leaf': 71, 'min_samples_split': 31}\n",
      " {'criterion': 'entropy', 'max_depth': 3, 'min_samples_leaf': 71, 'min_samples_split': 32}\n",
      " {'criterion': 'entropy', 'max_depth': 3, 'min_samples_leaf': 71, 'min_samples_split': 33}\n",
      " {'criterion': 'entropy', 'max_depth': 3, 'min_samples_leaf': 71, 'min_samples_split': 34}\n",
      " {'criterion': 'entropy', 'max_depth': 3, 'min_samples_leaf': 71, 'min_samples_split': 35}\n",
      " {'criterion': 'entropy', 'max_depth': 3, 'min_samples_leaf': 71, 'min_samples_split': 36}\n",
      " {'criterion': 'entropy', 'max_depth': 3, 'min_samples_leaf': 71, 'min_samples_split': 37}\n",
      " {'criterion': 'entropy', 'max_depth': 3, 'min_samples_leaf': 71, 'min_samples_split': 38}\n",
      " {'criterion': 'entropy', 'max_depth': 3, 'min_samples_leaf': 71, 'min_samples_split': 39}\n",
      " {'criterion': 'entropy', 'max_depth': 3, 'min_samples_leaf': 71, 'min_samples_split': 40}\n",
      " {'criterion': 'entropy', 'max_depth': 3, 'min_samples_leaf': 71, 'min_samples_split': 41}\n",
      " {'criterion': 'entropy', 'max_depth': 3, 'min_samples_leaf': 71, 'min_samples_split': 42}\n",
      " {'criterion': 'entropy', 'max_depth': 3, 'min_samples_leaf': 71, 'min_samples_split': 43}\n",
      " {'criterion': 'entropy', 'max_depth': 3, 'min_samples_leaf': 71, 'min_samples_split': 44}\n",
      " {'criterion': 'entropy', 'max_depth': 3, 'min_samples_leaf': 72, 'min_samples_split': 25}\n",
      " {'criterion': 'entropy', 'max_depth': 3, 'min_samples_leaf': 72, 'min_samples_split': 26}\n",
      " {'criterion': 'entropy', 'max_depth': 3, 'min_samples_leaf': 72, 'min_samples_split': 27}\n",
      " {'criterion': 'entropy', 'max_depth': 3, 'min_samples_leaf': 72, 'min_samples_split': 28}\n",
      " {'criterion': 'entropy', 'max_depth': 3, 'min_samples_leaf': 72, 'min_samples_split': 29}\n",
      " {'criterion': 'entropy', 'max_depth': 3, 'min_samples_leaf': 72, 'min_samples_split': 30}\n",
      " {'criterion': 'entropy', 'max_depth': 3, 'min_samples_leaf': 72, 'min_samples_split': 31}\n",
      " {'criterion': 'entropy', 'max_depth': 3, 'min_samples_leaf': 72, 'min_samples_split': 32}\n",
      " {'criterion': 'entropy', 'max_depth': 3, 'min_samples_leaf': 72, 'min_samples_split': 33}\n",
      " {'criterion': 'entropy', 'max_depth': 3, 'min_samples_leaf': 72, 'min_samples_split': 34}\n",
      " {'criterion': 'entropy', 'max_depth': 3, 'min_samples_leaf': 72, 'min_samples_split': 35}\n",
      " {'criterion': 'entropy', 'max_depth': 3, 'min_samples_leaf': 72, 'min_samples_split': 36}\n",
      " {'criterion': 'entropy', 'max_depth': 3, 'min_samples_leaf': 72, 'min_samples_split': 37}\n",
      " {'criterion': 'entropy', 'max_depth': 3, 'min_samples_leaf': 72, 'min_samples_split': 38}\n",
      " {'criterion': 'entropy', 'max_depth': 3, 'min_samples_leaf': 72, 'min_samples_split': 39}\n",
      " {'criterion': 'entropy', 'max_depth': 3, 'min_samples_leaf': 72, 'min_samples_split': 40}\n",
      " {'criterion': 'entropy', 'max_depth': 3, 'min_samples_leaf': 72, 'min_samples_split': 41}\n",
      " {'criterion': 'entropy', 'max_depth': 3, 'min_samples_leaf': 72, 'min_samples_split': 42}\n",
      " {'criterion': 'entropy', 'max_depth': 3, 'min_samples_leaf': 72, 'min_samples_split': 43}\n",
      " {'criterion': 'entropy', 'max_depth': 3, 'min_samples_leaf': 72, 'min_samples_split': 44}\n",
      " {'criterion': 'entropy', 'max_depth': 3, 'min_samples_leaf': 73, 'min_samples_split': 25}\n",
      " {'criterion': 'entropy', 'max_depth': 3, 'min_samples_leaf': 73, 'min_samples_split': 26}\n",
      " {'criterion': 'entropy', 'max_depth': 3, 'min_samples_leaf': 73, 'min_samples_split': 27}\n",
      " {'criterion': 'entropy', 'max_depth': 3, 'min_samples_leaf': 73, 'min_samples_split': 28}\n",
      " {'criterion': 'entropy', 'max_depth': 3, 'min_samples_leaf': 73, 'min_samples_split': 29}\n",
      " {'criterion': 'entropy', 'max_depth': 3, 'min_samples_leaf': 73, 'min_samples_split': 30}\n",
      " {'criterion': 'entropy', 'max_depth': 3, 'min_samples_leaf': 73, 'min_samples_split': 31}\n",
      " {'criterion': 'entropy', 'max_depth': 3, 'min_samples_leaf': 73, 'min_samples_split': 32}\n",
      " {'criterion': 'entropy', 'max_depth': 3, 'min_samples_leaf': 73, 'min_samples_split': 33}\n",
      " {'criterion': 'entropy', 'max_depth': 3, 'min_samples_leaf': 73, 'min_samples_split': 34}\n",
      " {'criterion': 'entropy', 'max_depth': 3, 'min_samples_leaf': 73, 'min_samples_split': 35}\n",
      " {'criterion': 'entropy', 'max_depth': 3, 'min_samples_leaf': 73, 'min_samples_split': 36}\n",
      " {'criterion': 'entropy', 'max_depth': 3, 'min_samples_leaf': 73, 'min_samples_split': 37}\n",
      " {'criterion': 'entropy', 'max_depth': 3, 'min_samples_leaf': 73, 'min_samples_split': 38}\n",
      " {'criterion': 'entropy', 'max_depth': 3, 'min_samples_leaf': 73, 'min_samples_split': 39}\n",
      " {'criterion': 'entropy', 'max_depth': 3, 'min_samples_leaf': 73, 'min_samples_split': 40}\n",
      " {'criterion': 'entropy', 'max_depth': 3, 'min_samples_leaf': 73, 'min_samples_split': 41}\n",
      " {'criterion': 'entropy', 'max_depth': 3, 'min_samples_leaf': 73, 'min_samples_split': 42}\n",
      " {'criterion': 'entropy', 'max_depth': 3, 'min_samples_leaf': 73, 'min_samples_split': 43}\n",
      " {'criterion': 'entropy', 'max_depth': 3, 'min_samples_leaf': 73, 'min_samples_split': 44}\n",
      " {'criterion': 'entropy', 'max_depth': 3, 'min_samples_leaf': 74, 'min_samples_split': 25}\n",
      " {'criterion': 'entropy', 'max_depth': 3, 'min_samples_leaf': 74, 'min_samples_split': 26}\n",
      " {'criterion': 'entropy', 'max_depth': 3, 'min_samples_leaf': 74, 'min_samples_split': 27}\n",
      " {'criterion': 'entropy', 'max_depth': 3, 'min_samples_leaf': 74, 'min_samples_split': 28}\n",
      " {'criterion': 'entropy', 'max_depth': 3, 'min_samples_leaf': 74, 'min_samples_split': 29}\n",
      " {'criterion': 'entropy', 'max_depth': 3, 'min_samples_leaf': 74, 'min_samples_split': 30}\n",
      " {'criterion': 'entropy', 'max_depth': 3, 'min_samples_leaf': 74, 'min_samples_split': 31}\n",
      " {'criterion': 'entropy', 'max_depth': 3, 'min_samples_leaf': 74, 'min_samples_split': 32}\n",
      " {'criterion': 'entropy', 'max_depth': 3, 'min_samples_leaf': 74, 'min_samples_split': 33}\n",
      " {'criterion': 'entropy', 'max_depth': 3, 'min_samples_leaf': 74, 'min_samples_split': 34}\n",
      " {'criterion': 'entropy', 'max_depth': 3, 'min_samples_leaf': 74, 'min_samples_split': 35}\n",
      " {'criterion': 'entropy', 'max_depth': 3, 'min_samples_leaf': 74, 'min_samples_split': 36}\n",
      " {'criterion': 'entropy', 'max_depth': 3, 'min_samples_leaf': 74, 'min_samples_split': 37}\n",
      " {'criterion': 'entropy', 'max_depth': 3, 'min_samples_leaf': 74, 'min_samples_split': 38}\n",
      " {'criterion': 'entropy', 'max_depth': 3, 'min_samples_leaf': 74, 'min_samples_split': 39}\n",
      " {'criterion': 'entropy', 'max_depth': 3, 'min_samples_leaf': 74, 'min_samples_split': 40}\n",
      " {'criterion': 'entropy', 'max_depth': 3, 'min_samples_leaf': 74, 'min_samples_split': 41}\n",
      " {'criterion': 'entropy', 'max_depth': 3, 'min_samples_leaf': 74, 'min_samples_split': 42}\n",
      " {'criterion': 'entropy', 'max_depth': 3, 'min_samples_leaf': 74, 'min_samples_split': 43}\n",
      " {'criterion': 'entropy', 'max_depth': 3, 'min_samples_leaf': 74, 'min_samples_split': 44}\n",
      " {'criterion': 'entropy', 'max_depth': 3, 'min_samples_leaf': 75, 'min_samples_split': 25}\n",
      " {'criterion': 'entropy', 'max_depth': 3, 'min_samples_leaf': 75, 'min_samples_split': 26}\n",
      " {'criterion': 'entropy', 'max_depth': 3, 'min_samples_leaf': 75, 'min_samples_split': 27}\n",
      " {'criterion': 'entropy', 'max_depth': 3, 'min_samples_leaf': 75, 'min_samples_split': 28}\n",
      " {'criterion': 'entropy', 'max_depth': 3, 'min_samples_leaf': 75, 'min_samples_split': 29}\n",
      " {'criterion': 'entropy', 'max_depth': 3, 'min_samples_leaf': 75, 'min_samples_split': 30}\n",
      " {'criterion': 'entropy', 'max_depth': 3, 'min_samples_leaf': 75, 'min_samples_split': 31}\n",
      " {'criterion': 'entropy', 'max_depth': 3, 'min_samples_leaf': 75, 'min_samples_split': 32}\n",
      " {'criterion': 'entropy', 'max_depth': 3, 'min_samples_leaf': 75, 'min_samples_split': 33}\n",
      " {'criterion': 'entropy', 'max_depth': 3, 'min_samples_leaf': 75, 'min_samples_split': 34}\n",
      " {'criterion': 'entropy', 'max_depth': 3, 'min_samples_leaf': 75, 'min_samples_split': 35}\n",
      " {'criterion': 'entropy', 'max_depth': 3, 'min_samples_leaf': 75, 'min_samples_split': 36}\n",
      " {'criterion': 'entropy', 'max_depth': 3, 'min_samples_leaf': 75, 'min_samples_split': 37}\n",
      " {'criterion': 'entropy', 'max_depth': 3, 'min_samples_leaf': 75, 'min_samples_split': 38}\n",
      " {'criterion': 'entropy', 'max_depth': 3, 'min_samples_leaf': 75, 'min_samples_split': 39}\n",
      " {'criterion': 'entropy', 'max_depth': 3, 'min_samples_leaf': 75, 'min_samples_split': 40}\n",
      " {'criterion': 'entropy', 'max_depth': 3, 'min_samples_leaf': 75, 'min_samples_split': 41}\n",
      " {'criterion': 'entropy', 'max_depth': 3, 'min_samples_leaf': 75, 'min_samples_split': 42}\n",
      " {'criterion': 'entropy', 'max_depth': 3, 'min_samples_leaf': 75, 'min_samples_split': 43}\n",
      " {'criterion': 'entropy', 'max_depth': 3, 'min_samples_leaf': 75, 'min_samples_split': 44}\n",
      " {'criterion': 'entropy', 'max_depth': 3, 'min_samples_leaf': 76, 'min_samples_split': 25}\n",
      " {'criterion': 'entropy', 'max_depth': 3, 'min_samples_leaf': 76, 'min_samples_split': 26}\n",
      " {'criterion': 'entropy', 'max_depth': 3, 'min_samples_leaf': 76, 'min_samples_split': 27}\n",
      " {'criterion': 'entropy', 'max_depth': 3, 'min_samples_leaf': 76, 'min_samples_split': 28}\n",
      " {'criterion': 'entropy', 'max_depth': 3, 'min_samples_leaf': 76, 'min_samples_split': 29}\n",
      " {'criterion': 'entropy', 'max_depth': 3, 'min_samples_leaf': 76, 'min_samples_split': 30}\n",
      " {'criterion': 'entropy', 'max_depth': 3, 'min_samples_leaf': 76, 'min_samples_split': 31}\n",
      " {'criterion': 'entropy', 'max_depth': 3, 'min_samples_leaf': 76, 'min_samples_split': 32}\n",
      " {'criterion': 'entropy', 'max_depth': 3, 'min_samples_leaf': 76, 'min_samples_split': 33}\n",
      " {'criterion': 'entropy', 'max_depth': 3, 'min_samples_leaf': 76, 'min_samples_split': 34}\n",
      " {'criterion': 'entropy', 'max_depth': 3, 'min_samples_leaf': 76, 'min_samples_split': 35}\n",
      " {'criterion': 'entropy', 'max_depth': 3, 'min_samples_leaf': 76, 'min_samples_split': 36}\n",
      " {'criterion': 'entropy', 'max_depth': 3, 'min_samples_leaf': 76, 'min_samples_split': 37}\n",
      " {'criterion': 'entropy', 'max_depth': 3, 'min_samples_leaf': 76, 'min_samples_split': 38}\n",
      " {'criterion': 'entropy', 'max_depth': 3, 'min_samples_leaf': 76, 'min_samples_split': 39}\n",
      " {'criterion': 'entropy', 'max_depth': 3, 'min_samples_leaf': 76, 'min_samples_split': 40}\n",
      " {'criterion': 'entropy', 'max_depth': 3, 'min_samples_leaf': 76, 'min_samples_split': 41}\n",
      " {'criterion': 'entropy', 'max_depth': 3, 'min_samples_leaf': 76, 'min_samples_split': 42}\n",
      " {'criterion': 'entropy', 'max_depth': 3, 'min_samples_leaf': 76, 'min_samples_split': 43}\n",
      " {'criterion': 'entropy', 'max_depth': 3, 'min_samples_leaf': 76, 'min_samples_split': 44}\n",
      " {'criterion': 'entropy', 'max_depth': 3, 'min_samples_leaf': 77, 'min_samples_split': 25}\n",
      " {'criterion': 'entropy', 'max_depth': 3, 'min_samples_leaf': 77, 'min_samples_split': 26}\n",
      " {'criterion': 'entropy', 'max_depth': 3, 'min_samples_leaf': 77, 'min_samples_split': 27}\n",
      " {'criterion': 'entropy', 'max_depth': 3, 'min_samples_leaf': 77, 'min_samples_split': 28}\n",
      " {'criterion': 'entropy', 'max_depth': 3, 'min_samples_leaf': 77, 'min_samples_split': 29}\n",
      " {'criterion': 'entropy', 'max_depth': 3, 'min_samples_leaf': 77, 'min_samples_split': 30}\n",
      " {'criterion': 'entropy', 'max_depth': 3, 'min_samples_leaf': 77, 'min_samples_split': 31}\n",
      " {'criterion': 'entropy', 'max_depth': 3, 'min_samples_leaf': 77, 'min_samples_split': 32}\n",
      " {'criterion': 'entropy', 'max_depth': 3, 'min_samples_leaf': 77, 'min_samples_split': 33}\n",
      " {'criterion': 'entropy', 'max_depth': 3, 'min_samples_leaf': 77, 'min_samples_split': 34}\n",
      " {'criterion': 'entropy', 'max_depth': 3, 'min_samples_leaf': 77, 'min_samples_split': 35}\n",
      " {'criterion': 'entropy', 'max_depth': 3, 'min_samples_leaf': 77, 'min_samples_split': 36}\n",
      " {'criterion': 'entropy', 'max_depth': 3, 'min_samples_leaf': 77, 'min_samples_split': 37}\n",
      " {'criterion': 'entropy', 'max_depth': 3, 'min_samples_leaf': 77, 'min_samples_split': 38}\n",
      " {'criterion': 'entropy', 'max_depth': 3, 'min_samples_leaf': 77, 'min_samples_split': 39}\n",
      " {'criterion': 'entropy', 'max_depth': 3, 'min_samples_leaf': 77, 'min_samples_split': 40}\n",
      " {'criterion': 'entropy', 'max_depth': 3, 'min_samples_leaf': 77, 'min_samples_split': 41}\n",
      " {'criterion': 'entropy', 'max_depth': 3, 'min_samples_leaf': 77, 'min_samples_split': 42}\n",
      " {'criterion': 'entropy', 'max_depth': 3, 'min_samples_leaf': 77, 'min_samples_split': 43}\n",
      " {'criterion': 'entropy', 'max_depth': 3, 'min_samples_leaf': 77, 'min_samples_split': 44}\n",
      " {'criterion': 'entropy', 'max_depth': 3, 'min_samples_leaf': 78, 'min_samples_split': 25}\n",
      " {'criterion': 'entropy', 'max_depth': 3, 'min_samples_leaf': 78, 'min_samples_split': 26}\n",
      " {'criterion': 'entropy', 'max_depth': 3, 'min_samples_leaf': 78, 'min_samples_split': 27}\n",
      " {'criterion': 'entropy', 'max_depth': 3, 'min_samples_leaf': 78, 'min_samples_split': 28}\n",
      " {'criterion': 'entropy', 'max_depth': 3, 'min_samples_leaf': 78, 'min_samples_split': 29}\n",
      " {'criterion': 'entropy', 'max_depth': 3, 'min_samples_leaf': 78, 'min_samples_split': 30}\n",
      " {'criterion': 'entropy', 'max_depth': 3, 'min_samples_leaf': 78, 'min_samples_split': 31}\n",
      " {'criterion': 'entropy', 'max_depth': 3, 'min_samples_leaf': 78, 'min_samples_split': 32}\n",
      " {'criterion': 'entropy', 'max_depth': 3, 'min_samples_leaf': 78, 'min_samples_split': 33}\n",
      " {'criterion': 'entropy', 'max_depth': 3, 'min_samples_leaf': 78, 'min_samples_split': 34}\n",
      " {'criterion': 'entropy', 'max_depth': 3, 'min_samples_leaf': 78, 'min_samples_split': 35}\n",
      " {'criterion': 'entropy', 'max_depth': 3, 'min_samples_leaf': 78, 'min_samples_split': 36}\n",
      " {'criterion': 'entropy', 'max_depth': 3, 'min_samples_leaf': 78, 'min_samples_split': 37}\n",
      " {'criterion': 'entropy', 'max_depth': 3, 'min_samples_leaf': 78, 'min_samples_split': 38}\n",
      " {'criterion': 'entropy', 'max_depth': 3, 'min_samples_leaf': 78, 'min_samples_split': 39}\n",
      " {'criterion': 'entropy', 'max_depth': 3, 'min_samples_leaf': 78, 'min_samples_split': 40}\n",
      " {'criterion': 'entropy', 'max_depth': 3, 'min_samples_leaf': 78, 'min_samples_split': 41}\n",
      " {'criterion': 'entropy', 'max_depth': 3, 'min_samples_leaf': 78, 'min_samples_split': 42}\n",
      " {'criterion': 'entropy', 'max_depth': 3, 'min_samples_leaf': 78, 'min_samples_split': 43}\n",
      " {'criterion': 'entropy', 'max_depth': 3, 'min_samples_leaf': 78, 'min_samples_split': 44}]\n",
      "Accuracy is: [0.74771172 0.74771172 0.74771172 0.74771172 0.74771172 0.74771172\n",
      " 0.74771172 0.74771172 0.74771172 0.74771172 0.74771172 0.74771172\n",
      " 0.74771172 0.74771172 0.74771172 0.74771172 0.74771172 0.74771172\n",
      " 0.74771172 0.74771172 0.74771172 0.74771172 0.74771172 0.74771172\n",
      " 0.74771172 0.74771172 0.74771172 0.74771172 0.74771172 0.74771172\n",
      " 0.74771172 0.74771172 0.74771172 0.74771172 0.74771172 0.74771172\n",
      " 0.74771172 0.74771172 0.74771172 0.74771172 0.74771172 0.74771172\n",
      " 0.74771172 0.74771172 0.74771172 0.74771172 0.74771172 0.74771172\n",
      " 0.74771172 0.74771172 0.74771172 0.74771172 0.74771172 0.74771172\n",
      " 0.74771172 0.74771172 0.74771172 0.74771172 0.74771172 0.74771172\n",
      " 0.74771172 0.74771172 0.74771172 0.74771172 0.74771172 0.74771172\n",
      " 0.74771172 0.74771172 0.74771172 0.74771172 0.74771172 0.74771172\n",
      " 0.74771172 0.74771172 0.74771172 0.74771172 0.74771172 0.74771172\n",
      " 0.74771172 0.74771172 0.74771172 0.74771172 0.74771172 0.74771172\n",
      " 0.74771172 0.74771172 0.74771172 0.74771172 0.74771172 0.74771172\n",
      " 0.74771172 0.74771172 0.74771172 0.74771172 0.74771172 0.74771172\n",
      " 0.74771172 0.74771172 0.74771172 0.74771172 0.74771172 0.74771172\n",
      " 0.74771172 0.74771172 0.74771172 0.74771172 0.74771172 0.74771172\n",
      " 0.74771172 0.74771172 0.74771172 0.74771172 0.74771172 0.74771172\n",
      " 0.74771172 0.74771172 0.74771172 0.74771172 0.74771172 0.74771172\n",
      " 0.74771172 0.74771172 0.74771172 0.74771172 0.74771172 0.74771172\n",
      " 0.74771172 0.74771172 0.74771172 0.74771172 0.74771172 0.74771172\n",
      " 0.74771172 0.74771172 0.74771172 0.74771172 0.74771172 0.74771172\n",
      " 0.74771172 0.74771172 0.74771172 0.74771172 0.74771172 0.74771172\n",
      " 0.74771172 0.74771172 0.74771172 0.74771172 0.74771172 0.74771172\n",
      " 0.74771172 0.74771172 0.74771172 0.74771172 0.74771172 0.74771172\n",
      " 0.74771172 0.74771172 0.74771172 0.74771172 0.74771172 0.74771172\n",
      " 0.74771172 0.74771172 0.74771172 0.74771172 0.74771172 0.74771172\n",
      " 0.74771172 0.74771172 0.74771172 0.74771172 0.74771172 0.74771172\n",
      " 0.74771172 0.74771172 0.74771172 0.74771172 0.74771172 0.74771172\n",
      " 0.74771172 0.74771172 0.74771172 0.74771172 0.74771172 0.74771172\n",
      " 0.74771172 0.74771172 0.74771172 0.74771172 0.74771172 0.74771172\n",
      " 0.74771172 0.74771172 0.74771172 0.74771172 0.74771172 0.74771172\n",
      " 0.74771172 0.74771172 0.74771172 0.74771172 0.74771172 0.74771172\n",
      " 0.74771172 0.74771172 0.74771172 0.74771172 0.74771172 0.74771172\n",
      " 0.74771172 0.74771172 0.74771172 0.74771172 0.74771172 0.74771172\n",
      " 0.74771172 0.74771172 0.74771172 0.74771172 0.74771172 0.74771172\n",
      " 0.74771172 0.74771172 0.74771172 0.74771172 0.74771172 0.74771172\n",
      " 0.74771172 0.74771172 0.74771172 0.74771172 0.74771172 0.74771172\n",
      " 0.74771172 0.74771172 0.74771172 0.74771172 0.74771172 0.74771172\n",
      " 0.74771172 0.74771172 0.74771172 0.74771172 0.74771172 0.74771172\n",
      " 0.74771172 0.74771172 0.74771172 0.74771172 0.74771172 0.74771172\n",
      " 0.74771172 0.74771172 0.74771172 0.74771172 0.74771172 0.74771172\n",
      " 0.74771172 0.74771172 0.74771172 0.74771172 0.74771172 0.74771172\n",
      " 0.74771172 0.74771172 0.74771172 0.74771172 0.74771172 0.74771172\n",
      " 0.74771172 0.74771172 0.74771172 0.74771172 0.74771172 0.74771172\n",
      " 0.74771172 0.74771172 0.74771172 0.74771172 0.74771172 0.74771172\n",
      " 0.74771172 0.74771172 0.74771172 0.74771172 0.74771172 0.74771172\n",
      " 0.74771172 0.74771172 0.74771172 0.74771172 0.74771172 0.74771172\n",
      " 0.74771172 0.74771172 0.74771172 0.74771172 0.74771172 0.74771172\n",
      " 0.74771172 0.74771172 0.74771172 0.74771172 0.74771172 0.74771172\n",
      " 0.74771172 0.74771172 0.74771172 0.74771172 0.74771172 0.74771172\n",
      " 0.74771172 0.74771172 0.74771172 0.74771172 0.74771172 0.74771172\n",
      " 0.74771172 0.74771172 0.74771172 0.74771172 0.74771172 0.74771172\n",
      " 0.74771172 0.74771172 0.74771172 0.74771172 0.74771172 0.74771172\n",
      " 0.74771172 0.74771172 0.74771172 0.74771172 0.74771172 0.74771172\n",
      " 0.74771172 0.74771172 0.74771172 0.74771172 0.74771172 0.74771172\n",
      " 0.74771172 0.74771172 0.74771172 0.74771172 0.74771172 0.74771172\n",
      " 0.74771172 0.74771172 0.74771172 0.74771172 0.74771172 0.74771172\n",
      " 0.74771172 0.74771172 0.74771172 0.74771172 0.74771172 0.74771172\n",
      " 0.74771172 0.74771172 0.74771172 0.74771172 0.74771172 0.74771172\n",
      " 0.74771172 0.74771172 0.74771172 0.74771172 0.74771172 0.74771172\n",
      " 0.74771172 0.74771172 0.74771172 0.74771172 0.74771172 0.74771172\n",
      " 0.74771172 0.74771172 0.74771172 0.74771172 0.74771172 0.74771172\n",
      " 0.74771172 0.74771172 0.74771172 0.74771172 0.74771172 0.74771172\n",
      " 0.74771172 0.74771172 0.74771172 0.74771172 0.74771172 0.74771172\n",
      " 0.74771172 0.74771172 0.74771172 0.74771172 0.74771172 0.74771172\n",
      " 0.74771172 0.74771172 0.74771172 0.74771172 0.74771172 0.74771172\n",
      " 0.74771172 0.74771172 0.74771172 0.74771172 0.74771172 0.74771172\n",
      " 0.74771172 0.74771172 0.74771172 0.74771172 0.74771172 0.74771172\n",
      " 0.74771172 0.74771172 0.74771172 0.74771172 0.74771172 0.74771172\n",
      " 0.74771172 0.74771172 0.74771172 0.74771172 0.74771172 0.74771172\n",
      " 0.74771172 0.74771172 0.74771172 0.74771172 0.74771172 0.74771172\n",
      " 0.74771172 0.74771172 0.74771172 0.74771172 0.74771172 0.74771172\n",
      " 0.74771172 0.74771172 0.74771172 0.74771172 0.74771172 0.74771172\n",
      " 0.74771172 0.74771172 0.74771172 0.74771172 0.74771172 0.74771172\n",
      " 0.74771172 0.74771172 0.74771172 0.74771172 0.74771172 0.74771172\n",
      " 0.74771172 0.74771172 0.74771172 0.74771172 0.74771172 0.74771172\n",
      " 0.74771172 0.74771172 0.74771172 0.74771172 0.74771172 0.74771172\n",
      " 0.74771172 0.74771172 0.74771172 0.74771172 0.74771172 0.74771172\n",
      " 0.74771172 0.74771172 0.74771172 0.74771172 0.74771172 0.74771172\n",
      " 0.74771172 0.74771172 0.74771172 0.74771172 0.74771172 0.74771172\n",
      " 0.74771172 0.74771172 0.74771172 0.74771172 0.74771172 0.74771172\n",
      " 0.74771172 0.74771172 0.74771172 0.74771172 0.74771172 0.74771172\n",
      " 0.74771172 0.74771172 0.74771172 0.74771172 0.74771172 0.74771172\n",
      " 0.74771172 0.74771172 0.74771172 0.74771172 0.74771172 0.74771172\n",
      " 0.74771172 0.74771172 0.74771172 0.74771172 0.74771172 0.74771172\n",
      " 0.74771172 0.74771172 0.74771172 0.74771172 0.74771172 0.74771172\n",
      " 0.74771172 0.74771172 0.74771172 0.74771172 0.74771172 0.74771172\n",
      " 0.74771172 0.74771172 0.74771172 0.74771172 0.74771172 0.74771172\n",
      " 0.74771172 0.74771172 0.74771172 0.74771172 0.74771172 0.74771172\n",
      " 0.74771172 0.74771172 0.74771172 0.74771172 0.74771172 0.74771172\n",
      " 0.74771172 0.74771172 0.74771172 0.74771172 0.74771172 0.74771172\n",
      " 0.74771172 0.74771172]\n",
      "Bias Error is: [0.25228828 0.25228828 0.25228828 0.25228828 0.25228828 0.25228828\n",
      " 0.25228828 0.25228828 0.25228828 0.25228828 0.25228828 0.25228828\n",
      " 0.25228828 0.25228828 0.25228828 0.25228828 0.25228828 0.25228828\n",
      " 0.25228828 0.25228828 0.25228828 0.25228828 0.25228828 0.25228828\n",
      " 0.25228828 0.25228828 0.25228828 0.25228828 0.25228828 0.25228828\n",
      " 0.25228828 0.25228828 0.25228828 0.25228828 0.25228828 0.25228828\n",
      " 0.25228828 0.25228828 0.25228828 0.25228828 0.25228828 0.25228828\n",
      " 0.25228828 0.25228828 0.25228828 0.25228828 0.25228828 0.25228828\n",
      " 0.25228828 0.25228828 0.25228828 0.25228828 0.25228828 0.25228828\n",
      " 0.25228828 0.25228828 0.25228828 0.25228828 0.25228828 0.25228828\n",
      " 0.25228828 0.25228828 0.25228828 0.25228828 0.25228828 0.25228828\n",
      " 0.25228828 0.25228828 0.25228828 0.25228828 0.25228828 0.25228828\n",
      " 0.25228828 0.25228828 0.25228828 0.25228828 0.25228828 0.25228828\n",
      " 0.25228828 0.25228828 0.25228828 0.25228828 0.25228828 0.25228828\n",
      " 0.25228828 0.25228828 0.25228828 0.25228828 0.25228828 0.25228828\n",
      " 0.25228828 0.25228828 0.25228828 0.25228828 0.25228828 0.25228828\n",
      " 0.25228828 0.25228828 0.25228828 0.25228828 0.25228828 0.25228828\n",
      " 0.25228828 0.25228828 0.25228828 0.25228828 0.25228828 0.25228828\n",
      " 0.25228828 0.25228828 0.25228828 0.25228828 0.25228828 0.25228828\n",
      " 0.25228828 0.25228828 0.25228828 0.25228828 0.25228828 0.25228828\n",
      " 0.25228828 0.25228828 0.25228828 0.25228828 0.25228828 0.25228828\n",
      " 0.25228828 0.25228828 0.25228828 0.25228828 0.25228828 0.25228828\n",
      " 0.25228828 0.25228828 0.25228828 0.25228828 0.25228828 0.25228828\n",
      " 0.25228828 0.25228828 0.25228828 0.25228828 0.25228828 0.25228828\n",
      " 0.25228828 0.25228828 0.25228828 0.25228828 0.25228828 0.25228828\n",
      " 0.25228828 0.25228828 0.25228828 0.25228828 0.25228828 0.25228828\n",
      " 0.25228828 0.25228828 0.25228828 0.25228828 0.25228828 0.25228828\n",
      " 0.25228828 0.25228828 0.25228828 0.25228828 0.25228828 0.25228828\n",
      " 0.25228828 0.25228828 0.25228828 0.25228828 0.25228828 0.25228828\n",
      " 0.25228828 0.25228828 0.25228828 0.25228828 0.25228828 0.25228828\n",
      " 0.25228828 0.25228828 0.25228828 0.25228828 0.25228828 0.25228828\n",
      " 0.25228828 0.25228828 0.25228828 0.25228828 0.25228828 0.25228828\n",
      " 0.25228828 0.25228828 0.25228828 0.25228828 0.25228828 0.25228828\n",
      " 0.25228828 0.25228828 0.25228828 0.25228828 0.25228828 0.25228828\n",
      " 0.25228828 0.25228828 0.25228828 0.25228828 0.25228828 0.25228828\n",
      " 0.25228828 0.25228828 0.25228828 0.25228828 0.25228828 0.25228828\n",
      " 0.25228828 0.25228828 0.25228828 0.25228828 0.25228828 0.25228828\n",
      " 0.25228828 0.25228828 0.25228828 0.25228828 0.25228828 0.25228828\n",
      " 0.25228828 0.25228828 0.25228828 0.25228828 0.25228828 0.25228828\n",
      " 0.25228828 0.25228828 0.25228828 0.25228828 0.25228828 0.25228828\n",
      " 0.25228828 0.25228828 0.25228828 0.25228828 0.25228828 0.25228828\n",
      " 0.25228828 0.25228828 0.25228828 0.25228828 0.25228828 0.25228828\n",
      " 0.25228828 0.25228828 0.25228828 0.25228828 0.25228828 0.25228828\n",
      " 0.25228828 0.25228828 0.25228828 0.25228828 0.25228828 0.25228828\n",
      " 0.25228828 0.25228828 0.25228828 0.25228828 0.25228828 0.25228828\n",
      " 0.25228828 0.25228828 0.25228828 0.25228828 0.25228828 0.25228828\n",
      " 0.25228828 0.25228828 0.25228828 0.25228828 0.25228828 0.25228828\n",
      " 0.25228828 0.25228828 0.25228828 0.25228828 0.25228828 0.25228828\n",
      " 0.25228828 0.25228828 0.25228828 0.25228828 0.25228828 0.25228828\n",
      " 0.25228828 0.25228828 0.25228828 0.25228828 0.25228828 0.25228828\n",
      " 0.25228828 0.25228828 0.25228828 0.25228828 0.25228828 0.25228828\n",
      " 0.25228828 0.25228828 0.25228828 0.25228828 0.25228828 0.25228828\n",
      " 0.25228828 0.25228828 0.25228828 0.25228828 0.25228828 0.25228828\n",
      " 0.25228828 0.25228828 0.25228828 0.25228828 0.25228828 0.25228828\n",
      " 0.25228828 0.25228828 0.25228828 0.25228828 0.25228828 0.25228828\n",
      " 0.25228828 0.25228828 0.25228828 0.25228828 0.25228828 0.25228828\n",
      " 0.25228828 0.25228828 0.25228828 0.25228828 0.25228828 0.25228828\n",
      " 0.25228828 0.25228828 0.25228828 0.25228828 0.25228828 0.25228828\n",
      " 0.25228828 0.25228828 0.25228828 0.25228828 0.25228828 0.25228828\n",
      " 0.25228828 0.25228828 0.25228828 0.25228828 0.25228828 0.25228828\n",
      " 0.25228828 0.25228828 0.25228828 0.25228828 0.25228828 0.25228828\n",
      " 0.25228828 0.25228828 0.25228828 0.25228828 0.25228828 0.25228828\n",
      " 0.25228828 0.25228828 0.25228828 0.25228828 0.25228828 0.25228828\n",
      " 0.25228828 0.25228828 0.25228828 0.25228828 0.25228828 0.25228828\n",
      " 0.25228828 0.25228828 0.25228828 0.25228828 0.25228828 0.25228828\n",
      " 0.25228828 0.25228828 0.25228828 0.25228828 0.25228828 0.25228828\n",
      " 0.25228828 0.25228828 0.25228828 0.25228828 0.25228828 0.25228828\n",
      " 0.25228828 0.25228828 0.25228828 0.25228828 0.25228828 0.25228828\n",
      " 0.25228828 0.25228828 0.25228828 0.25228828 0.25228828 0.25228828\n",
      " 0.25228828 0.25228828 0.25228828 0.25228828 0.25228828 0.25228828\n",
      " 0.25228828 0.25228828 0.25228828 0.25228828 0.25228828 0.25228828\n",
      " 0.25228828 0.25228828 0.25228828 0.25228828 0.25228828 0.25228828\n",
      " 0.25228828 0.25228828 0.25228828 0.25228828 0.25228828 0.25228828\n",
      " 0.25228828 0.25228828 0.25228828 0.25228828 0.25228828 0.25228828\n",
      " 0.25228828 0.25228828 0.25228828 0.25228828 0.25228828 0.25228828\n",
      " 0.25228828 0.25228828 0.25228828 0.25228828 0.25228828 0.25228828\n",
      " 0.25228828 0.25228828 0.25228828 0.25228828 0.25228828 0.25228828\n",
      " 0.25228828 0.25228828 0.25228828 0.25228828 0.25228828 0.25228828\n",
      " 0.25228828 0.25228828 0.25228828 0.25228828 0.25228828 0.25228828\n",
      " 0.25228828 0.25228828 0.25228828 0.25228828 0.25228828 0.25228828\n",
      " 0.25228828 0.25228828 0.25228828 0.25228828 0.25228828 0.25228828\n",
      " 0.25228828 0.25228828 0.25228828 0.25228828 0.25228828 0.25228828\n",
      " 0.25228828 0.25228828 0.25228828 0.25228828 0.25228828 0.25228828\n",
      " 0.25228828 0.25228828 0.25228828 0.25228828 0.25228828 0.25228828\n",
      " 0.25228828 0.25228828 0.25228828 0.25228828 0.25228828 0.25228828\n",
      " 0.25228828 0.25228828 0.25228828 0.25228828 0.25228828 0.25228828\n",
      " 0.25228828 0.25228828 0.25228828 0.25228828 0.25228828 0.25228828\n",
      " 0.25228828 0.25228828 0.25228828 0.25228828 0.25228828 0.25228828\n",
      " 0.25228828 0.25228828 0.25228828 0.25228828 0.25228828 0.25228828\n",
      " 0.25228828 0.25228828 0.25228828 0.25228828 0.25228828 0.25228828\n",
      " 0.25228828 0.25228828 0.25228828 0.25228828 0.25228828 0.25228828\n",
      " 0.25228828 0.25228828 0.25228828 0.25228828 0.25228828 0.25228828\n",
      " 0.25228828 0.25228828 0.25228828 0.25228828 0.25228828 0.25228828\n",
      " 0.25228828 0.25228828]\n",
      "Variance Error is: [6.6861644e-05 6.6861644e-05 6.6861644e-05 6.6861644e-05 6.6861644e-05\n",
      " 6.6861644e-05 6.6861644e-05 6.6861644e-05 6.6861644e-05 6.6861644e-05\n",
      " 6.6861644e-05 6.6861644e-05 6.6861644e-05 6.6861644e-05 6.6861644e-05\n",
      " 6.6861644e-05 6.6861644e-05 6.6861644e-05 6.6861644e-05 6.6861644e-05\n",
      " 6.6861644e-05 6.6861644e-05 6.6861644e-05 6.6861644e-05 6.6861644e-05\n",
      " 6.6861644e-05 6.6861644e-05 6.6861644e-05 6.6861644e-05 6.6861644e-05\n",
      " 6.6861644e-05 6.6861644e-05 6.6861644e-05 6.6861644e-05 6.6861644e-05\n",
      " 6.6861644e-05 6.6861644e-05 6.6861644e-05 6.6861644e-05 6.6861644e-05\n",
      " 6.6861644e-05 6.6861644e-05 6.6861644e-05 6.6861644e-05 6.6861644e-05\n",
      " 6.6861644e-05 6.6861644e-05 6.6861644e-05 6.6861644e-05 6.6861644e-05\n",
      " 6.6861644e-05 6.6861644e-05 6.6861644e-05 6.6861644e-05 6.6861644e-05\n",
      " 6.6861644e-05 6.6861644e-05 6.6861644e-05 6.6861644e-05 6.6861644e-05\n",
      " 6.6861644e-05 6.6861644e-05 6.6861644e-05 6.6861644e-05 6.6861644e-05\n",
      " 6.6861644e-05 6.6861644e-05 6.6861644e-05 6.6861644e-05 6.6861644e-05\n",
      " 6.6861644e-05 6.6861644e-05 6.6861644e-05 6.6861644e-05 6.6861644e-05\n",
      " 6.6861644e-05 6.6861644e-05 6.6861644e-05 6.6861644e-05 6.6861644e-05\n",
      " 6.6861644e-05 6.6861644e-05 6.6861644e-05 6.6861644e-05 6.6861644e-05\n",
      " 6.6861644e-05 6.6861644e-05 6.6861644e-05 6.6861644e-05 6.6861644e-05\n",
      " 6.6861644e-05 6.6861644e-05 6.6861644e-05 6.6861644e-05 6.6861644e-05\n",
      " 6.6861644e-05 6.6861644e-05 6.6861644e-05 6.6861644e-05 6.6861644e-05\n",
      " 6.6861644e-05 6.6861644e-05 6.6861644e-05 6.6861644e-05 6.6861644e-05\n",
      " 6.6861644e-05 6.6861644e-05 6.6861644e-05 6.6861644e-05 6.6861644e-05\n",
      " 6.6861644e-05 6.6861644e-05 6.6861644e-05 6.6861644e-05 6.6861644e-05\n",
      " 6.6861644e-05 6.6861644e-05 6.6861644e-05 6.6861644e-05 6.6861644e-05\n",
      " 6.6861644e-05 6.6861644e-05 6.6861644e-05 6.6861644e-05 6.6861644e-05\n",
      " 6.6861644e-05 6.6861644e-05 6.6861644e-05 6.6861644e-05 6.6861644e-05\n",
      " 6.6861644e-05 6.6861644e-05 6.6861644e-05 6.6861644e-05 6.6861644e-05\n",
      " 6.6861644e-05 6.6861644e-05 6.6861644e-05 6.6861644e-05 6.6861644e-05\n",
      " 6.6861644e-05 6.6861644e-05 6.6861644e-05 6.6861644e-05 6.6861644e-05\n",
      " 6.6861644e-05 6.6861644e-05 6.6861644e-05 6.6861644e-05 6.6861644e-05\n",
      " 6.6861644e-05 6.6861644e-05 6.6861644e-05 6.6861644e-05 6.6861644e-05\n",
      " 6.6861644e-05 6.6861644e-05 6.6861644e-05 6.6861644e-05 6.6861644e-05\n",
      " 6.6861644e-05 6.6861644e-05 6.6861644e-05 6.6861644e-05 6.6861644e-05\n",
      " 6.6861644e-05 6.6861644e-05 6.6861644e-05 6.6861644e-05 6.6861644e-05\n",
      " 6.6861644e-05 6.6861644e-05 6.6861644e-05 6.6861644e-05 6.6861644e-05\n",
      " 6.6861644e-05 6.6861644e-05 6.6861644e-05 6.6861644e-05 6.6861644e-05\n",
      " 6.6861644e-05 6.6861644e-05 6.6861644e-05 6.6861644e-05 6.6861644e-05\n",
      " 6.6861644e-05 6.6861644e-05 6.6861644e-05 6.6861644e-05 6.6861644e-05\n",
      " 6.6861644e-05 6.6861644e-05 6.6861644e-05 6.6861644e-05 6.6861644e-05\n",
      " 6.6861644e-05 6.6861644e-05 6.6861644e-05 6.6861644e-05 6.6861644e-05\n",
      " 6.6861644e-05 6.6861644e-05 6.6861644e-05 6.6861644e-05 6.6861644e-05\n",
      " 6.6861644e-05 6.6861644e-05 6.6861644e-05 6.6861644e-05 6.6861644e-05\n",
      " 6.6861644e-05 6.6861644e-05 6.6861644e-05 6.6861644e-05 6.6861644e-05\n",
      " 6.6861644e-05 6.6861644e-05 6.6861644e-05 6.6861644e-05 6.6861644e-05\n",
      " 6.6861644e-05 6.6861644e-05 6.6861644e-05 6.6861644e-05 6.6861644e-05\n",
      " 6.6861644e-05 6.6861644e-05 6.6861644e-05 6.6861644e-05 6.6861644e-05\n",
      " 6.6861644e-05 6.6861644e-05 6.6861644e-05 6.6861644e-05 6.6861644e-05\n",
      " 6.6861644e-05 6.6861644e-05 6.6861644e-05 6.6861644e-05 6.6861644e-05\n",
      " 6.6861644e-05 6.6861644e-05 6.6861644e-05 6.6861644e-05 6.6861644e-05\n",
      " 6.6861644e-05 6.6861644e-05 6.6861644e-05 6.6861644e-05 6.6861644e-05\n",
      " 6.6861644e-05 6.6861644e-05 6.6861644e-05 6.6861644e-05 6.6861644e-05\n",
      " 6.6861644e-05 6.6861644e-05 6.6861644e-05 6.6861644e-05 6.6861644e-05\n",
      " 6.6861644e-05 6.6861644e-05 6.6861644e-05 6.6861644e-05 6.6861644e-05\n",
      " 6.6861644e-05 6.6861644e-05 6.6861644e-05 6.6861644e-05 6.6861644e-05\n",
      " 6.6861644e-05 6.6861644e-05 6.6861644e-05 6.6861644e-05 6.6861644e-05\n",
      " 6.6861644e-05 6.6861644e-05 6.6861644e-05 6.6861644e-05 6.6861644e-05\n",
      " 6.6861644e-05 6.6861644e-05 6.6861644e-05 6.6861644e-05 6.6861644e-05\n",
      " 6.6861644e-05 6.6861644e-05 6.6861644e-05 6.6861644e-05 6.6861644e-05\n",
      " 6.6861644e-05 6.6861644e-05 6.6861644e-05 6.6861644e-05 6.6861644e-05\n",
      " 6.6861644e-05 6.6861644e-05 6.6861644e-05 6.6861644e-05 6.6861644e-05\n",
      " 6.6861644e-05 6.6861644e-05 6.6861644e-05 6.6861644e-05 6.6861644e-05\n",
      " 6.6861644e-05 6.6861644e-05 6.6861644e-05 6.6861644e-05 6.6861644e-05\n",
      " 6.6861644e-05 6.6861644e-05 6.6861644e-05 6.6861644e-05 6.6861644e-05\n",
      " 6.6861644e-05 6.6861644e-05 6.6861644e-05 6.6861644e-05 6.6861644e-05\n",
      " 6.6861644e-05 6.6861644e-05 6.6861644e-05 6.6861644e-05 6.6861644e-05\n",
      " 6.6861644e-05 6.6861644e-05 6.6861644e-05 6.6861644e-05 6.6861644e-05\n",
      " 6.6861644e-05 6.6861644e-05 6.6861644e-05 6.6861644e-05 6.6861644e-05\n",
      " 6.6861644e-05 6.6861644e-05 6.6861644e-05 6.6861644e-05 6.6861644e-05\n",
      " 6.6861644e-05 6.6861644e-05 6.6861644e-05 6.6861644e-05 6.6861644e-05\n",
      " 6.6861644e-05 6.6861644e-05 6.6861644e-05 6.6861644e-05 6.6861644e-05\n",
      " 6.6861644e-05 6.6861644e-05 6.6861644e-05 6.6861644e-05 6.6861644e-05\n",
      " 6.6861644e-05 6.6861644e-05 6.6861644e-05 6.6861644e-05 6.6861644e-05\n",
      " 6.6861644e-05 6.6861644e-05 6.6861644e-05 6.6861644e-05 6.6861644e-05\n",
      " 6.6861644e-05 6.6861644e-05 6.6861644e-05 6.6861644e-05 6.6861644e-05\n",
      " 6.6861644e-05 6.6861644e-05 6.6861644e-05 6.6861644e-05 6.6861644e-05\n",
      " 6.6861644e-05 6.6861644e-05 6.6861644e-05 6.6861644e-05 6.6861644e-05\n",
      " 6.6861644e-05 6.6861644e-05 6.6861644e-05 6.6861644e-05 6.6861644e-05\n",
      " 6.6861644e-05 6.6861644e-05 6.6861644e-05 6.6861644e-05 6.6861644e-05\n",
      " 6.6861644e-05 6.6861644e-05 6.6861644e-05 6.6861644e-05 6.6861644e-05\n",
      " 6.6861644e-05 6.6861644e-05 6.6861644e-05 6.6861644e-05 6.6861644e-05\n",
      " 6.6861644e-05 6.6861644e-05 6.6861644e-05 6.6861644e-05 6.6861644e-05\n",
      " 6.6861644e-05 6.6861644e-05 6.6861644e-05 6.6861644e-05 6.6861644e-05\n",
      " 6.6861644e-05 6.6861644e-05 6.6861644e-05 6.6861644e-05 6.6861644e-05\n",
      " 6.6861644e-05 6.6861644e-05 6.6861644e-05 6.6861644e-05 6.6861644e-05\n",
      " 6.6861644e-05 6.6861644e-05 6.6861644e-05 6.6861644e-05 6.6861644e-05\n",
      " 6.6861644e-05 6.6861644e-05 6.6861644e-05 6.6861644e-05 6.6861644e-05\n",
      " 6.6861644e-05 6.6861644e-05 6.6861644e-05 6.6861644e-05 6.6861644e-05\n",
      " 6.6861644e-05 6.6861644e-05 6.6861644e-05 6.6861644e-05 6.6861644e-05\n",
      " 6.6861644e-05 6.6861644e-05 6.6861644e-05 6.6861644e-05 6.6861644e-05\n",
      " 6.6861644e-05 6.6861644e-05 6.6861644e-05 6.6861644e-05 6.6861644e-05\n",
      " 6.6861644e-05 6.6861644e-05 6.6861644e-05 6.6861644e-05 6.6861644e-05\n",
      " 6.6861644e-05 6.6861644e-05 6.6861644e-05 6.6861644e-05 6.6861644e-05\n",
      " 6.6861644e-05 6.6861644e-05 6.6861644e-05 6.6861644e-05 6.6861644e-05\n",
      " 6.6861644e-05 6.6861644e-05 6.6861644e-05 6.6861644e-05 6.6861644e-05\n",
      " 6.6861644e-05 6.6861644e-05 6.6861644e-05 6.6861644e-05 6.6861644e-05\n",
      " 6.6861644e-05 6.6861644e-05 6.6861644e-05 6.6861644e-05 6.6861644e-05\n",
      " 6.6861644e-05 6.6861644e-05 6.6861644e-05 6.6861644e-05 6.6861644e-05\n",
      " 6.6861644e-05 6.6861644e-05 6.6861644e-05 6.6861644e-05 6.6861644e-05\n",
      " 6.6861644e-05 6.6861644e-05 6.6861644e-05 6.6861644e-05 6.6861644e-05\n",
      " 6.6861644e-05 6.6861644e-05 6.6861644e-05 6.6861644e-05 6.6861644e-05\n",
      " 6.6861644e-05 6.6861644e-05 6.6861644e-05 6.6861644e-05 6.6861644e-05\n",
      " 6.6861644e-05 6.6861644e-05 6.6861644e-05 6.6861644e-05 6.6861644e-05\n",
      " 6.6861644e-05 6.6861644e-05 6.6861644e-05 6.6861644e-05 6.6861644e-05\n",
      " 6.6861644e-05 6.6861644e-05 6.6861644e-05 6.6861644e-05 6.6861644e-05\n",
      " 6.6861644e-05 6.6861644e-05 6.6861644e-05 6.6861644e-05 6.6861644e-05\n",
      " 6.6861644e-05 6.6861644e-05 6.6861644e-05 6.6861644e-05 6.6861644e-05\n",
      " 6.6861644e-05 6.6861644e-05 6.6861644e-05 6.6861644e-05 6.6861644e-05\n",
      " 6.6861644e-05 6.6861644e-05 6.6861644e-05 6.6861644e-05 6.6861644e-05\n",
      " 6.6861644e-05 6.6861644e-05 6.6861644e-05 6.6861644e-05 6.6861644e-05\n",
      " 6.6861644e-05 6.6861644e-05 6.6861644e-05 6.6861644e-05 6.6861644e-05\n",
      " 6.6861644e-05 6.6861644e-05 6.6861644e-05 6.6861644e-05 6.6861644e-05\n",
      " 6.6861644e-05 6.6861644e-05 6.6861644e-05 6.6861644e-05 6.6861644e-05]\n"
     ]
    }
   ],
   "source": [
    "dt_cv = pd.DataFrame(gs_dt.cv_results_)\n",
    "\n",
    "bias_var_error(dt_cv)"
   ]
  },
  {
   "cell_type": "markdown",
   "metadata": {},
   "source": [
    "# Ensemble Method"
   ]
  },
  {
   "cell_type": "markdown",
   "metadata": {},
   "source": [
    "# Random Forest"
   ]
  },
  {
   "cell_type": "code",
   "execution_count": 25,
   "metadata": {},
   "outputs": [],
   "source": [
    "from sklearn.ensemble import RandomForestClassifier\n",
    "from sklearn.model_selection import GridSearchCV, RandomizedSearchCV"
   ]
  },
  {
   "cell_type": "code",
   "execution_count": 26,
   "metadata": {},
   "outputs": [],
   "source": [
    "rf = RandomForestClassifier(random_state=1,class_weight='balanced')\n",
    "\n",
    "rf_params = {'n_estimators': sp_randint(30,150),\n",
    "    'max_depth': sp_randint(2,10),\n",
    "    'min_samples_leaf': sp_randint(1,20),\n",
    "    'min_samples_split': sp_randint(2,20),\n",
    "    'max_features': sp_randint(2,24),\n",
    "    'criterion': ['gini','entropy']}"
   ]
  },
  {
   "cell_type": "code",
   "execution_count": 28,
   "metadata": {},
   "outputs": [
    {
     "data": {
      "text/plain": [
       "RandomizedSearchCV(cv=KFold(n_splits=5, random_state=1, shuffle=True),\n",
       "                   error_score=nan,\n",
       "                   estimator=RandomForestClassifier(bootstrap=True,\n",
       "                                                    ccp_alpha=0.0,\n",
       "                                                    class_weight='balanced',\n",
       "                                                    criterion='gini',\n",
       "                                                    max_depth=None,\n",
       "                                                    max_features='auto',\n",
       "                                                    max_leaf_nodes=None,\n",
       "                                                    max_samples=None,\n",
       "                                                    min_impurity_decrease=0.0,\n",
       "                                                    min_impurity_split=None,\n",
       "                                                    min_samples_leaf=1,\n",
       "                                                    min_samples_split=2,\n",
       "                                                    mi...\n",
       "                                        'min_samples_leaf': <scipy.stats._distn_infrastructure.rv_frozen object at 0x000002EB13B5BA08>,\n",
       "                                        'min_samples_split': <scipy.stats._distn_infrastructure.rv_frozen object at 0x000002EB13B5BFC8>,\n",
       "                                        'n_estimators': <scipy.stats._distn_infrastructure.rv_frozen object at 0x000002EB106DFCC8>},\n",
       "                   pre_dispatch='2*n_jobs', random_state=1, refit=True,\n",
       "                   return_train_score=False, scoring='roc_auc', verbose=0)"
      ]
     },
     "execution_count": 28,
     "metadata": {},
     "output_type": "execute_result"
    }
   ],
   "source": [
    "fold=KFold(shuffle=True,n_splits=5,random_state=1)\n",
    "\n",
    "rs_rf = RandomizedSearchCV(rf, rf_params, cv=fold, random_state=1,scoring='roc_auc')\n",
    "\n",
    "rs_rf.fit(X_train,y_train)"
   ]
  },
  {
   "cell_type": "code",
   "execution_count": 30,
   "metadata": {},
   "outputs": [
    {
     "name": "stdout",
     "output_type": "stream",
     "text": [
      "Minimum Bias\n",
      "Using this [{'criterion': 'gini', 'max_depth': 7, 'max_features': 21, 'min_samples_leaf': 16, 'min_samples_split': 12, 'n_estimators': 102}]\n",
      "Accuracy is: [0.77905726]\n",
      "Bias Error is: [0.22094274]\n",
      "Variance Error is: [6.28122719e-05]\n",
      "\n",
      "\n",
      "Minimum Variance\n",
      "Using this [{'criterion': 'entropy', 'max_depth': 9, 'max_features': 2, 'min_samples_leaf': 17, 'min_samples_split': 3, 'n_estimators': 106}]\n",
      "Accuracy is: [0.77626615]\n",
      "Bias Error is: [0.22373385]\n",
      "Variance Error is: [5.29329006e-05]\n"
     ]
    }
   ],
   "source": [
    "rf_cv = pd.DataFrame(rs_rf.cv_results_)\n",
    "\n",
    "bias_var_error(rf_cv)"
   ]
  },
  {
   "cell_type": "markdown",
   "metadata": {},
   "source": [
    "# Bagging Classifier"
   ]
  },
  {
   "cell_type": "markdown",
   "metadata": {},
   "source": [
    "**RandomizedSearchCV**"
   ]
  },
  {
   "cell_type": "code",
   "execution_count": 36,
   "metadata": {},
   "outputs": [],
   "source": [
    "bag = BaggingClassifier(random_state=1)\n",
    "bag_param = {'n_estimators':np.arange(10,100)}"
   ]
  },
  {
   "cell_type": "markdown",
   "metadata": {},
   "source": [
    "**GridSearchCV**"
   ]
  },
  {
   "cell_type": "code",
   "execution_count": 43,
   "metadata": {},
   "outputs": [],
   "source": [
    "bag = BaggingClassifier(random_state=1)\n",
    "\n",
    "bag_param = {'n_estimators':np.arange(80,100)}"
   ]
  },
  {
   "cell_type": "code",
   "execution_count": 44,
   "metadata": {
    "scrolled": false
   },
   "outputs": [
    {
     "data": {
      "text/plain": [
       "GridSearchCV(cv=KFold(n_splits=5, random_state=1, shuffle=True),\n",
       "             error_score=nan,\n",
       "             estimator=BaggingClassifier(base_estimator=None, bootstrap=True,\n",
       "                                         bootstrap_features=False,\n",
       "                                         max_features=1.0, max_samples=1.0,\n",
       "                                         n_estimators=10, n_jobs=None,\n",
       "                                         oob_score=False, random_state=1,\n",
       "                                         verbose=0, warm_start=False),\n",
       "             iid='deprecated', n_jobs=None,\n",
       "             param_grid={'n_estimators': array([80, 81, 82, 83, 84, 85, 86, 87, 88, 89, 90, 91, 92, 93, 94, 95, 96,\n",
       "       97, 98, 99])},\n",
       "             pre_dispatch='2*n_jobs', refit=True, return_train_score=False,\n",
       "             scoring='roc_auc', verbose=0)"
      ]
     },
     "execution_count": 44,
     "metadata": {},
     "output_type": "execute_result"
    }
   ],
   "source": [
    "gs_bag = GridSearchCV(bag,bag_param,cv=fold, scoring='roc_auc')\n",
    "\n",
    "gs_bag.fit(X_train,y_train)"
   ]
  },
  {
   "cell_type": "code",
   "execution_count": 45,
   "metadata": {},
   "outputs": [
    {
     "name": "stdout",
     "output_type": "stream",
     "text": [
      "Minimum Bias\n",
      "Using this [{'n_estimators': 89}]\n",
      "Accuracy is: [0.75411182]\n",
      "Bias Error is: [0.24588818]\n",
      "Variance Error is: [7.16210072e-05]\n",
      "\n",
      "\n",
      "Minimum Variance\n",
      "Using this [{'n_estimators': 99}]\n",
      "Accuracy is: [0.7539946]\n",
      "Bias Error is: [0.2460054]\n",
      "Variance Error is: [6.52883462e-05]\n"
     ]
    }
   ],
   "source": [
    "bag_cv = pd.DataFrame(gs_bag.cv_results_)\n",
    "\n",
    "bias_var_error(bag_cv)"
   ]
  },
  {
   "cell_type": "markdown",
   "metadata": {},
   "source": [
    "# AdaBoost Classifier "
   ]
  },
  {
   "cell_type": "markdown",
   "metadata": {},
   "source": [
    "**GridSearchCV**"
   ]
  },
  {
   "cell_type": "code",
   "execution_count": 42,
   "metadata": {},
   "outputs": [],
   "source": [
    "boost = AdaBoostClassifier(random_state=1)\n",
    "boost_param = {'n_estimators':np.arange(10,100)}"
   ]
  },
  {
   "cell_type": "code",
   "execution_count": 41,
   "metadata": {},
   "outputs": [
    {
     "data": {
      "text/plain": [
       "GridSearchCV(cv=KFold(n_splits=5, random_state=1, shuffle=True),\n",
       "             error_score=nan,\n",
       "             estimator=AdaBoostClassifier(algorithm='SAMME.R',\n",
       "                                          base_estimator=None,\n",
       "                                          learning_rate=1.0, n_estimators=50,\n",
       "                                          random_state=1),\n",
       "             iid='deprecated', n_jobs=None,\n",
       "             param_grid={'n_estimators': array([40, 41, 42, 43, 44, 45, 46, 47, 48, 49, 50, 51, 52, 53, 54, 55, 56,\n",
       "       57, 58, 59, 60, 61, 62, 63, 64, 65, 66, 67, 68, 69])},\n",
       "             pre_dispatch='2*n_jobs', refit=True, return_train_score=False,\n",
       "             scoring='roc_auc', verbose=0)"
      ]
     },
     "execution_count": 41,
     "metadata": {},
     "output_type": "execute_result"
    }
   ],
   "source": [
    "gs_boost = GridSearchCV(boost,boost_param,cv=fold, scoring='roc_auc')\n",
    "\n",
    "gs_boost.fit(X_train,y_train)"
   ]
  },
  {
   "cell_type": "code",
   "execution_count": 42,
   "metadata": {},
   "outputs": [
    {
     "name": "stdout",
     "output_type": "stream",
     "text": [
      "Minimum Bias\n",
      "Using this [{'n_estimators': 54}]\n",
      "Accuracy is: [0.77351373]\n",
      "Bias Error is: [0.22648627]\n",
      "Variance Error is: [6.86041324e-05]\n",
      "\n",
      "\n",
      "Minimum Variance\n",
      "Using this [{'n_estimators': 44}]\n",
      "Accuracy is: [0.77293431]\n",
      "Bias Error is: [0.22706569]\n",
      "Variance Error is: [5.3632856e-05]\n"
     ]
    }
   ],
   "source": [
    "boost_cv = pd.DataFrame(gs_boost.cv_results_)\n",
    "\n",
    "bias_var_error(boost_cv)"
   ]
  },
  {
   "cell_type": "markdown",
   "metadata": {},
   "source": [
    "# LightGBM"
   ]
  },
  {
   "cell_type": "markdown",
   "metadata": {},
   "source": [
    "**GridSearchCV**"
   ]
  },
  {
   "cell_type": "code",
   "execution_count": 34,
   "metadata": {},
   "outputs": [],
   "source": [
    "fold = KFold(n_splits=5,shuffle=True,random_state=1)\n",
    "\n",
    "lgbm = LGBMClassifier(random_state=1,class_weight='balanced')\n",
    "\n",
    "lgbm_param = {'n_estimators':np.arange(1,150)}"
   ]
  },
  {
   "cell_type": "code",
   "execution_count": 35,
   "metadata": {},
   "outputs": [
    {
     "data": {
      "text/plain": [
       "GridSearchCV(cv=KFold(n_splits=5, random_state=1, shuffle=True),\n",
       "             error_score=nan,\n",
       "             estimator=LGBMClassifier(boosting_type='gbdt',\n",
       "                                      class_weight='balanced',\n",
       "                                      colsample_bytree=1.0,\n",
       "                                      importance_type='split',\n",
       "                                      learning_rate=0.1, max_depth=-1,\n",
       "                                      min_child_samples=20,\n",
       "                                      min_child_weight=0.001,\n",
       "                                      min_split_gain=0.0, n_estimators=100,\n",
       "                                      n_jobs=-1, num_leaves=31, objective=None,\n",
       "                                      random_state=1, reg_alpha=0.0,\n",
       "                                      reg_lambda=0.0, silent=True,\n",
       "                                      subsample=1.0, subsample_for_bin=200000,\n",
       "                                      subsample_freq=0),\n",
       "             iid='deprecated', n_jobs=None,\n",
       "             param_grid={'n_estimators': array([15, 16, 17, 18, 19, 20, 21, 22, 23, 24, 25, 26, 27, 28, 29, 30, 31,\n",
       "       32, 33, 34, 35, 36, 37, 38, 39, 40, 41, 42, 43, 44])},\n",
       "             pre_dispatch='2*n_jobs', refit=True, return_train_score=False,\n",
       "             scoring='roc_auc', verbose=0)"
      ]
     },
     "execution_count": 35,
     "metadata": {},
     "output_type": "execute_result"
    }
   ],
   "source": [
    "gs_lgbm = GridSearchCV(lgbm,lgbm_param,cv=fold, scoring='roc_auc') \n",
    "\n",
    "gs_lgbm.fit(X_train,y_train)"
   ]
  },
  {
   "cell_type": "code",
   "execution_count": 36,
   "metadata": {},
   "outputs": [
    {
     "name": "stdout",
     "output_type": "stream",
     "text": [
      "Minimum Bias\n",
      "Using this [{'n_estimators': 31}]\n",
      "Accuracy is: [0.77992216]\n",
      "Bias Error is: [0.22007784]\n",
      "Variance Error is: [5.55316299e-05]\n",
      "\n",
      "\n",
      "Minimum Variance\n",
      "Using this [{'n_estimators': 43}]\n",
      "Accuracy is: [0.77863367]\n",
      "Bias Error is: [0.22136633]\n",
      "Variance Error is: [5.19615068e-05]\n"
     ]
    }
   ],
   "source": [
    "lgbm_cv = pd.DataFrame(gs_lgbm.cv_results_)\n",
    "\n",
    "bias_var_error(lgbm_cv)"
   ]
  },
  {
   "cell_type": "markdown",
   "metadata": {},
   "source": [
    "# Gradient Boosting Classifier"
   ]
  },
  {
   "cell_type": "markdown",
   "metadata": {},
   "source": [
    "**GridSearchCV**"
   ]
  },
  {
   "cell_type": "code",
   "execution_count": 55,
   "metadata": {},
   "outputs": [],
   "source": [
    "gb = GradientBoostingClassifier(random_state=1)\n",
    "\n",
    "gb_param = {'n_estimators':np.arange(50,150)}"
   ]
  },
  {
   "cell_type": "code",
   "execution_count": 38,
   "metadata": {},
   "outputs": [
    {
     "data": {
      "text/plain": [
       "GridSearchCV(cv=KFold(n_splits=5, random_state=1, shuffle=True),\n",
       "             error_score=nan,\n",
       "             estimator=GradientBoostingClassifier(ccp_alpha=0.0,\n",
       "                                                  criterion='friedman_mse',\n",
       "                                                  init=None, learning_rate=0.1,\n",
       "                                                  loss='deviance', max_depth=3,\n",
       "                                                  max_features=None,\n",
       "                                                  max_leaf_nodes=None,\n",
       "                                                  min_impurity_decrease=0.0,\n",
       "                                                  min_impurity_split=None,\n",
       "                                                  min_samples_leaf=1,\n",
       "                                                  min_samples_split=2,\n",
       "                                                  min_weight_fr...\n",
       "                                                  random_state=1, subsample=1.0,\n",
       "                                                  tol=0.0001,\n",
       "                                                  validation_fraction=0.1,\n",
       "                                                  verbose=0, warm_start=False),\n",
       "             iid='deprecated', n_jobs=None,\n",
       "             param_grid={'n_estimators': array([100, 101, 102, 103, 104, 105, 106, 107, 108, 109, 110, 111, 112,\n",
       "       113, 114, 115, 116, 117, 118, 119, 120, 121, 122, 123, 124, 125,\n",
       "       126, 127, 128, 129])},\n",
       "             pre_dispatch='2*n_jobs', refit=True, return_train_score=False,\n",
       "             scoring='roc_auc', verbose=0)"
      ]
     },
     "execution_count": 38,
     "metadata": {},
     "output_type": "execute_result"
    }
   ],
   "source": [
    "gs_gb = GridSearchCV(gb,gb_param,cv=fold,scoring='roc_auc')\n",
    "\n",
    "gs_gb.fit(X_train,y_train)"
   ]
  },
  {
   "cell_type": "code",
   "execution_count": 39,
   "metadata": {},
   "outputs": [
    {
     "name": "stdout",
     "output_type": "stream",
     "text": [
      "Minimum Bias\n",
      "Using this [{'n_estimators': 125}]\n",
      "Accuracy is: [0.78061231]\n",
      "Bias Error is: [0.21938769]\n",
      "Variance Error is: [4.86830561e-05]\n",
      "\n",
      "\n",
      "Minimum Variance\n",
      "Using this [{'n_estimators': 120}]\n",
      "Accuracy is: [0.78053803]\n",
      "Bias Error is: [0.21946197]\n",
      "Variance Error is: [4.77447468e-05]\n"
     ]
    }
   ],
   "source": [
    "gb_cv = pd.DataFrame(gs_gb.cv_results_)\n",
    "\n",
    "bias_var_error(gb_cv)"
   ]
  },
  {
   "cell_type": "markdown",
   "metadata": {},
   "source": [
    "**Comaparing models with low bias error parameters**"
   ]
  },
  {
   "cell_type": "code",
   "execution_count": 359,
   "metadata": {},
   "outputs": [],
   "source": [
    "\n",
    "models=[]\n",
    "models.append(('Logistic Regression',LogisticRegression(C=1.0,penalty='l2',class_weight='balanced',\n",
    "                                                       solver='liblinear',random_state=1)))\n",
    "models.append(('KNN',KNeighborsClassifier(metric='manhattan', n_neighbors=104, weights= 'uniform')))\n",
    "models.append(('Naive Bayes',GaussianNB()))\n",
    "models.append(('Decision Tree',DecisionTreeClassifier(criterion= 'gini', max_depth= 6, min_samples_leaf=99,\n",
    "                                                      min_samples_split=25, random_state=1,class_weight='balanced')))\n",
    "models.append(('Random Forest',RandomForestClassifier(criterion='gini', max_depth= 7,max_features=21,\n",
    "                                                     min_samples_leaf= 16,min_samples_split=12,n_estimators=102,\n",
    "                                                      random_state=1,class_weight='balanced')))\n",
    "models.append(('Gradient Boost',GradientBoostingClassifier(n_estimators=125,random_state=1)))\n",
    "models.append(('Light GBM',LGBMClassifier(n_estimators=31,random_state=1)))\n",
    "models.append(('Ada Boost',AdaBoostClassifier(n_estimators=54,random_state=1)))\n",
    "models.append(('Bagging Classifier',BaggingClassifier(n_estimators=89,random_state=1)))"
   ]
  },
  {
   "cell_type": "code",
   "execution_count": 360,
   "metadata": {},
   "outputs": [],
   "source": [
    "# Evaluating Each model\n",
    "\n",
    "from sklearn.model_selection import KFold\n",
    "from sklearn.model_selection import cross_val_score\n",
    "names=[]\n",
    "predictions=[]\n",
    "score = []\n",
    "bias_error = []\n",
    "var_error = []\n",
    "\n",
    "for name,model in models:\n",
    "    fold=KFold(shuffle=True,n_splits=5,random_state=1)\n",
    "    if name=='Logistic Regression' or name=='KNN' or name=='Naive Bayes' or name=='SVC':\n",
    "        result=cross_val_score(model,X_train_scaled,y_train,cv=fold,scoring='roc_auc')\n",
    "    else:\n",
    "        result=cross_val_score(model,X_train,y_train,cv=fold,scoring='roc_auc')\n",
    "    predictions.append(result)\n",
    "    names.append(name)\n",
    "    score.append(result.mean())\n",
    "    bias_error.append(1-result.mean())\n",
    "    var_error.append(np.std(result,ddof=1)**2)"
   ]
  },
  {
   "cell_type": "code",
   "execution_count": 361,
   "metadata": {},
   "outputs": [
    {
     "data": {
      "text/html": [
       "<div>\n",
       "<style scoped>\n",
       "    .dataframe tbody tr th:only-of-type {\n",
       "        vertical-align: middle;\n",
       "    }\n",
       "\n",
       "    .dataframe tbody tr th {\n",
       "        vertical-align: top;\n",
       "    }\n",
       "\n",
       "    .dataframe thead th {\n",
       "        text-align: right;\n",
       "    }\n",
       "</style>\n",
       "<table border=\"1\" class=\"dataframe\">\n",
       "  <thead>\n",
       "    <tr style=\"text-align: right;\">\n",
       "      <th></th>\n",
       "      <th>AUC Score</th>\n",
       "      <th>Bias Error</th>\n",
       "      <th>Variance Error</th>\n",
       "    </tr>\n",
       "  </thead>\n",
       "  <tbody>\n",
       "    <tr>\n",
       "      <td>Logistic Regression</td>\n",
       "      <td>0.724763</td>\n",
       "      <td>0.275237</td>\n",
       "      <td>0.000130</td>\n",
       "    </tr>\n",
       "    <tr>\n",
       "      <td>KNN</td>\n",
       "      <td>0.753805</td>\n",
       "      <td>0.246195</td>\n",
       "      <td>0.000087</td>\n",
       "    </tr>\n",
       "    <tr>\n",
       "      <td>Naive Bayes</td>\n",
       "      <td>0.730977</td>\n",
       "      <td>0.269023</td>\n",
       "      <td>0.000110</td>\n",
       "    </tr>\n",
       "    <tr>\n",
       "      <td>Decision Tree</td>\n",
       "      <td>0.760561</td>\n",
       "      <td>0.239439</td>\n",
       "      <td>0.000157</td>\n",
       "    </tr>\n",
       "    <tr>\n",
       "      <td>Random Forest</td>\n",
       "      <td>0.779057</td>\n",
       "      <td>0.220943</td>\n",
       "      <td>0.000079</td>\n",
       "    </tr>\n",
       "    <tr>\n",
       "      <td>Gradient Boost</td>\n",
       "      <td>0.780612</td>\n",
       "      <td>0.219388</td>\n",
       "      <td>0.000061</td>\n",
       "    </tr>\n",
       "    <tr>\n",
       "      <td>Light GBM</td>\n",
       "      <td>0.780104</td>\n",
       "      <td>0.219896</td>\n",
       "      <td>0.000097</td>\n",
       "    </tr>\n",
       "    <tr>\n",
       "      <td>Ada Boost</td>\n",
       "      <td>0.773514</td>\n",
       "      <td>0.226486</td>\n",
       "      <td>0.000086</td>\n",
       "    </tr>\n",
       "    <tr>\n",
       "      <td>Bagging Classifier</td>\n",
       "      <td>0.754112</td>\n",
       "      <td>0.245888</td>\n",
       "      <td>0.000090</td>\n",
       "    </tr>\n",
       "  </tbody>\n",
       "</table>\n",
       "</div>"
      ],
      "text/plain": [
       "                     AUC Score  Bias Error  Variance Error\n",
       "Logistic Regression   0.724763    0.275237        0.000130\n",
       "KNN                   0.753805    0.246195        0.000087\n",
       "Naive Bayes           0.730977    0.269023        0.000110\n",
       "Decision Tree         0.760561    0.239439        0.000157\n",
       "Random Forest         0.779057    0.220943        0.000079\n",
       "Gradient Boost        0.780612    0.219388        0.000061\n",
       "Light GBM             0.780104    0.219896        0.000097\n",
       "Ada Boost             0.773514    0.226486        0.000086\n",
       "Bagging Classifier    0.754112    0.245888        0.000090"
      ]
     },
     "execution_count": 361,
     "metadata": {},
     "output_type": "execute_result"
    }
   ],
   "source": [
    "acc_df = pd.DataFrame({'AUC Score':score,'Bias Error':bias_error,'Variance Error':var_error},index=names)\n",
    "\n",
    "acc_df"
   ]
  },
  {
   "cell_type": "code",
   "execution_count": 362,
   "metadata": {},
   "outputs": [
    {
     "data": {
      "image/png": "[encoded data removed]",
      "text/plain": [
       "<Figure size 720x576 with 1 Axes>"
      ]
     },
     "metadata": {
      "needs_background": "light"
     },
     "output_type": "display_data"
    }
   ],
   "source": [
    "fig = plt.figure(figsize=(10,8))\n",
    "fig.suptitle('Algorithm Comparison')\n",
    "ax = fig.add_subplot(111)\n",
    "plt.boxplot(predictions)\n",
    "ax.set_xticklabels(names)\n",
    "plt.xticks(rotation=90)\n",
    "plt.show()"
   ]
  },
  {
   "cell_type": "markdown",
   "metadata": {},
   "source": [
    "**Comaparing models with low variance error parameters** "
   ]
  },
  {
   "cell_type": "code",
   "execution_count": 363,
   "metadata": {},
   "outputs": [],
   "source": [
    "\n",
    "models=[]\n",
    "models.append(('Logistic Regression',LogisticRegression(C=0.0001,penalty='l1',class_weight='balanced',\n",
    "                                                        solver='liblinear',random_state=1)))\n",
    "models.append(('KNN',KNeighborsClassifier(metric='manhattan', n_neighbors= 80, weights= 'distance')))\n",
    "models.append(('Naive Bayes',GaussianNB()))\n",
    "models.append(('Decision Tree',DecisionTreeClassifier(criterion='gini',max_depth=3, min_samples_leaf= 65,\n",
    "                                                      min_samples_split=25,random_state=1,class_weight='balanced')))\n",
    "models.append(('Random Forest',RandomForestClassifier(criterion='entropy', max_depth=9,max_features=2,\n",
    "                                                      min_samples_leaf=17,min_samples_split=3,n_estimators=106,\n",
    "                                                      random_state=1,class_weight='balanced')))                    \n",
    "models.append(('Gradient Boost',GradientBoostingClassifier(n_estimators=120,random_state=1)))\n",
    "models.append(('Light GBM',LGBMClassifier(n_estimators=43,random_state=1)))\n",
    "models.append(('Ada Boost',AdaBoostClassifier(n_estimators=44,random_state=1)))\n",
    "models.append(('Bagging Classifier',BaggingClassifier(n_estimators=99,random_state=1)))"
   ]
  },
  {
   "cell_type": "code",
   "execution_count": 365,
   "metadata": {},
   "outputs": [],
   "source": [
    "# Evaluating Each model\n",
    "\n",
    "from sklearn.model_selection import KFold\n",
    "from sklearn.model_selection import cross_val_score\n",
    "names=[]\n",
    "predictions=[]\n",
    "score = []\n",
    "bias_error = []\n",
    "var_error = []\n",
    "\n",
    "for name,model in models:\n",
    "    fold=KFold(shuffle=True,n_splits=5,random_state=1)\n",
    "    if name=='Logistic Regression' or name=='KNN' or name=='Naive Bayes' or name=='SVC':\n",
    "        result=cross_val_score(model,X_train_scaled,y_train,cv=fold,scoring='roc_auc')\n",
    "    else:\n",
    "        result=cross_val_score(model,X_train,y_train,cv=fold,scoring='roc_auc')\n",
    "    predictions.append(result)\n",
    "    names.append(name)\n",
    "    score.append(result.mean())\n",
    "    bias_error.append(1-result.mean())\n",
    "    var_error.append(np.std(result,ddof=1)**2)"
   ]
  },
  {
   "cell_type": "code",
   "execution_count": 366,
   "metadata": {},
   "outputs": [
    {
     "data": {
      "text/html": [
       "<div>\n",
       "<style scoped>\n",
       "    .dataframe tbody tr th:only-of-type {\n",
       "        vertical-align: middle;\n",
       "    }\n",
       "\n",
       "    .dataframe tbody tr th {\n",
       "        vertical-align: top;\n",
       "    }\n",
       "\n",
       "    .dataframe thead th {\n",
       "        text-align: right;\n",
       "    }\n",
       "</style>\n",
       "<table border=\"1\" class=\"dataframe\">\n",
       "  <thead>\n",
       "    <tr style=\"text-align: right;\">\n",
       "      <th></th>\n",
       "      <th>AUC Score</th>\n",
       "      <th>Bias Error</th>\n",
       "      <th>Variance Error</th>\n",
       "    </tr>\n",
       "  </thead>\n",
       "  <tbody>\n",
       "    <tr>\n",
       "      <td>Logistic Regression</td>\n",
       "      <td>0.500000</td>\n",
       "      <td>0.500000</td>\n",
       "      <td>0.000000</td>\n",
       "    </tr>\n",
       "    <tr>\n",
       "      <td>KNN</td>\n",
       "      <td>0.749636</td>\n",
       "      <td>0.250364</td>\n",
       "      <td>0.000060</td>\n",
       "    </tr>\n",
       "    <tr>\n",
       "      <td>Naive Bayes</td>\n",
       "      <td>0.730977</td>\n",
       "      <td>0.269023</td>\n",
       "      <td>0.000110</td>\n",
       "    </tr>\n",
       "    <tr>\n",
       "      <td>Decision Tree</td>\n",
       "      <td>0.747712</td>\n",
       "      <td>0.252288</td>\n",
       "      <td>0.000084</td>\n",
       "    </tr>\n",
       "    <tr>\n",
       "      <td>Random Forest</td>\n",
       "      <td>0.776266</td>\n",
       "      <td>0.223734</td>\n",
       "      <td>0.000066</td>\n",
       "    </tr>\n",
       "    <tr>\n",
       "      <td>Gradient Boost</td>\n",
       "      <td>0.780538</td>\n",
       "      <td>0.219462</td>\n",
       "      <td>0.000060</td>\n",
       "    </tr>\n",
       "    <tr>\n",
       "      <td>Light GBM</td>\n",
       "      <td>0.779778</td>\n",
       "      <td>0.220222</td>\n",
       "      <td>0.000097</td>\n",
       "    </tr>\n",
       "    <tr>\n",
       "      <td>Ada Boost</td>\n",
       "      <td>0.772934</td>\n",
       "      <td>0.227066</td>\n",
       "      <td>0.000067</td>\n",
       "    </tr>\n",
       "    <tr>\n",
       "      <td>Bagging Classifier</td>\n",
       "      <td>0.753995</td>\n",
       "      <td>0.246005</td>\n",
       "      <td>0.000082</td>\n",
       "    </tr>\n",
       "  </tbody>\n",
       "</table>\n",
       "</div>"
      ],
      "text/plain": [
       "                     AUC Score  Bias Error  Variance Error\n",
       "Logistic Regression   0.500000    0.500000        0.000000\n",
       "KNN                   0.749636    0.250364        0.000060\n",
       "Naive Bayes           0.730977    0.269023        0.000110\n",
       "Decision Tree         0.747712    0.252288        0.000084\n",
       "Random Forest         0.776266    0.223734        0.000066\n",
       "Gradient Boost        0.780538    0.219462        0.000060\n",
       "Light GBM             0.779778    0.220222        0.000097\n",
       "Ada Boost             0.772934    0.227066        0.000067\n",
       "Bagging Classifier    0.753995    0.246005        0.000082"
      ]
     },
     "execution_count": 366,
     "metadata": {},
     "output_type": "execute_result"
    }
   ],
   "source": [
    "acc_df = pd.DataFrame({'AUC Score':score,'Bias Error':bias_error,'Variance Error':var_error},index=names)\n",
    "\n",
    "acc_df"
   ]
  },
  {
   "cell_type": "code",
   "execution_count": 367,
   "metadata": {},
   "outputs": [
    {
     "data": {
      "image/png": "[encoded data removed]",
      "text/plain": [
       "<Figure size 720x576 with 1 Axes>"
      ]
     },
     "metadata": {
      "needs_background": "light"
     },
     "output_type": "display_data"
    }
   ],
   "source": [
    "fig = plt.figure(figsize=(10,8))\n",
    "fig.suptitle('Algorithm Comparison')\n",
    "ax = fig.add_subplot(111)\n",
    "plt.boxplot(predictions)\n",
    "ax.set_xticklabels(names)\n",
    "plt.xticks(rotation=90)\n",
    "plt.show()"
   ]
  },
  {
   "cell_type": "markdown",
   "metadata": {},
   "source": [
    "By comparing both the results of min bias parameters and min variance parameters we have selected the following models-\n",
    "1. Gradient Boost (low bias error)\n",
    "2. Light GBM (low bias error)\n",
    "3. Random Forest (low variance error)\n",
    "\n",
    "As we can see that model accuracy of above models are almost similar to each other so now we apply voting classifier using above 3 models. And compare there result with each respective model."
   ]
  },
  {
   "cell_type": "code",
   "execution_count": 34,
   "metadata": {},
   "outputs": [],
   "source": [
    "rf = RandomForestClassifier(criterion='entropy', max_depth=9,max_features=2,\n",
    "                            min_samples_leaf=17,min_samples_split=3,n_estimators=106,\n",
    "                            random_state=1,class_weight='balanced')\n",
    "gboost = GradientBoostingClassifier(n_estimators=125,random_state=1)\n",
    "lgbm = LGBMClassifier(n_estimators=31,random_state=1,class_weight='balanced')\n",
    "voting = VotingClassifier(estimators=[('rf', rf),('lgbm', lgbm),('gboost', gboost)],voting='soft') "
   ]
  },
  {
   "cell_type": "code",
   "execution_count": 350,
   "metadata": {},
   "outputs": [],
   "source": [
    "models=[]\n",
    "models.append(('Gradient Boost',gboost))\n",
    "models.append(('Light GBM',lgbm))\n",
    "\n",
    "models.append(('Random Forest',rf))                    \n",
    "models.append(('Voting Classifier',voting))"
   ]
  },
  {
   "cell_type": "code",
   "execution_count": 351,
   "metadata": {},
   "outputs": [],
   "source": [
    "from sklearn.model_selection import KFold\n",
    "from sklearn.model_selection import cross_val_score\n",
    "names=[]\n",
    "predictions=[]\n",
    "score = []\n",
    "bias_error = []\n",
    "var_error = []\n",
    "\n",
    "for name,model in models:\n",
    "    fold=KFold(shuffle=True,n_splits=5,random_state=1)\n",
    "    result=cross_val_score(model,X_train,y_train,cv=fold,scoring='roc_auc')\n",
    "    predictions.append(result)\n",
    "    names.append(name)\n",
    "    score.append(result.mean())\n",
    "    bias_error.append(1-result.mean())\n",
    "    var_error.append(np.std(result,ddof=1)**2)"
   ]
  },
  {
   "cell_type": "code",
   "execution_count": 352,
   "metadata": {},
   "outputs": [
    {
     "data": {
      "text/html": [
       "<div>\n",
       "<style scoped>\n",
       "    .dataframe tbody tr th:only-of-type {\n",
       "        vertical-align: middle;\n",
       "    }\n",
       "\n",
       "    .dataframe tbody tr th {\n",
       "        vertical-align: top;\n",
       "    }\n",
       "\n",
       "    .dataframe thead th {\n",
       "        text-align: right;\n",
       "    }\n",
       "</style>\n",
       "<table border=\"1\" class=\"dataframe\">\n",
       "  <thead>\n",
       "    <tr style=\"text-align: right;\">\n",
       "      <th></th>\n",
       "      <th>AUC Score</th>\n",
       "      <th>Bias Error</th>\n",
       "      <th>Variance Error</th>\n",
       "    </tr>\n",
       "  </thead>\n",
       "  <tbody>\n",
       "    <tr>\n",
       "      <td>Gradient Boost</td>\n",
       "      <td>0.780612</td>\n",
       "      <td>0.219388</td>\n",
       "      <td>0.000061</td>\n",
       "    </tr>\n",
       "    <tr>\n",
       "      <td>Light GBM</td>\n",
       "      <td>0.779922</td>\n",
       "      <td>0.220078</td>\n",
       "      <td>0.000069</td>\n",
       "    </tr>\n",
       "    <tr>\n",
       "      <td>Random Forest</td>\n",
       "      <td>0.776266</td>\n",
       "      <td>0.223734</td>\n",
       "      <td>0.000066</td>\n",
       "    </tr>\n",
       "    <tr>\n",
       "      <td>Voting Classifier</td>\n",
       "      <td>0.782546</td>\n",
       "      <td>0.217454</td>\n",
       "      <td>0.000071</td>\n",
       "    </tr>\n",
       "  </tbody>\n",
       "</table>\n",
       "</div>"
      ],
      "text/plain": [
       "                   AUC Score  Bias Error  Variance Error\n",
       "Gradient Boost      0.780612    0.219388        0.000061\n",
       "Light GBM           0.779922    0.220078        0.000069\n",
       "Random Forest       0.776266    0.223734        0.000066\n",
       "Voting Classifier   0.782546    0.217454        0.000071"
      ]
     },
     "execution_count": 352,
     "metadata": {},
     "output_type": "execute_result"
    }
   ],
   "source": [
    "acc_df = pd.DataFrame({'AUC Score':score,'Bias Error':bias_error,'Variance Error':var_error},index=names)\n",
    "\n",
    "acc_df"
   ]
  },
  {
   "cell_type": "code",
   "execution_count": 353,
   "metadata": {},
   "outputs": [
    {
     "data": {
      "image/png": "[encoded data removed]",
      "text/plain": [
       "<Figure size 720x576 with 1 Axes>"
      ]
     },
     "metadata": {
      "needs_background": "light"
     },
     "output_type": "display_data"
    }
   ],
   "source": [
    "fig = plt.figure(figsize=(10,8))\n",
    "fig.suptitle('Algorithm Comparison')\n",
    "ax = fig.add_subplot(111)\n",
    "plt.boxplot(predictions)\n",
    "ax.set_xticklabels(names)\n",
    "plt.xticks(rotation=90)\n",
    "plt.show()"
   ]
  },
  {
   "cell_type": "code",
   "execution_count": 354,
   "metadata": {},
   "outputs": [
    {
     "data": {
      "text/plain": [
       "VotingClassifier(estimators=[('rf',\n",
       "                              RandomForestClassifier(bootstrap=True,\n",
       "                                                     ccp_alpha=0.0,\n",
       "                                                     class_weight='balanced',\n",
       "                                                     criterion='entropy',\n",
       "                                                     max_depth=9,\n",
       "                                                     max_features=2,\n",
       "                                                     max_leaf_nodes=None,\n",
       "                                                     max_samples=None,\n",
       "                                                     min_impurity_decrease=0.0,\n",
       "                                                     min_impurity_split=None,\n",
       "                                                     min_samples_leaf=17,\n",
       "                                                     min_samples_split=3,\n",
       "                                                     min_weight_fraction_leaf=0.0,\n",
       "                                                     n_estimators=106,\n",
       "                                                     n_jobs=None,\n",
       "                                                     oob_sco...\n",
       "                                                         max_leaf_nodes=None,\n",
       "                                                         min_impurity_decrease=0.0,\n",
       "                                                         min_impurity_split=None,\n",
       "                                                         min_samples_leaf=1,\n",
       "                                                         min_samples_split=2,\n",
       "                                                         min_weight_fraction_leaf=0.0,\n",
       "                                                         n_estimators=125,\n",
       "                                                         n_iter_no_change=None,\n",
       "                                                         presort='deprecated',\n",
       "                                                         random_state=1,\n",
       "                                                         subsample=1.0,\n",
       "                                                         tol=0.0001,\n",
       "                                                         validation_fraction=0.1,\n",
       "                                                         verbose=0,\n",
       "                                                         warm_start=False))],\n",
       "                 flatten_transform=True, n_jobs=None, voting='soft',\n",
       "                 weights=None)"
      ]
     },
     "execution_count": 354,
     "metadata": {},
     "output_type": "execute_result"
    }
   ],
   "source": [
    "gboost.fit(X_train,y_train)\n",
    "lgbm.fit(X_train,y_train)\n",
    "rf.fit(X_train,y_train)\n",
    "voting.fit(X_train,y_train)"
   ]
  },
  {
   "cell_type": "code",
   "execution_count": 355,
   "metadata": {},
   "outputs": [
    {
     "name": "stdout",
     "output_type": "stream",
     "text": [
      "Test Data\n",
      "Confusion Matrix:\n",
      " [[6653  356]\n",
      " [1278  713]]\n",
      "Accuracy of Test: 0.8184444444444444\n",
      "AUC of Test: 0.7788114714245206\n",
      "Classification Report of Test:\n",
      "               precision    recall  f1-score   support\n",
      "\n",
      "           0       0.84      0.95      0.89      7009\n",
      "           1       0.67      0.36      0.47      1991\n",
      "\n",
      "    accuracy                           0.82      9000\n",
      "   macro avg       0.75      0.65      0.68      9000\n",
      "weighted avg       0.80      0.82      0.80      9000\n",
      "\n"
     ]
    }
   ],
   "source": [
    "eval_metrics(gboost,X_test,y_test)"
   ]
  },
  {
   "cell_type": "code",
   "execution_count": 356,
   "metadata": {},
   "outputs": [
    {
     "name": "stdout",
     "output_type": "stream",
     "text": [
      "Test Data\n",
      "Confusion Matrix:\n",
      " [[5513 1496]\n",
      " [ 721 1270]]\n",
      "Accuracy of Test: 0.7536666666666667\n",
      "AUC of Test: 0.779233365668407\n",
      "Classification Report of Test:\n",
      "               precision    recall  f1-score   support\n",
      "\n",
      "           0       0.88      0.79      0.83      7009\n",
      "           1       0.46      0.64      0.53      1991\n",
      "\n",
      "    accuracy                           0.75      9000\n",
      "   macro avg       0.67      0.71      0.68      9000\n",
      "weighted avg       0.79      0.75      0.77      9000\n",
      "\n"
     ]
    }
   ],
   "source": [
    "eval_metrics(lgbm,X_test,y_test)"
   ]
  },
  {
   "cell_type": "code",
   "execution_count": 357,
   "metadata": {},
   "outputs": [
    {
     "name": "stdout",
     "output_type": "stream",
     "text": [
      "Test Data\n",
      "Confusion Matrix:\n",
      " [[5656 1353]\n",
      " [ 765 1226]]\n",
      "Accuracy of Test: 0.7646666666666667\n",
      "AUC of Test: 0.7758930739762804\n",
      "Classification Report of Test:\n",
      "               precision    recall  f1-score   support\n",
      "\n",
      "           0       0.88      0.81      0.84      7009\n",
      "           1       0.48      0.62      0.54      1991\n",
      "\n",
      "    accuracy                           0.76      9000\n",
      "   macro avg       0.68      0.71      0.69      9000\n",
      "weighted avg       0.79      0.76      0.77      9000\n",
      "\n"
     ]
    }
   ],
   "source": [
    "eval_metrics(rf,X_test,y_test)"
   ]
  },
  {
   "cell_type": "code",
   "execution_count": 358,
   "metadata": {},
   "outputs": [
    {
     "name": "stdout",
     "output_type": "stream",
     "text": [
      "Test Data\n",
      "Confusion Matrix:\n",
      " [[6197  812]\n",
      " [ 946 1045]]\n",
      "Accuracy of Test: 0.8046666666666666\n",
      "AUC of Test: 0.7811034589308615\n",
      "Classification Report of Test:\n",
      "               precision    recall  f1-score   support\n",
      "\n",
      "           0       0.87      0.88      0.88      7009\n",
      "           1       0.56      0.52      0.54      1991\n",
      "\n",
      "    accuracy                           0.80      9000\n",
      "   macro avg       0.72      0.70      0.71      9000\n",
      "weighted avg       0.80      0.80      0.80      9000\n",
      "\n"
     ]
    }
   ],
   "source": [
    "eval_metrics(voting,X_test,y_test)"
   ]
  },
  {
   "cell_type": "markdown",
   "metadata": {},
   "source": [
    "Comparing the scores of all models on test data we can see voting classifier is out performing all the other models.\n",
    "With 80.46% accuracy and auc score of 78.11%. Here we are more concern about auc score as our target is partial imbalance so 77% accuracy is not a big deal in this case.\n"
   ]
  },
  {
   "cell_type": "code",
   "execution_count": null,
   "metadata": {},
   "outputs": [],
   "source": []
  }
 ],
 "metadata": {
  "kernelspec": {
   "display_name": "Python 3",
   "language": "python",
   "name": "python3"
  },
  "language_info": {
   "codemirror_mode": {
    "name": "ipython",
    "version": 3
   },
   "file_extension": ".py",
   "mimetype": "text/x-python",
   "name": "python",
   "nbconvert_exporter": "python",
   "pygments_lexer": "ipython3",
   "version": "3.7.4"
  }
 },
 "nbformat": 4,
 "nbformat_minor": 2
}
